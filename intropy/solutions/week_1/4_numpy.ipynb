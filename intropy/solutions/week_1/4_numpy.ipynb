{
 "cells": [
  {
   "cell_type": "markdown",
   "metadata": {},
   "source": [
    "# Introduction to Numpy (tutorial)\n",
    "This notebook is about Numpy, Python's core library for numeric computing. Knowing how to use Numpy is *essential* in domains such as machine learning, neuroimaging analysis, and image processing.\n",
    "\n",
    "## Contents\n",
    "1. The *nd*array\n",
    "2. Indexing\n",
    "3. Array math\n",
    "4. Broadcasting\n",
    "\n",
    "Let's start by importing numpy, which is commonly done as follows:"
   ]
  },
  {
   "cell_type": "code",
   "execution_count": null,
   "metadata": {},
   "outputs": [],
   "source": [
    "import numpy as np"
   ]
  },
  {
   "cell_type": "markdown",
   "metadata": {},
   "source": [
    "## The *ndarray*\n",
    "The most important feature of Numpy is it's core data structure: the numpy *ndarray* (which stands for *n*-*d*imensional array, referring to the fact that the array may be of any dimension: 1D, 2D, 3D, 180D ... *n*D). This is, just like basic lists/dictionaries/integers/tuples, a data structure with its own syntax, operations, and methods, as we will explain below."
   ]
  },
  {
   "cell_type": "markdown",
   "metadata": {},
   "source": [
    "### Python lists vs. numpy arrays\n",
    "Basically, numpy arrays are a lot like Python lists. The major difference, however, is that *numpy arrays may contain only a single data-type*, while Python lists may contain different data-types within the same list.\n",
    "\n",
    "Let check this out:"
   ]
  },
  {
   "cell_type": "code",
   "execution_count": null,
   "metadata": {},
   "outputs": [],
   "source": [
    "# Python lists may contain mixed data-types: an integer, a float, a string, a list\n",
    "python_list = [1, 2.5, \"whatever\", [3, 4, 5]] \n",
    "\n",
    "for value in python_list:\n",
    "    \n",
    "    print(\"%s is a: %s\" % (str(value), type(value)))"
   ]
  },
  {
   "cell_type": "markdown",
   "metadata": {},
   "source": [
    "Unlike Python lists, numpy only allows entries of the same data-type. This difference between Python lists and numpy arrays is basically the same as R lists (allow multiple data-types) versus R matrices/arrays (only allow one data type), and is also the same as MATLAB cells (allow multiple data-types) versus MATLAB matrices (only allow one data type).\n",
    "\n",
    "In fact, if you try to make a numpy array with different data-types, numpy will force the entries into the same data-type (in a smart way), as is shown in the example below:"
   ]
  },
  {
   "cell_type": "code",
   "execution_count": null,
   "metadata": {},
   "outputs": [],
   "source": [
    "# Importantly, you often specify your arrays as Python lists first, and then convert them to numpy\n",
    "to_convert_to_numpy = [1, 2, 3.5]               # specify python list ...\n",
    "numpy_array = np.array(to_convert_to_numpy)     # ... and convert ('cast') it to numpy\n",
    "\n",
    "for entry in numpy_array:\n",
    "    \n",
    "    print(entry)\n",
    "    print('this is a: %s \\n' % type(entry))"
   ]
  },
  {
   "cell_type": "markdown",
   "metadata": {},
   "source": [
    "As you can see, Numpy converted our original list (to_convert_to_numpy), which contained both integers and floats, to an array with only floats! You might think that such a data structure that only allows one single data type is not ideal. However, the very fact that it only contains a single data-type makes operations on numpy arrays extremely fast. For example, loops over numpy arrays are often way faster than loops over python lists. This is because, internally, Python has to check the data-type of each loop entry before doing something with that entry. Because numpy arrays one allow a single data-type, it only has to check for the entries' data type **once**. If you imagine looping over an array or list of length 100,000, you probably understand that the numpy loop is way faster.\n",
    "\n",
    "Let's check out the speed difference between Python list operations and numpy array operations:"
   ]
  },
  {
   "cell_type": "code",
   "execution_count": null,
   "metadata": {},
   "outputs": [],
   "source": [
    "# %timeit is a cool 'feature' that you can use in Notebooks (no need to understand how it works)\n",
    "# it basically performs a computation that you specify a couple of times and prints how long it took on average\n",
    "results_python = %timeit -o [x * 2 for x in range(0, 100000)] "
   ]
  },
  {
   "cell_type": "markdown",
   "metadata": {},
   "source": [
    "And now let's do the same with numpy:"
   ]
  },
  {
   "cell_type": "code",
   "execution_count": null,
   "metadata": {},
   "outputs": [],
   "source": [
    "results_numpy = %timeit -o np.arange(0, 10000) * 2 \n",
    "\n",
    "ratio = results_python.average / results_numpy.average\n",
    "print(\"Numpy is %i times faster than base Python!\" % ratio)"
   ]
  },
  {
   "cell_type": "markdown",
   "metadata": {},
   "source": [
    "You see that Numpy *much* faster! This really matters when you start doing more complex operations or large arrays!"
   ]
  },
  {
   "cell_type": "markdown",
   "metadata": {},
   "source": [
    "### Creating numpy arrays\n",
    "As shown an earlier example, numpy arrays can be created as follows:\n",
    "\n",
    "1. Define a Python list, e.g. `my_list = [0, 1, 2]` \n",
    "2. Convert the list to a numpy array, e.g. `numpy_array = np.array(my_list)`\n",
    "\n",
    "Importantly, a simple Python list will be converted to a 1D numpy array, but a nested Python list will be converted to a 2D (or even higher-dimensional array). Nesting is simply combining different lists, separated by commans, as is shown here:"
   ]
  },
  {
   "cell_type": "code",
   "execution_count": null,
   "metadata": {},
   "outputs": [],
   "source": [
    "my_list = [1, 2, 3]\n",
    "my_array = np.array(my_list)\n",
    "\n",
    "print(\"A 1D (or 'flat') array:\")\n",
    "print(my_array, '\\n')\n",
    "\n",
    "my_nested_list = [[1, 2, 3],\n",
    "                  [4, 5, 6],\n",
    "                  [7, 8, 9]]\n",
    "\n",
    "my_2D_array = np.array(my_nested_list)\n",
    "print(\"A 2D array:\")\n",
    "print(my_2D_array)"
   ]
  },
  {
   "cell_type": "markdown",
   "metadata": {},
   "source": [
    "<div class='alert alert-warning'>\n",
    "    <b>ToDo</b>: Create the following 1D array:\n",
    "\n",
    "\\begin{align}\n",
    "\\begin{bmatrix}\n",
    "5 & 3 & 2 & 8 & 9\n",
    "\\end{bmatrix}\n",
    "\\end{align}\n",
    "\n",
    "and store it in a variable named <tt>vec</tt>.\n",
    "</div>"
   ]
  },
  {
   "cell_type": "code",
   "execution_count": null,
   "metadata": {
    "nbgrader": {
     "grade": false,
     "grade_id": "cell-da41de9e1c0f2c25",
     "locked": false,
     "schema_version": 3,
     "solution": true,
     "task": false
    },
    "tags": [
     "hide-cell"
    ]
   },
   "outputs": [],
   "source": [
    "\"\"\" Implement the ToDo here. \"\"\"\n",
    "### BEGIN SOLUTION\n",
    "vec = np.array([5, 3, 2, 8, 9])\n",
    "### END SOLUTION"
   ]
  },
  {
   "cell_type": "code",
   "execution_count": null,
   "metadata": {
    "nbgrader": {
     "grade": true,
     "grade_id": "cell-eb9acd3cc1e9d9bb",
     "locked": true,
     "points": 0,
     "schema_version": 3,
     "solution": false,
     "task": false
    }
   },
   "outputs": [],
   "source": [
    "\"\"\" Tests the above ToDo. \"\"\"\n",
    "if 'vec' not in dir():\n",
    "    raise ValueError(\"You haven't created the variable 'vec' yet!\")\n",
    "    \n",
    "if type(vec) != np.ndarray:\n",
    "    raise ValueError(\"vec is not a numpy array!\")\n",
    "    \n",
    "if vec.ndim != 1:\n",
    "    raise ValueError(\"vec is not a 1D array!\")\n",
    "\n",
    "if vec.tolist() != [5, 3, 2, 8, 9]:\n",
    "    raise ValueError(\"vec does not have the right contents ...\")\n",
    "    \n",
    "print(\"Yay!\")"
   ]
  },
  {
   "cell_type": "markdown",
   "metadata": {},
   "source": [
    "<div class='alert alert-warning'>\n",
    "    <b>ToDo</b>:\n",
    "    \n",
    "Create the following matrix (2D array):\n",
    "\n",
    "\\begin{align}\n",
    "\\begin{bmatrix}\n",
    "5 & 2 & 8 \\\\\n",
    "8 & 2 & 1 \\\\\n",
    "4 & 4 & 4 \\\\\n",
    "1 & 2 & 3\n",
    "\\end{bmatrix}\n",
    "\\end{align}\n",
    "\n",
    "and store it in a variable named <tt>arr_2d</tt>. Hint: start by creating a nested python list (like we did with the <tt>my_nested_list</tt> variable) and then convert it to numpy.\n",
    "</div>"
   ]
  },
  {
   "cell_type": "code",
   "execution_count": null,
   "metadata": {
    "nbgrader": {
     "grade": false,
     "grade_id": "cell-ec84b209aeba9b1e",
     "locked": false,
     "schema_version": 3,
     "solution": true,
     "task": false
    },
    "tags": [
     "hide-cell"
    ]
   },
   "outputs": [],
   "source": [
    "\"\"\" Implement the ToDo here. \"\"\"\n",
    "### BEGIN SOLUTION\n",
    "arr_2d = np.array([\n",
    "    [5, 2, 8],\n",
    "    [8, 2, 1],\n",
    "    [4, 4, 4],\n",
    "    [1, 2, 3]\n",
    "])\n",
    "### END SOLUTION"
   ]
  },
  {
   "cell_type": "code",
   "execution_count": null,
   "metadata": {
    "nbgrader": {
     "grade": true,
     "grade_id": "cell-f9862ec36d79de82",
     "locked": true,
     "points": 0,
     "schema_version": 3,
     "solution": false,
     "task": false
    }
   },
   "outputs": [],
   "source": [
    "\"\"\" Tests the above ToDo. \"\"\"\n",
    "if type(arr_2d) != np.ndarray:\n",
    "    raise ValueError(\"arr_2d is not a numpy array!\")\n",
    "    \n",
    "if arr_2d.shape != (4, 3):\n",
    "    raise ValueError(\"arr_2d does not have the right shape!\")\n",
    "    \n",
    "print(\"Yes! Well done!\")"
   ]
  },
  {
   "cell_type": "markdown",
   "metadata": {},
   "source": [
    "<div class='alert alert-warning'>\n",
    "    <b>ToDo</b> (optional): Let's try something more difficult! Create a 3D array with dimensions $2 \\times 2 \\times 2$ with consecutive numbers starting at 1 and store this in a variable named <tt>arr_3d</tt>. So <tt>arr_3d[0, 0, 0]</tt> should evaluate to 1, <tt>arr_3d[0, 0, 1]</tt> should evaluate to 2, <tt>arr_3d[0, 1, 0]</tt> evaluates to 3, etc.\n",
    "</div>"
   ]
  },
  {
   "cell_type": "code",
   "execution_count": null,
   "metadata": {
    "nbgrader": {
     "grade": false,
     "grade_id": "cell-7faa375ceec83519",
     "locked": false,
     "schema_version": 3,
     "solution": true,
     "task": false
    },
    "tags": [
     "hide-cell"
    ]
   },
   "outputs": [],
   "source": [
    "\"\"\" Implement the ToDo here. \"\"\"\n",
    "### BEGIN SOLUTION\n",
    "arr_3d = np.array([\n",
    "    [\n",
    "        [1, 2],\n",
    "        [3, 4]\n",
    "    ],\n",
    "    [\n",
    "        [5, 6],\n",
    "        [7, 8]\n",
    "    ]\n",
    "])\n",
    "### END SOLUTION"
   ]
  },
  {
   "cell_type": "code",
   "execution_count": null,
   "metadata": {
    "nbgrader": {
     "grade": true,
     "grade_id": "cell-33350d49c5111e44",
     "locked": true,
     "points": 0,
     "schema_version": 3,
     "solution": false,
     "task": false
    }
   },
   "outputs": [],
   "source": [
    "\"\"\" Tests the above ToDo. \"\"\"\n",
    "if arr_3d.shape != (2, 2, 2):\n",
    "    raise ValueError(\"The array does not have the right dimensions!\")\n",
    "\n",
    "if arr_3d[0, 0, 0] != 1:\n",
    "    raise ValueError(\"Hmm, something went wrong ...\")\n",
    "\n",
    "if arr_3d[0, 0, 1] != 2:\n",
    "    raise ValueError(\"Hmm, something went wrong ...\")\n",
    "    \n",
    "if arr_3d[1, 1, 1] != 8:\n",
    "    raise ValueError(\"Hmm, something went wrong ...\")"
   ]
  },
  {
   "cell_type": "markdown",
   "metadata": {},
   "source": [
    "As you can imagine, creating numpy arrays from nested lists becomes cumbersome if you want to create (large) arrays with more than 2 dimensions. There are, fortunately, a lot of other ways to create ('initialize') large, high-dimensional numpy arrays. One often-used method is to create an array with zeros using the numpy function `np.zeros`. This function takes one (mandatory) argument, which is a tuple with the dimensions of your desired array:"
   ]
  },
  {
   "cell_type": "code",
   "execution_count": null,
   "metadata": {},
   "outputs": [],
   "source": [
    "my_desired_dimensions = (2, 5) # suppose I want to create a matrix with zeros of size 2 by 5\n",
    "my_array = np.zeros(my_desired_dimensions)\n",
    "\n",
    "print(my_array)"
   ]
  },
  {
   "cell_type": "markdown",
   "metadata": {},
   "source": [
    "<div class='alert alert-warning'>\n",
    "    <b>ToDo</b>: Using the <tt>np.zeros</tt> function, create a five dimensional array of shape $2 \\times 3 \\times 5 \\times 3 \\times 7$ and store it in a variable named <tt>array_5d</tt>.\n",
    "</div>"
   ]
  },
  {
   "cell_type": "code",
   "execution_count": null,
   "metadata": {
    "nbgrader": {
     "grade": false,
     "grade_id": "cell-ef19f7db953eecc1",
     "locked": false,
     "schema_version": 3,
     "solution": true
    },
    "tags": [
     "hide-cell"
    ]
   },
   "outputs": [],
   "source": [
    "\"\"\" Implement the ToDo here. \"\"\"\n",
    "### BEGIN SOLUTION\n",
    "array_5d = np.zeros((2, 3, 5, 3, 7))\n",
    "### END SOLUTION"
   ]
  },
  {
   "cell_type": "code",
   "execution_count": null,
   "metadata": {
    "nbgrader": {
     "grade": true,
     "grade_id": "cell-1be0380d2ed4df4f",
     "locked": true,
     "points": 0,
     "schema_version": 3,
     "solution": false
    }
   },
   "outputs": [],
   "source": [
    "\"\"\" Tests the above ToDo. \"\"\"\n",
    "from tests import test_create_array_with_zeros\n",
    "test_create_array_with_zeros(array_5d)"
   ]
  },
  {
   "cell_type": "markdown",
   "metadata": {},
   "source": [
    "Using arrays with zeros is often used in what is called 'pre-allocation', in which you create an 'empty' array with only zeros and for example, 'fill' that array in a loop.\n",
    "\n",
    "Below, we show you an example in which we pre-allocate an array with 5 zeros, and fill that in a for-loop with the squares of 1 - 5. Try to understand how it works! (You have to do something similar in the next ToDo!)"
   ]
  },
  {
   "cell_type": "code",
   "execution_count": null,
   "metadata": {},
   "outputs": [],
   "source": [
    "my_array = np.zeros(5)\n",
    "\n",
    "print('Original zeros-array')\n",
    "print(my_array)\n",
    "\n",
    "for i in range(5):  # notice the range function here! This loop now iterates over [0, 1, 2, 3, 4]\n",
    "    number_to_calculate_the_square_of = i + 1\n",
    "    my_array[i] = number_to_calculate_the_square_of ** 2\n",
    "\n",
    "print('\\nFilled array')\n",
    "print(my_array)"
   ]
  },
  {
   "cell_type": "markdown",
   "metadata": {},
   "source": [
    "<div class='alert alert-warning'>\n",
    "<b>ToDo</b>: Write a loop in which you fill each value in the variable <tt>my_array2</tt> with the value 1 divided by the current index plus one. So, suppose the index (usually <tt>i</tt>, like the last example) is 3, then you should fill <tt>my_array2</tt> at index <tt>i</tt> with <tt>1 / (3 + 1)</tt>.\n",
    "</div>"
   ]
  },
  {
   "cell_type": "code",
   "execution_count": null,
   "metadata": {
    "nbgrader": {
     "grade": false,
     "grade_id": "cell-83008cc6c353713c",
     "locked": false,
     "schema_version": 3,
     "solution": true
    },
    "tags": [
     "hide-cell"
    ]
   },
   "outputs": [],
   "source": [
    "\"\"\" Implement the ToDo here. \"\"\"\n",
    "my_array2 = np.zeros(8)\n",
    "\n",
    "### BEGIN SOLUTION\n",
    "for i in range(8):\n",
    "    my_array2[i] = 1 / (i + 1)\n",
    "### END SOLUTION"
   ]
  },
  {
   "cell_type": "code",
   "execution_count": null,
   "metadata": {
    "nbgrader": {
     "grade": true,
     "grade_id": "cell-f4f2daf173abb269",
     "locked": true,
     "points": 0,
     "schema_version": 3,
     "solution": false
    }
   },
   "outputs": [],
   "source": [
    "\"\"\" Tests the above ToDo. \"\"\"\n",
    "from tests import test_fill_array_with_complement\n",
    "test_fill_array_with_complement(my_array2)"
   ]
  },
  {
   "cell_type": "markdown",
   "metadata": {},
   "source": [
    "In addition to `np.zeros`, you can create numpy arrays using other functions, like `np.ones` and `random` from the `np.random` module:"
   ]
  },
  {
   "cell_type": "code",
   "execution_count": null,
   "metadata": {},
   "outputs": [],
   "source": [
    "ones = np.ones((5, 10)) # create an array with ones\n",
    "print(ones, '\\n')\n",
    "\n",
    "rndom = np.random.random((5, 10)) # Create an array filled with random values (0 - 1 uniform)\n",
    "print(rndom)"
   ]
  },
  {
   "cell_type": "markdown",
   "metadata": {},
   "source": [
    "## Numpy indexing\n",
    "Indexing (extracting a single value of an array) and slicing (extracting multiple values - a subset - from an array) of numpy arrays is largely the same as with regular Python lists and data structures from other scientific computing languages such as R and MATLAB. Let's check out a couple of examples of a 1D array:"
   ]
  },
  {
   "cell_type": "code",
   "execution_count": null,
   "metadata": {},
   "outputs": [],
   "source": [
    "my_array = np.arange(10, 21)  # numpy equivalent of list(range(10, 21))\n",
    "print('Full array:')\n",
    "print(my_array, '\\n') "
   ]
  },
  {
   "cell_type": "code",
   "execution_count": null,
   "metadata": {},
   "outputs": [],
   "source": [
    "print(\"Index the first element:\")\n",
    "print(my_array[0])"
   ]
  },
  {
   "cell_type": "code",
   "execution_count": null,
   "metadata": {},
   "outputs": [],
   "source": [
    "print(\"Index the second-to-last element:\")\n",
    "print(my_array[-2])"
   ]
  },
  {
   "cell_type": "code",
   "execution_count": null,
   "metadata": {},
   "outputs": [],
   "source": [
    "print(\"Slice from 5 until (not including!) 8\")\n",
    "print(my_array[5:8])"
   ]
  },
  {
   "cell_type": "code",
   "execution_count": null,
   "metadata": {},
   "outputs": [],
   "source": [
    "print(\"Slice from beginning until 4\")\n",
    "print(my_array[:4])"
   ]
  },
  {
   "cell_type": "markdown",
   "metadata": {},
   "source": [
    "Setting values in numpy arrays works the same way as lists:"
   ]
  },
  {
   "cell_type": "code",
   "execution_count": null,
   "metadata": {},
   "outputs": [],
   "source": [
    "my_array = np.arange(10, 21)\n",
    "my_array[0] = 10000\n",
    "print(my_array)\n",
    "\n",
    "my_array[5:7] = 0\n",
    "print(my_array)"
   ]
  },
  {
   "cell_type": "markdown",
   "metadata": {},
   "source": [
    "<div class='alert alert-warning'>\n",
    "    <b>ToDo</b> (1 point): In the array <tt>my_array</tt> below, set all odd indices (i.e., the first element, the third element, the fifth element, etc.) to the value <tt>0.0</tt> <em>in a single statement using a slice</em> (i.e., not a for-loop).\n",
    "</div>"
   ]
  },
  {
   "cell_type": "code",
   "execution_count": null,
   "metadata": {
    "nbgrader": {
     "grade": false,
     "grade_id": "cell-586a858efcdccc4a",
     "locked": false,
     "schema_version": 3,
     "solution": true
    },
    "tags": [
     "hide-cell"
    ]
   },
   "outputs": [],
   "source": [
    "\"\"\" Implement the ToDo here. \"\"\"\n",
    "my_array = np.arange(3, 25)\n",
    "\n",
    "### BEGIN SOLUTION\n",
    "my_array[1::2] = 0.0\n",
    "### END SOLUTION"
   ]
  },
  {
   "cell_type": "code",
   "execution_count": null,
   "metadata": {
    "nbgrader": {
     "grade": true,
     "grade_id": "cell-c21cc459312c74b3",
     "locked": true,
     "points": 0,
     "schema_version": 3,
     "solution": false
    }
   },
   "outputs": [],
   "source": [
    "''' Tests the above ToDo. '''\n",
    "from tests import test_set_odd_indices_to_zero\n",
    "test_set_odd_indices_to_zero(my_array)"
   ]
  },
  {
   "cell_type": "markdown",
   "metadata": {},
   "source": [
    "### Multidimensional indexing\n",
    "Often, instead of working on and indexing 1D array, we'll work with multi-dimensional (>1D) arrays. Indexing multi-dimensional arrays is, again, quite similar to other scientific computing languages. \n",
    "\n",
    "Like indexing Python lists, indexing multidimensional numpy arrays is done with square brackets `[]`, in which you can put as many comma-delimited numbers as there are dimensions in your array. \n",
    "\n",
    "For example, suppose you have a 2D array of shape $3 \\times 3$ and you want to index the value in the first row and first column. You would do this as follows:"
   ]
  },
  {
   "cell_type": "code",
   "execution_count": null,
   "metadata": {},
   "outputs": [],
   "source": [
    "my_array = np.zeros((3, 3)) # 3 by 3 array with zeros\n",
    "indexed_value = my_array[0, 0]\n",
    "print(\"Value of first row and first column: %.1f\" % indexed_value)"
   ]
  },
  {
   "cell_type": "markdown",
   "metadata": {},
   "source": [
    "<div class='alert alert-warning'>\n",
    "<b>ToDo</b>: Using multidimensional indexing, set the value in the last row and last column of the 2D array <tt>my_array</tt> to <tt>1.0</tt>. In other words, set the value in the lower-right \"corner\" of the 2D array to 1.0.\n",
    "</div>"
   ]
  },
  {
   "cell_type": "code",
   "execution_count": null,
   "metadata": {
    "nbgrader": {
     "grade": false,
     "grade_id": "cell-6ab84bc4c9f46867",
     "locked": false,
     "schema_version": 3,
     "solution": true
    },
    "tags": [
     "hide-cell"
    ]
   },
   "outputs": [],
   "source": [
    "\"\"\" Implement the ToDo here. \"\"\"\n",
    "my_array = np.zeros((3, 3))\n",
    "\n",
    "print(my_array)\n",
    "\n",
    "# ToDo: set the value in the lower right corner to 1\n",
    "\n",
    "### BEGIN SOLUTION\n",
    "my_array[-1, -1] = 1.0\n",
    "### END SOLUTION"
   ]
  },
  {
   "cell_type": "code",
   "execution_count": null,
   "metadata": {
    "nbgrader": {
     "grade": true,
     "grade_id": "cell-8053ddb5715da50d",
     "locked": true,
     "points": 0,
     "schema_version": 3,
     "solution": false
    }
   },
   "outputs": [],
   "source": [
    "\"\"\" Tests the ToDo above. \"\"\"\n",
    "from tests import test_set_lower_right_value_to_one\n",
    "test_set_lower_right_value_to_one(my_array)"
   ]
  },
  {
   "cell_type": "markdown",
   "metadata": {},
   "source": [
    "In addition to setting specific slices to specific values, you can also extract sub-arrays using slicing/indexing. An important construct here is that you can use a single colon `:` to select all values from a particular dimension. For example, if you want to select all column-values (second dimension) from only the first row (first dimension), do this:\n",
    "\n",
    "```\n",
    "some_2d_arr[0, :]\n",
    "```\n",
    "\n",
    "We'll show you some examples below:"
   ]
  },
  {
   "cell_type": "code",
   "execution_count": null,
   "metadata": {},
   "outputs": [],
   "source": [
    "my_array = np.array([[1, 2, 3],\n",
    "                     [4, 5, 6],\n",
    "                     [7, 8, 9]])\n",
    "\n",
    "print(my_array, '\\n')\n",
    "\n",
    "all_column_values_from_first_row = my_array[0, :]\n",
    "print('First row')\n",
    "print(all_column_values_from_first_row, '\\n')\n",
    "\n",
    "all_row_values_from_first_col = my_array[:, 0]\n",
    "print('First column')\n",
    "print(all_row_values_from_first_col)"
   ]
  },
  {
   "cell_type": "markdown",
   "metadata": {},
   "source": [
    "So far, we only talked about 2D arrays, which are relatively easy to 'understand'. In neuroimaging, however, we usually work with 3D, 4D, or even higher-dimensional arrays. These arrays are great for organizing data, but they are somewhat unintuitive. This takes some time to get used to!\n",
    "\n",
    "To get you used to thinking in more than 2 (or 3) dimensions, consider the following scenario. Suppose that a researcher wants to test the efficacy of a particular medicine against high blood pressure. To do so, she/he measures the (average systolic) blood pressure of a group of twenty subjects every hour for 30 days when they're not on the medication. The same subjects are then again measured for another 30 days, but then when they're on medication.\n",
    "\n",
    "After this period of data collection, the researcher has $20\\ \\mathrm{(subjects)}\\ \\times\\ 24\\ \\mathrm{(hours)}\\ \\times\\ 30\\ \\mathrm{(days)}\\ \\times\\ 2\\ \\mathrm{(conditions: off/on)} = 28800$ measurements! We can then organize the data in a 4D array, in which each factor (subjects/hours/days/conditions) represents a separate dimension (also called \"axis\") of our array!\\*\n",
    "\n",
    "---\n",
    "\\* Note that this type of data is perhaps best represented in a \"table-like\" structure, such as a Dataframe in R or a Pandas DataFrame, the Python-equivalent of R's dataframe). But you can ignore that for the sake of this example."
   ]
  },
  {
   "cell_type": "markdown",
   "metadata": {},
   "source": [
    "So, let's generate some random data (from a normal distribution to generate 'realistic' blood pressure data) that could represent this blood pressure dataset:"
   ]
  },
  {
   "cell_type": "code",
   "execution_count": null,
   "metadata": {},
   "outputs": [],
   "source": [
    "np.random.seed(42)  # this is not important for now\n",
    "bp_data = np.random.normal(loc=100, scale=5, size=(20, 24, 30, 2))"
   ]
  },
  {
   "cell_type": "markdown",
   "metadata": {},
   "source": [
    "(Note that we're not printing the `bp_data` variable here, because it's way too much to visualize/interpret at once anyway!)\n",
    "\n",
    "Now, suppose I would want to extract the blood pressure of subject 5 at 09.00 (AM) in the morning at day 21 when he/she was *not* on medication. In that case, I would do:"
   ]
  },
  {
   "cell_type": "code",
   "execution_count": null,
   "metadata": {},
   "outputs": [],
   "source": [
    "# Note that I count midnight as the first measurement\n",
    "this_particular_datapoint = bp_data[4, 8, 20, 0]\n",
    "print(\"Blood pressure of participant 5 at 09.00 (AM) on day 21 in \"\n",
    "      \"the no-medication (off) condition is %.3f\" % this_particular_datapoint)\n",
    "\n",
    "# Also, remember that Python is zero-based, so e.g. participant 5 is indexed by index 4!"
   ]
  },
  {
   "cell_type": "markdown",
   "metadata": {},
   "source": [
    "Try to remember this: *in multidimensional arrays, each dimension (axis) represents a different \"attribute\" of your data (e.g. subjects, time, condition, etc.)*. This concept is very important to understand in, for example, functional MRI analysis (which revolves around 4D data: 3 spatial dimensions and 1 time dimension)!"
   ]
  },
  {
   "cell_type": "markdown",
   "metadata": {},
   "source": [
    "<div class='alert alert-warning'>\n",
    "<b>ToDo</b>: Consider the blood-pressure dataset again. In the code-cell below, extract from all participants all data from day 18 in the medication (\"on\") condition. You'll have to use slices with the single <tt>:</tt>! Store the results of your index-operation in the variable <tt>day_18_condition_on</tt>.\n",
    "</div>"
   ]
  },
  {
   "cell_type": "code",
   "execution_count": null,
   "metadata": {
    "nbgrader": {
     "grade": false,
     "grade_id": "cell-3a374e09098c2611",
     "locked": false,
     "schema_version": 3,
     "solution": true
    },
    "tags": [
     "hide-cell"
    ]
   },
   "outputs": [],
   "source": [
    "\"\"\" Implement the ToDo here. \"\"\"\n",
    "### BEGIN SOLUTION\n",
    "day_18_condition_on = bp_data[:, :, 17, 1]\n",
    "### END SOLUTION"
   ]
  },
  {
   "cell_type": "code",
   "execution_count": null,
   "metadata": {
    "nbgrader": {
     "grade": true,
     "grade_id": "cell-e61a83c4f632675d",
     "locked": true,
     "points": 0,
     "schema_version": 3,
     "solution": false
    }
   },
   "outputs": [],
   "source": [
    "\"\"\" Tests the above ToDo. \"\"\"\n",
    "from tests import test_bloodpressure_index\n",
    "test_bloodpressure_index(day_18_condition_on)"
   ]
  },
  {
   "cell_type": "markdown",
   "metadata": {},
   "source": [
    "Multidimensional indexing using slices (especially the single colon `:` slice, i.e., selecting everything) is very common in scientific programming such as neuroimaging analyses. There is, however, yet another way of (multidimensional) indexing called \"boolean indexing\". \n",
    "\n",
    "In this type of indexing, you index an array with a boolean array (i.e. array with True and False values) of the same shape. Basically, when you're indexing the array `my_array` with boolean array `bool_array`, you're saying: \"give me all values in `my_array` that are `True` at the same location in `bool_array`!\"\n",
    "\n",
    "Let's look at an example:"
   ]
  },
  {
   "cell_type": "code",
   "execution_count": null,
   "metadata": {},
   "outputs": [],
   "source": [
    "my_array = np.array([[1, 2, 3],\n",
    "                     [4, 5, 6],\n",
    "                     [7, 8, 9]])\n",
    "\n",
    "print(\"The original array:\\n\")\n",
    "print(my_array, '\\n')\n",
    "\n",
    "bool_array = np.array([[True, False, True],\n",
    "                       [False, True, False],\n",
    "                       [True, False, True]])\n",
    "\n",
    "print(\"The boolean array:\\n\")\n",
    "print(bool_array, '\\n')\n",
    "\n",
    "print('Result of indexing my_array with bool_array:\\n')\n",
    "print(my_array[bool_array])"
   ]
  },
  {
   "cell_type": "markdown",
   "metadata": {},
   "source": [
    "Usually, you do not write out the boolean array in full (as we did above), but you base it on the data itself to \"filter\" it according to some criterion formalized as a logical statement (i.e., using the boolean operators >, <, ==, or !=). For example, suppose I want to extract only the values above 6 from the `my_array` variable in the above example. \n",
    "\n",
    "To do so, I could do the following:"
   ]
  },
  {
   "cell_type": "code",
   "execution_count": null,
   "metadata": {},
   "outputs": [],
   "source": [
    "my_array = np.array([[1, 2, 3],\n",
    "                     [4, 5, 6],\n",
    "                     [7, 8, 9]])\n",
    "\n",
    "print(\"The original array:\\n\")\n",
    "print(my_array, '\\n')\n",
    "\n",
    "bool_array = my_array > 6\n",
    "\n",
    "print(\"The boolean array:\\n\")\n",
    "print(bool_array, '\\n')\n",
    "\n",
    "print('Result of indexing my_array with bool_array:\\n')\n",
    "print(my_array[bool_array])"
   ]
  },
  {
   "cell_type": "markdown",
   "metadata": {},
   "source": [
    "Easy, right? Now try it yourself in the next ToDo!"
   ]
  },
  {
   "cell_type": "markdown",
   "metadata": {},
   "source": [
    "<div class='alert alert-warning'>\n",
    "<b>ToDo</b>: Use a boolean index to extract all values whose square (i.e. $x^2$) is larger than 4 from the array (<tt>my_array</tt>) below. Store the results in a variable with the name <tt>square_is_larger_than_4</tt>.\n",
    "</div>"
   ]
  },
  {
   "cell_type": "code",
   "execution_count": null,
   "metadata": {
    "nbgrader": {
     "grade": false,
     "grade_id": "cell-e7444e2dc55212f2",
     "locked": false,
     "schema_version": 3,
     "solution": true
    },
    "tags": [
     "hide-cell"
    ]
   },
   "outputs": [],
   "source": [
    "\"\"\" Implement the ToDo here. \"\"\"\n",
    "my_array = np.array([[0, 1, -1, -2],\n",
    "                     [2, -5, 1, 4],\n",
    "                     [10, -2, -4, 20]])\n",
    "\n",
    "# Make a new boolean array below (name it whatever you want) ...\n",
    "\n",
    "# And use it to index my_array and store it in a variable `square_is_larger_than_4`.\n",
    "\n",
    "### BEGIN SOLUTION\n",
    "square_is_larger_than_4 = my_array[my_array ** 2 > 4]\n",
    "### END SOLUTION"
   ]
  },
  {
   "cell_type": "code",
   "execution_count": null,
   "metadata": {
    "nbgrader": {
     "grade": true,
     "grade_id": "cell-9078457efdeb3498",
     "locked": true,
     "points": 0,
     "schema_version": 3,
     "solution": false
    }
   },
   "outputs": [],
   "source": [
    "\"\"\" Tests the above ToDo. \"\"\"\n",
    "from tests import test_boolean_indexing\n",
    "test_boolean_indexing(square_is_larger_than_4)"
   ]
  },
  {
   "cell_type": "markdown",
   "metadata": {},
   "source": [
    "Again, it's very important to understand how to (effectively) index multidimensional numpy arrays using slices and boolean indexing, as we'll use it a lot in this course!"
   ]
  },
  {
   "cell_type": "markdown",
   "metadata": {},
   "source": [
    "## Data-types\n",
    "Every numpy array is a grid of values of the same type. Numpy provides a large set of numeric datatypes that you can use to construct arrays. Numpy guesses the datatype when you create an array, but functions that construct arrays usually also include an optional argument to explicitly specify the datatype.\n",
    "\n",
    "Here are a couple of examples:"
   ]
  },
  {
   "cell_type": "code",
   "execution_count": null,
   "metadata": {},
   "outputs": [],
   "source": [
    "x1 = np.array([1, 2])  # Let numpy choose the datatype (here: int)\n",
    "x2 = np.array([1.0, 2.0])  # Let numpy choose the datatype (here: float)\n",
    "x3 = np.array([1, 2], dtype=np.float64)  # Force a particular datatype (input: int, but converted to 64bit float)\n",
    "x4 = np.array([-1, 0, 1, 2], dtype=bool)  # Convert ints to booleans! 0 -> False, everthing else -> True \n",
    "\n",
    "print('%r (%s)' % (x1, type(x1[0])))\n",
    "print('%r (%s)' % (x2, type(x2[0])))\n",
    "print('%r (%s)' % (x3, type(x3[0])))\n",
    "print('%r (%s)' % (x4, type(x4[0])))"
   ]
  },
  {
   "cell_type": "markdown",
   "metadata": {},
   "source": [
    "Note that, after creating the array, you can still change the datatype by using the numpy method `astype()`!"
   ]
  },
  {
   "cell_type": "code",
   "execution_count": null,
   "metadata": {},
   "outputs": [],
   "source": [
    "x = np.array([1, 2, 3, 4])\n",
    "print(type(x[0]))\n",
    "\n",
    "# Now convert it to floasts!\n",
    "x = x.astype(float)  # or astype(np.float)\n",
    "print(type(x[0]))"
   ]
  },
  {
   "cell_type": "markdown",
   "metadata": {},
   "source": [
    "<div class='alert alert-warning'>\n",
    "    <b>ToDo</b>: Below, we've defined a boolean array named <tt>bool_array</tt>. Convert it to an array with integers and store it in a new array called <tt>bool2int_array</tt>. Check out the values of the new array!\n",
    "</div>"
   ]
  },
  {
   "cell_type": "code",
   "execution_count": null,
   "metadata": {
    "nbgrader": {
     "grade": false,
     "grade_id": "cell-36dff506b5200a03",
     "locked": false,
     "schema_version": 3,
     "solution": true
    },
    "tags": [
     "hide-cell"
    ]
   },
   "outputs": [],
   "source": [
    "\"\"\" Implement the ToDo here. \"\"\"\n",
    "bool_array = np.array([True, True, False, False, True])\n",
    "### BEGIN SOLUTION\n",
    "bool2int_array = bool_array.astype(int)\n",
    "print(bool2int_array)\n",
    "### END SOLUTION"
   ]
  },
  {
   "cell_type": "code",
   "execution_count": null,
   "metadata": {
    "nbgrader": {
     "grade": true,
     "grade_id": "cell-688565f12ea25dfc",
     "locked": true,
     "points": 0,
     "schema_version": 3,
     "solution": false
    }
   },
   "outputs": [],
   "source": [
    "\"\"\" Tests the above ToDo (not for points). \"\"\"\n",
    "np.testing.assert_array_equal(bool2int_array, np.array([1, 1, 0, 0, 1]))\n",
    "print(\"Well done!\")"
   ]
  },
  {
   "cell_type": "markdown",
   "metadata": {},
   "source": [
    "## Methods vs. functions\n",
    "In the previous notebooks, you've learned that, in addition to functions, 'methods' exist that are like functions of an object. You've seen examples of list methods, e.g. `my_list.append(1)`, and string methods, e.g. `my_string.replace('a', 'b')`.\n",
    "\n",
    "Like lists and strings, numpy arrays have a lot of convenient methods that you can call (like the `astype` method we saw earlier). Again, this is just like a function, but then applied to itself. Often, numpy provides both a function and method for simple operations. \n",
    "\n",
    "Let's look at an example: "
   ]
  },
  {
   "cell_type": "code",
   "execution_count": null,
   "metadata": {},
   "outputs": [],
   "source": [
    "my_array = np.arange(10)  # creates a numpy array from 0 until (excluding!) 10\n",
    "print(my_array, '\\n')\n",
    "\n",
    "mean_array = np.mean(my_array)\n",
    "print('The mean of the array is: %f' % mean_array)\n",
    "\n",
    "mean_array2 = my_array.mean() \n",
    "print('The mean of the array (computed by its corresponding method) is: %f' % mean_array2)\n",
    "\n",
    "print('Is the results from the numpy function the same as '\n",
    "      'the corresponding method? Answer: %s' % str(mean_array == mean_array2))"
   ]
  },
  {
   "cell_type": "markdown",
   "metadata": {},
   "source": [
    "If there is both a function and a method for the operation you want to apply to the array, it really doesn't matter what you choose! Let's look at some more (often used) methods of numpy ndarrays:"
   ]
  },
  {
   "cell_type": "code",
   "execution_count": null,
   "metadata": {},
   "outputs": [],
   "source": [
    "my_array = np.array([[1, 2, 3],\n",
    "                     [4, 5, 6],\n",
    "                     [7, 8, 9]])\n",
    "\n",
    "std_my_array = my_array.std()  # same as np.std(array)\n",
    "print(\"Standard deviation of my_array: %.3f\" % std_my_array, '\\n')\n",
    "\n",
    "transpose_my_array = my_array.T  # same as np.transpose(array)\n",
    "print(\"Transpose of my_array:\\n%r\" % transpose_my_array, '\\n')\n",
    "\n",
    "min_my_array = my_array.min()  # same as np.min(array)\n",
    "print(\"Minimum of my_array: %i\" % my_array.min(), '\\n')\n",
    "\n",
    "max_my_array = my_array.max()  # same as np.max(array)\n",
    "print(\"Maximum of my_array: %i\" % max_my_array, '\\n')\n",
    "\n",
    "sum_my_array = my_array.sum()  # same as np.sum(array)\n",
    "print(\"Sum of my_array: %i\" % sum_my_array, '\\n')"
   ]
  },
  {
   "cell_type": "markdown",
   "metadata": {},
   "source": [
    "Importantly, a method may or may not take arguments (input).\n",
    "If no arguments are given, it just looks like \"object.method()\", i.e. two enclosing brackets with nothing in between.\n",
    "However, a method may take one or more arguments (like the my_list.append(1) method)! \n",
    "This argument may be named or unnamed - doesn't matter. An example:"
   ]
  },
  {
   "cell_type": "code",
   "execution_count": null,
   "metadata": {},
   "outputs": [],
   "source": [
    "my_array2 = np.random.random((3, 3))\n",
    "print('Original array:')\n",
    "print(my_array2, '\\n')\n",
    "\n",
    "print('Use the round() method with the argument 3:')\n",
    "print(my_array2.round(3), '\\n')\n",
    "\n",
    "print('Use the round() method with the named argument 5:')\n",
    "print(my_array2.round(decimals=5), '\\n')"
   ]
  },
  {
   "cell_type": "markdown",
   "metadata": {},
   "source": [
    "In addition to the methods listed above, you'll probably see the following methods a lot in the code of others.\n",
    "\n",
    "Reshaping arrays:"
   ]
  },
  {
   "cell_type": "code",
   "execution_count": null,
   "metadata": {},
   "outputs": [],
   "source": [
    "my_array = np.arange(10)\n",
    "print(my_array.reshape((5, 2))) # reshape to desired shape"
   ]
  },
  {
   "cell_type": "markdown",
   "metadata": {},
   "source": [
    "Ravel (\"flatten\") an array:"
   ]
  },
  {
   "cell_type": "code",
   "execution_count": null,
   "metadata": {},
   "outputs": [],
   "source": [
    "temporary = my_array.reshape((5, 2))\n",
    "print(\"Initial shape: %s\" % (temporary.shape,))\n",
    "print(temporary.ravel()) # unroll multi-dimensional array to single 1D array\n",
    "print(\"Shape after ravel(): %s\" % (temporary.ravel().shape,))"
   ]
  },
  {
   "cell_type": "code",
   "execution_count": null,
   "metadata": {},
   "outputs": [],
   "source": [
    "# .dot() does matrix multiplication (dot product: https://en.wikipedia.org/wiki/Dot_product)\n",
    "# This linear algebra operation is used very often in neuroimaging research \n",
    "# (which depends heavily on the General Linear Model!)\n",
    "array1 = np.array([0, 1, 2, 3])\n",
    "array2 = np.array([4, 5, 6, 7])\n",
    "\n",
    "dot_product = array1.dot(array2)\n",
    "print(dot_product)"
   ]
  },
  {
   "cell_type": "markdown",
   "metadata": {},
   "source": [
    "<div class='alert alert-warning'>\n",
    "<b>ToDo</b> (1 point): Let's practice writing functions some more. Complete the function below, named <tt>calculate_range</tt>. This function takes  a single input-argument &mdash; a 1D numpy array &mdash; and subsequently calculates the <a href=\"https://en.wikipedia.org/wiki/Range_(statistics)\">range</a> of the array. The range is the difference between the maximum and minimum of any given array (vector) $x$:\n",
    "\n",
    "\\begin{align}\n",
    "\\mathrm{range}(x) = \\max(x) - \\min(x)\n",
    "\\end{align}\n",
    "\n",
    "You may use the corresponding numpy min/max methods or functions in your custom function, doesn't matter. Don't forget to explicitly return the value of the range! \n",
    "\n",
    "Note: this custom function that implements the *mathematical* formula for a vector's range is completely unrelated to the <em>Python function</em> <tt>range</tt> that is often used in for-loops! \n",
    "</div>"
   ]
  },
  {
   "cell_type": "code",
   "execution_count": null,
   "metadata": {
    "nbgrader": {
     "grade": false,
     "grade_id": "cell-2efc174e66bba2aa",
     "locked": false,
     "schema_version": 3,
     "solution": true
    },
    "tags": [
     "hide-cell"
    ]
   },
   "outputs": [],
   "source": [
    "\"\"\" Implement the ToDo here by completing the function. \"\"\"\n",
    "def calculate_range(arr):\n",
    "    ''' Calculate the range of an array.\n",
    "    \n",
    "    Parameters\n",
    "    ----------\n",
    "    arr : a 1D numpy array\n",
    "    \n",
    "    Returns\n",
    "    -------\n",
    "    The range of the input arr\n",
    "    '''\n",
    "    \n",
    "    ### BEGIN SOLUTION\n",
    "    return arr.max() - arr.min()\n",
    "    ### END SOLUTION"
   ]
  },
  {
   "cell_type": "code",
   "execution_count": null,
   "metadata": {
    "nbgrader": {
     "grade": true,
     "grade_id": "cell-e9339bd405181849",
     "locked": true,
     "points": 0,
     "schema_version": 3,
     "solution": false
    }
   },
   "outputs": [],
   "source": [
    "\"\"\" Tests the above ToDo. \"\"\"\n",
    "\n",
    "outp = calculate_range(np.array([0, 1, 2, 3]))\n",
    "if outp is None:\n",
    "    raise ValueError(\"Didn't get any output! Did you explicitly return the range?\")\n",
    "\n",
    "assert(outp == 3)\n",
    "assert(calculate_range(np.array([-1, 0, 1, 2])) == 3)\n",
    "assert(calculate_range(np.array([0, 0, 0, 0])) == 0)\n",
    "\n",
    "print(\"Great job!\")"
   ]
  },
  {
   "cell_type": "markdown",
   "metadata": {},
   "source": [
    "Alright, by now, if you see a variable followed by a word ending with enclosed brackets, e.g. `my_array.mean()`, you'll know that it's a method! But sometimes you might see something similar, but **without** the brackets, such as `my_array.size`. As you know, this `.size` is called an **attribute** of the variable `my_array`. The attribute may be of any data-type, like a string, integer, tuple, an array itself. Let's look at a numpy-specific example:"
   ]
  },
  {
   "cell_type": "code",
   "execution_count": null,
   "metadata": {},
   "outputs": [],
   "source": [
    "my_array = np.array([[1, 2, 3],\n",
    "                     [4, 5, 6],\n",
    "                     [7, 8, 9]])\n",
    "\n",
    "print(my_array, '\\n')\n",
    "print('The size (number of element) in the array is:')\n",
    "print(my_array.size, '\\n')\n",
    "print('The .size attribute is of data-type: %s' % type(my_array.size))"
   ]
  },
  {
   "cell_type": "markdown",
   "metadata": {},
   "source": [
    "Again, you might not use attributes a lot during this course, but you'll definitely see them around in the code of the tutorials. Below, some of the common ndarray attributes are listed:"
   ]
  },
  {
   "cell_type": "code",
   "execution_count": null,
   "metadata": {},
   "outputs": [],
   "source": [
    "my_array = np.array([[1, 2, 3],\n",
    "                     [4, 5, 6],\n",
    "                     [7, 8, 9]])\n",
    "\n",
    "print('Size (number of elements) of array:')\n",
    "print(my_array.size, '\\n') # returns an integer\n",
    "\n",
    "print('Shape of array:')\n",
    "print(my_array.shape, '\\n') # this is a tuple!\n",
    "\n",
    "print('Number of dimensions:')\n",
    "print(my_array.ndim) # this is an integer"
   ]
  },
  {
   "cell_type": "markdown",
   "metadata": {},
   "source": [
    "<div class='alert alert-warning'>\n",
    "    <b>ToDo</b>: Let's try another one. Complete the function below, named <tt>compute_one_sample_ttest</tt>. This function takes two input arguments:\n",
    "\n",
    "- arr : a 1D numpy array\n",
    "- h0 : a scalar value (single number) that represents the value representing the null-hypothesis\n",
    "\n",
    "The function should compute the one-sample t-test, which tests whether the mean of an array is significantly different from a given value representing the null-hypothesis. Formally, for any given array $x$ and null-hypothesis $h_{0}$:\n",
    "\n",
    "\\begin{align}\n",
    "t = \\frac{\\bar{x} - h_{0}}{s\\ / \\sqrt{N}}\n",
    "\\end{align}\n",
    "\n",
    "Here: $\\bar{x}$ represents the mean of $x$, $s$ represents the standard deviation of $x$, and $N$ represents the length ('size') of x. So, in slightly less mathematical notation:\n",
    "\n",
    "\\begin{align}\n",
    "t = \\frac{\\mathrm{mean}(x) - h_{0}}{\\mathrm{std}(x)\\ / \\sqrt{\\mathrm{length}(x) - 1}}\n",
    "\\end{align}\n",
    "\n",
    "Make sure to return the t-value! \n",
    "\n",
    "**Hint 1**: to compute $N$, you can use the <tt>.size</tt> attribute of an array ... <br>\n",
    "**Hint 2**: use the function <tt>np.sqrt(some_number)</tt> to calculate the square root ...\n",
    "</div>"
   ]
  },
  {
   "cell_type": "code",
   "execution_count": null,
   "metadata": {
    "nbgrader": {
     "grade": false,
     "grade_id": "cell-88f546129f9923eb",
     "locked": false,
     "schema_version": 3,
     "solution": true
    },
    "tags": [
     "hide-cell"
    ]
   },
   "outputs": [],
   "source": [
    "\"\"\" Implement the ToDo here. \"\"\"\n",
    "def compute_one_sample_ttest(arr, h0):\n",
    "    ''' Computes the one-sample t-test for any array and h0. \n",
    "    \n",
    "    Parameters\n",
    "    ----------\n",
    "    arr : a 1D numpy array\n",
    "    h0 : an int or float\n",
    "    \n",
    "    Returns\n",
    "    -------\n",
    "    A single value representing the t-value\n",
    "    '''\n",
    "    \n",
    "    ### BEGIN SOLUTION\n",
    "    t_val = (arr.mean() - h0) / (arr.std() / np.sqrt(arr.size - 1))\n",
    "    return t_val\n",
    "    ### END SOLUTION"
   ]
  },
  {
   "cell_type": "code",
   "execution_count": null,
   "metadata": {
    "nbgrader": {
     "grade": true,
     "grade_id": "cell-1c08ea53c4cbb8e4",
     "locked": true,
     "points": 0,
     "schema_version": 3,
     "solution": false
    }
   },
   "outputs": [],
   "source": [
    "\"\"\" Tests the ToDo above. \"\"\"\n",
    "from tests import test_tvalue_computation\n",
    "\n",
    "arr = np.random.randn(100)\n",
    "outp = compute_one_sample_ttest(arr , 0)\n",
    "\n",
    "if outp is None:\n",
    "    raise ValueError(\"Your function didn't return anything! Did you forget the return statement?\")\n",
    "\n",
    "print(\"Going to do 3 tests ...\")\n",
    "test_tvalue_computation(arr, 0, outp)\n",
    "\n",
    "outp = compute_one_sample_ttest(arr, 5) \n",
    "test_tvalue_computation(arr, 5, outp)\n",
    "\n",
    "outp = compute_one_sample_ttest(arr, -3) \n",
    "test_tvalue_computation(arr, -3, outp)"
   ]
  },
  {
   "cell_type": "markdown",
   "metadata": {},
   "source": [
    "## Numpy: array math\n",
    "Now you know all the numpy basics necessary to do neuroimaging analysis! As you'll see in the last section (Working with nifti-images), we'll work with 3D (structural MRI images) or 4D (functional MRI images) numpy arrays a lot. Given that you know how the basics about numpy in general and numpy ndarrays in particular, we can utilize some of numpy's best features: (very fast) array math.\n",
    "\n",
    "Basic mathematical functions operate elementwise on arrays, which means that the operation (e.g. addition) is applied onto each element in the array. So, let's initialize a 1D array with ten zeros and let's add 1 to it:"
   ]
  },
  {
   "cell_type": "code",
   "execution_count": null,
   "metadata": {},
   "outputs": [],
   "source": [
    "x = np.zeros(10)\n",
    "print(x, '\\n')\n",
    "x += 1 # remember: this the same as x = x + 1\n",
    "print(x)"
   ]
  },
  {
   "cell_type": "markdown",
   "metadata": {},
   "source": [
    "Additionally, you can also sum two arrays together in an elementwise manner by simply writing: `array_1 + array_2`, given that these two (or more) arrays are of the same shape! Let's look at an example:"
   ]
  },
  {
   "cell_type": "code",
   "execution_count": null,
   "metadata": {},
   "outputs": [],
   "source": [
    "x = np.array([[1,2],[3,4]], dtype=np.float64)\n",
    "y = np.array([[5,6],[7,8]], dtype=np.float64)\n",
    "\n",
    "print(\"x: \\n%r\" % x, '\\n')\n",
    "print(\"y: \\n%r\" % y, '\\n')\n",
    "print(\"x+y: \\n%r\" % (x + y), '\\n')"
   ]
  },
  {
   "cell_type": "markdown",
   "metadata": {},
   "source": [
    "Often, there exist function-equivalents of the mathematical operators. For example, `x + y` is the same as `np.add(x, y)`. However, it is recommended to use the operators wherever possible to improve readability of your code. See below for an example:"
   ]
  },
  {
   "cell_type": "code",
   "execution_count": null,
   "metadata": {},
   "outputs": [],
   "source": [
    "print(x + y, '\\n')\n",
    "print(np.add(x, y))"
   ]
  },
  {
   "cell_type": "markdown",
   "metadata": {},
   "source": [
    "Next to addition, we can also do elementwise subtraction, multiplication, divison, square root, and exponentiation:"
   ]
  },
  {
   "cell_type": "code",
   "execution_count": null,
   "metadata": {},
   "outputs": [],
   "source": [
    "# Elementwise difference; both produce the array\n",
    "print(x - y, '\\n')\n",
    "print(np.subtract(x, y))  # function-equivalent of above "
   ]
  },
  {
   "cell_type": "code",
   "execution_count": null,
   "metadata": {},
   "outputs": [],
   "source": [
    "# Elementwise product; both produce the array\n",
    "print(x * y, '\\n')\n",
    "print(np.multiply(x, y))"
   ]
  },
  {
   "cell_type": "code",
   "execution_count": null,
   "metadata": {},
   "outputs": [],
   "source": [
    "# Elementwise division; both produce the array\n",
    "# [[ 0.2         0.33333333]\n",
    "#  [ 0.42857143  0.5       ]]\n",
    "print(x / y, '\\n')\n",
    "print(np.divide(x, y))"
   ]
  },
  {
   "cell_type": "code",
   "execution_count": null,
   "metadata": {},
   "outputs": [],
   "source": [
    "# Elementwise square root; there is no operator-equivalent!\n",
    "print(np.sqrt(x))"
   ]
  },
  {
   "cell_type": "code",
   "execution_count": null,
   "metadata": {},
   "outputs": [],
   "source": [
    "# Elementwise exponentiation\n",
    "print(x ** y, '\\n')\n",
    "print(np.power(x, y))"
   ]
  },
  {
   "cell_type": "markdown",
   "metadata": {},
   "source": [
    "<div class='alert alert-warning'>\n",
    "<b>ToDo</b>: Do an elementwise product between the two variables defined below (<tt>arr_A</tt> and <tt>arr_B</tt>) and subsequently add 5 to each element; store the result in a new variable called <tt>result_product_and_sum</tt>.\n",
    "</div>"
   ]
  },
  {
   "cell_type": "code",
   "execution_count": null,
   "metadata": {
    "nbgrader": {
     "grade": false,
     "grade_id": "cell-d5729a8b40e30062",
     "locked": false,
     "schema_version": 3,
     "solution": true
    },
    "tags": [
     "hide-cell"
    ]
   },
   "outputs": [],
   "source": [
    "\"\"\" Implement the ToDo here. \"\"\"\n",
    "arr_A = np.arange(10).reshape((5, 2))\n",
    "arr_B = np.arange(10, 20).reshape((5, 2))\n",
    "\n",
    "### BEGIN SOLUTION\n",
    "result_product_and_sum = (arr_A * arr_B) + 5\n",
    "### END SOLUTION"
   ]
  },
  {
   "cell_type": "code",
   "execution_count": null,
   "metadata": {
    "nbgrader": {
     "grade": true,
     "grade_id": "cell-df866669b921aff9",
     "locked": true,
     "points": 0,
     "schema_version": 3,
     "solution": false
    }
   },
   "outputs": [],
   "source": [
    "\"\"\" Tests the above ToDo. \"\"\"\n",
    "from tests import test_array_product_and_sum\n",
    "test_array_product_and_sum(result_product_and_sum)    "
   ]
  },
  {
   "cell_type": "markdown",
   "metadata": {},
   "source": [
    "Note that unlike Matlab, `*` is elementwise multiplication, not matrix multiplication. We instead use the dot function (or method!) to  compute matrix operations like inner products of vectors, multiplication of a vector by a matrix, and multiplication of two matrices.\n",
    "\n",
    "These matrix operations are quite important in this course, because they are used a lot in neuroimaging methods (such as the General Linear Model, the topic of next week!). You're not expected to fully understand these matrix operations, but you'll see them several times in this course, so make sure you're familiar with its implementation in Python/Numpy.\n",
    "\n",
    "An example of the inner product (\"dot product\") of two vectors in both the function-format and the method-format:"
   ]
  },
  {
   "cell_type": "code",
   "execution_count": null,
   "metadata": {},
   "outputs": [],
   "source": [
    "v = np.array([9,10])\n",
    "w = np.array([11, 12])\n",
    "\n",
    "# Inner product of vectors; both produce 219\n",
    "print(v.dot(w))\n",
    "print(np.dot(v, w))"
   ]
  },
  {
   "cell_type": "markdown",
   "metadata": {},
   "source": [
    "Additionally, in Python 3.6 (and above), you can use the `@` character as an operator for matrix multiplication of numpy arrays!"
   ]
  },
  {
   "cell_type": "code",
   "execution_count": null,
   "metadata": {},
   "outputs": [],
   "source": [
    "print(v @ w)"
   ]
  },
  {
   "cell_type": "markdown",
   "metadata": {},
   "source": [
    "Probably the most used functions in numpy are the sum() and mean() fuctions (or equivalent methods!). A nice feature is that they can operate on the entire array (this is the default) or they can be applied per dimension (or, in numpy lingo, per \"axis\").\n",
    "\n",
    "Applying functions along axes is very common in scientific computing! Let's look at an example in which we apply the `sum` function/method across rows and columns:"
   ]
  },
  {
   "cell_type": "code",
   "execution_count": null,
   "metadata": {},
   "outputs": [],
   "source": [
    "x = np.array([[1, 2],[3, 4], [5, 6]])\n",
    "\n",
    "print('Original array:')\n",
    "print(x, '\\n')\n",
    "\n",
    "print('Sum over ALL elements of x:')\n",
    "print(np.sum(x), '\\n')\n",
    "\n",
    "print('Sum across rows of x:')\n",
    "print(np.sum(x, axis=0), '\\n')\n",
    "\n",
    "print('Sum across columns of x:')\n",
    "print(x.sum(axis=1)) # this is the method form! Is exactly the same as np.sum(x, axis=1) "
   ]
  },
  {
   "cell_type": "markdown",
   "metadata": {},
   "source": [
    "Importantly, application of functions across axes is much quicker (and more concise) than writing for-loops! Let's look at the speed difference between a for-loop (implemented as a list comprehension) and the numpy-style application of the `sum` function across axes:"
   ]
  },
  {
   "cell_type": "code",
   "execution_count": null,
   "metadata": {},
   "outputs": [],
   "source": [
    "arr = np.random.random((1000, 100))\n",
    "loop_style = %timeit -o [arr[i, :].sum() for i in range(arr.shape[0])]\n",
    "axis_style = %timeit -o arr.sum(axis=1)\n",
    "print(\"Using the axis-argument is %.3f times faster than a for-loop!\" % (loop_style.average / axis_style.average))"
   ]
  },
  {
   "cell_type": "markdown",
   "metadata": {},
   "source": [
    "This application of functions on entire arrays (in an elementwise manner, like `arr_1 + arr_2`) and application of functions across a certain axis (like `np.sum(arr_1, axis=1)`) is often called **vectorization**. This is an incredibly useful concept and something that is used in many data analysis tools! Make sure you understand this. \n",
    "\n",
    "Let's practice this a bit."
   ]
  },
  {
   "cell_type": "markdown",
   "metadata": {},
   "source": [
    "<div class='alert alert-warning'>\n",
    "<b>ToDo</b>: Remember the \"range\" function from before? Below, we started writing a function, called <tt>calculate_range_vectorized</tt>, that calculates, for any 2D array, the range of each column (i.e. calculates range <em>across rows</em> for each column) in a vectorized manner (so without any for loops!).<br><br>\n",
    "Complete the function, and make sure to return the result, which should be a 1D vector which values represents the ranges for all columns. So, if the input array would be of shape <tt>(100, 10)</tt>, then the shape of your returned array should be <tt>(10,)</tt>.\n",
    "</div>"
   ]
  },
  {
   "cell_type": "code",
   "execution_count": null,
   "metadata": {
    "nbgrader": {
     "grade": false,
     "grade_id": "cell-e5cf94c93d9f9f5a",
     "locked": false,
     "schema_version": 3,
     "solution": true
    },
    "tags": [
     "hide-cell"
    ]
   },
   "outputs": [],
   "source": [
    "\"\"\" Implement the ToDo here (by completing the function below). \"\"\"\n",
    "def compute_range_vectorized(arr):\n",
    "    ''' Compute the range across rows for each column in a 2D array. \n",
    "    \n",
    "    Parameters\n",
    "    ----------\n",
    "    arr : a 2D numpy array\n",
    "    \n",
    "    Returns\n",
    "    -------\n",
    "    A 1D vector with the ranges for each column\n",
    "    '''\n",
    "    \n",
    "    ### BEGIN SOLUTION\n",
    "    return arr.max(axis=0) - arr.min(axis=0)\n",
    "    ### END SOLUTION"
   ]
  },
  {
   "cell_type": "code",
   "execution_count": null,
   "metadata": {
    "nbgrader": {
     "grade": true,
     "grade_id": "cell-c8726c1e2391c059",
     "locked": true,
     "points": 0,
     "schema_version": 3,
     "solution": false
    }
   },
   "outputs": [],
   "source": [
    "\"\"\" Tests the above ToDo. \"\"\"\n",
    "from tests import test_compute_range_vectorized\n",
    "\n",
    "np.random.seed(42)\n",
    "test_arr = np.random.random((100, 10))\n",
    "outp = compute_range_vectorized(test_arr)\n",
    "\n",
    "if outp is None:\n",
    "    raise ValueError(\"Output is None! Did you forget the Return statement in your function?\")\n",
    "\n",
    "test_compute_range_vectorized(test_arr, outp)"
   ]
  },
  {
   "cell_type": "markdown",
   "metadata": {},
   "source": [
    "## Broadcasting\n",
    "Broadcasting is a powerful mechanism that allows numpy to work with arrays of different shapes when performing arithmetic operations. Frequently we have a smaller array and a larger array, and we want to use the smaller array multiple times to perform some operation on the larger array.\n",
    "\n",
    "For example, suppose that we want to add a vector to each row of a matrix. We could do it like this:"
   ]
  },
  {
   "cell_type": "code",
   "execution_count": null,
   "metadata": {},
   "outputs": [],
   "source": [
    "# We will add the vector v to each row of the matrix x,\n",
    "# storing the result in the matrix y\n",
    "x = np.array([[1,2,3], [4,5,6], [7,8,9], [10, 11, 12]])\n",
    "\n",
    "print('x array is of shape: %r' % (x.shape,))\n",
    "print(x, '\\n')\n",
    "\n",
    "v = np.array([1, 0, 1])\n",
    "print('v vector is of shape: %r (different shape than x!)' % (v.shape,))\n",
    "print(v, '\\n')\n",
    "\n",
    "y = np.zeros(x.shape)   # Create an empty (zeros) matrix with the same shape as x\n",
    "print('Shape of (pre-allocated) y-matrix: %r' % (y.shape,))\n",
    "\n",
    "# Add the vector v to each row of the matrix x with an explicit loop\n",
    "for i in range(x.shape[0]): # see how the shape attributes comes in handy in creating loops?\n",
    "    y[i, :] = x[i, :] + v\n",
    "\n",
    "print('The result of adding v to each row of x, as stored in y:')\n",
    "print(y)"
   ]
  },
  {
   "cell_type": "markdown",
   "metadata": {},
   "source": [
    "This works; however when the matrix `x` is very large, computing an explicit for-loop in Python could be slow. Note that adding the vector v to each row of the matrix `x` is equivalent to forming a matrix `vv` by stacking multiple copies of `v` vertically, like this `[[1 0 1], [1 0 1], [1 0 1], [1 0 1]]`, and subsequently elementwise addition of `x + vv`:"
   ]
  },
  {
   "cell_type": "code",
   "execution_count": null,
   "metadata": {},
   "outputs": [],
   "source": [
    "vv = np.tile(v, (4, 1)) # i.e. expand vector 'v' 4 times along the row dimension (similar to MATLAB's repmat function)\n",
    "y = x + vv  # Add x and vv elementwise\n",
    "print(y)"
   ]
  },
  {
   "cell_type": "markdown",
   "metadata": {},
   "source": [
    "Numpy **broadcasting** allows us to perform this computation without actually creating multiple copies of v. Consider this version, using broadcasting:"
   ]
  },
  {
   "cell_type": "code",
   "execution_count": null,
   "metadata": {},
   "outputs": [],
   "source": [
    "# We will add the vector v to each row of the matrix x,\n",
    "# storing the result in the matrix y\n",
    "x = np.array([[1,2,3], [4,5,6], [7,8,9], [10, 11, 12]])\n",
    "v = np.array([1, 0, 1])\n",
    "y = x + v  # Add v to each row of x using broadcasting\n",
    "print(y)"
   ]
  },
  {
   "cell_type": "markdown",
   "metadata": {},
   "source": [
    "The line `y = x + v` works even though `x` has shape `(4, 3)` and `v` has shape `(3,)` due to broadcasting; this line works as if v actually had shape `(4, 3)`, where each row was a copy of `v`, and the sum was performed elementwise.\n",
    "\n",
    "This broadcasting function is really useful, as it prevents us from writing unnessary and by definition slower explicit for-loops. Additionally, it's way easier to read and write than explicit for-loops (which need pre-allocation). Functions that support broadcasting are known as universal functions. You can find the list of all universal functions in the [documentation](http://docs.scipy.org/doc/numpy/reference/ufuncs.html#available-ufuncs)."
   ]
  },
  {
   "cell_type": "markdown",
   "metadata": {},
   "source": [
    "<div class='alert alert-success'>\n",
    "    <b>Tip</b>: The video below (which renders after running the cell) explains broadcasting very nicely &mdash; check it out if you want to see a visual representation of how broadcasting works!\n",
    "</div>"
   ]
  },
  {
   "cell_type": "code",
   "execution_count": null,
   "metadata": {},
   "outputs": [],
   "source": [
    "from IPython.display import YouTubeVideo\n",
    "YouTubeVideo('K96OoAWbhBE', width=800, height=300)"
   ]
  },
  {
   "cell_type": "markdown",
   "metadata": {},
   "source": [
    "Here are some applications of broadcasting using different functions:"
   ]
  },
  {
   "cell_type": "code",
   "execution_count": null,
   "metadata": {},
   "outputs": [],
   "source": [
    "x = np.array([[1, 2],[3, 4], [5, 6]], dtype=np.float64)\n",
    "x_sum = x.sum(axis=0)\n",
    "\n",
    "print(x / x_sum, '\\n')\n",
    "\n",
    "x_mean = x.mean(axis=0)\n",
    "print(x / x_mean)"
   ]
  },
  {
   "cell_type": "markdown",
   "metadata": {},
   "source": [
    "<div class='alert alert-warning'>\n",
    "    <b>ToDo</b>: Below, we started writing a function called <tt>standardize_columns</tt>, which takes a single input-argument &mdash; a 2D numpy array &mdash; and should subsequently <em>standardize</em> each column such that each column has a mean of zero and a standard deviation of 1. In other words, standardization subtracts the mean (across rows) of each column from the values in that column, and then divides those value with the standard deviation of that column. Formally, for each column $j$ in any 2D array, standardization entails:\n",
    "\n",
    "\\begin{align}\n",
    "x_{j}\\ \\mathrm{standardized} = \\frac{(x_{j} - \\bar{x_{j}})}{\\mathrm{std}(x_{j})}\n",
    "\\end{align}\n",
    "\n",
    "Standardization, which is also oftend called \"z-transformation\", is often done in statistics. So, in the function below, make sure that it is able to standardize each column in any 2D array. Make sure to use vectorized array computations (i.e, the <tt>np.mean</tt> and <tt>np.std</tt> functions/methods across rows) and broadcasting, so no for-loops! \n",
    "\n",
    "</div>"
   ]
  },
  {
   "cell_type": "code",
   "execution_count": null,
   "metadata": {
    "nbgrader": {
     "grade": false,
     "grade_id": "cell-4935a66842e00087",
     "locked": false,
     "schema_version": 3,
     "solution": true
    },
    "tags": [
     "hide-cell"
    ]
   },
   "outputs": [],
   "source": [
    "\"\"\" Implement the ToDo here (by completing the function below). \"\"\"\n",
    "def standardize_columns(arr):\n",
    "    ''' Standardize each column of a 2D input-array. \n",
    "    \n",
    "    Parameters\n",
    "    ----------\n",
    "    arr : a 2D numpy array\n",
    "    \n",
    "    Returns\n",
    "    -------\n",
    "    The input-array with standardized columns (should have the same shape as the input-array!)\n",
    "    '''\n",
    "    \n",
    "    ### BEGIN SOLUTION\n",
    "    return (arr - arr.mean(axis=0)) / arr.std(axis=0)\n",
    "    ### END SOLUTION"
   ]
  },
  {
   "cell_type": "code",
   "execution_count": null,
   "metadata": {
    "nbgrader": {
     "grade": true,
     "grade_id": "cell-2d54b8794bc73398",
     "locked": true,
     "points": 0,
     "schema_version": 3,
     "solution": false
    }
   },
   "outputs": [],
   "source": [
    "\"\"\" Tests the above ToDo. \"\"\"\n",
    "\n",
    "test_arr = np.random.normal(5, 2, size=(100, 10))\n",
    "outp = standardize_columns(test_arr)\n",
    "\n",
    "if outp is None:\n",
    "    raise ValueError(\"The output from your function is None; did you forget the Return statement?\")\n",
    "\n",
    "try:\n",
    "    np.testing.assert_array_almost_equal(outp.mean(axis=0), np.zeros(test_arr.shape[1]))\n",
    "except AssertionError as e:\n",
    "    print(\"The mean of the columns of your standardized array are not 0!\")\n",
    "    raise(e)\n",
    "\n",
    "try:\n",
    "    np.testing.assert_array_almost_equal(outp.std(axis=0), np.ones(test_arr.shape[1]))\n",
    "except AssertionError as e:\n",
    "    print(\"The std of the columns of your standardized array are not 1!\")\n",
    "    raise(e)\n",
    "    \n",
    "print(\"A-MA-ZING!\")"
   ]
  },
  {
   "cell_type": "markdown",
   "metadata": {},
   "source": [
    "Now, you know the most important numpy concepts and functionality that is necessary to start using it. Surely, there is a lot more to the numpy package that what we've covered here, but that's for another time 😃"
   ]
  }
 ],
 "metadata": {
  "celltoolbar": "Tags",
  "kernelspec": {
   "display_name": "Python 3 (ipykernel)",
   "language": "python",
   "name": "python3"
  },
  "language_info": {
   "codemirror_mode": {
    "name": "ipython",
    "version": 3
   },
   "file_extension": ".py",
   "mimetype": "text/x-python",
   "name": "python",
   "nbconvert_exporter": "python",
   "pygments_lexer": "ipython3",
   "version": "3.9.16"
  },
  "toc": {
   "base_numbering": 1,
   "nav_menu": {},
   "number_sections": true,
   "sideBar": true,
   "skip_h1_title": true,
   "title_cell": "Table of Contents",
   "title_sidebar": "Contents",
   "toc_cell": false,
   "toc_position": {},
   "toc_section_display": true,
   "toc_window_display": false
  }
 },
 "nbformat": 4,
 "nbformat_minor": 4
}
