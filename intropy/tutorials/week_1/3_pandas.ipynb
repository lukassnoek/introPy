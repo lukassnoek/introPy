{
 "cells": [
  {
   "cell_type": "markdown",
   "metadata": {},
   "source": [
    "# Introduction to Pandas (tutorial)\n",
    "Pandas is a Python package that contains functionality for data analysis and manipulatoin. It is used mostly for \"table-like\" data, i.e., data that can be organized in 2D tables with observations organized across rows and variables across columns. With Pandas, you can do most of the data processing routines you might know from R. (R contains more extensive statistics-related functionality, though.)\n",
    "\n",
    "## Contents\n",
    "1. Dataframes\n",
    "2. Indexing\n",
    "3. Dataframe operations\n",
    "4. Aggregation (optional)"
   ]
  },
  {
   "cell_type": "markdown",
   "metadata": {},
   "source": [
    "## Dataframes\n",
    "Alright, let's get started. The Pandas package isis usually imported as follows:"
   ]
  },
  {
   "cell_type": "code",
   "execution_count": null,
   "metadata": {},
   "outputs": [],
   "source": [
    "import pandas as pd"
   ]
  },
  {
   "cell_type": "markdown",
   "metadata": {},
   "source": [
    "Although Pandas contains several functions for processing data, the package is very object-oriented. Specifically, most of its functionality is implemented in the `DataFrame` class, which is similar to R's `dataframe` (or [tibble](https://tibble.tidyverse.org/)). \n",
    "\n",
    "Now, you can actually create a `DataFrame` object using different methods. You can create it from scratch (in Python) or you can load it from an external file, like a CSV (comma-separated value) file or an Excel file. The latter is probably the most often used, so let's take a look at that. We created some data from a (very small) hypothetical working memory experiment, which we saved in a CSV file (where each column is separated by commas, hence the name). To load in this data, we will use the function `pd.read_csv`:"
   ]
  },
  {
   "cell_type": "code",
   "execution_count": null,
   "metadata": {},
   "outputs": [],
   "source": [
    "df = pd.read_csv('example_data.csv')\n",
    "df.index = [0, 1, 2, 3]  # you may ignore this line"
   ]
  },
  {
   "cell_type": "markdown",
   "metadata": {},
   "source": [
    "To view its contents, we can just enter `df` as the last line in a code cell (so without `print`) and run the cell. This way, Jupyter notebooks will actually render the dataframes nicely:"
   ]
  },
  {
   "cell_type": "code",
   "execution_count": null,
   "metadata": {},
   "outputs": [],
   "source": [
    "df"
   ]
  },
  {
   "cell_type": "markdown",
   "metadata": {},
   "source": [
    "<div class='alert alert-warning'>\n",
    "    <b>ToDo</b>: The <tt>pd.read_csv</tt> is in fact a very flexible function and has a lot of arguments to tweak it according to your needs. Check out its <a href=\"https://pandas.pydata.org/pandas-docs/stable/reference/api/pandas.read_csv.html\">documentation</a> to get an overview of its arguments! For example, try to load the same data (from <tt>example_data.csv</tt>), but include only the \"age\" and \"wm_score\" columns, and store this 2-column dataframe in a variable named <tt>df_todo</tt>.\n",
    "</div>"
   ]
  },
  {
   "cell_type": "code",
   "execution_count": null,
   "metadata": {
    "deletable": false,
    "nbgrader": {
     "cell_type": "code",
     "checksum": "c05e476d3c876ff763462edf87d1d516",
     "grade": false,
     "grade_id": "cell-58394f1a99a1eb84",
     "locked": false,
     "schema_version": 3,
     "solution": true,
     "task": false
    },
    "tags": [
     "hide-cell"
    ]
   },
   "outputs": [],
   "source": [
    "\"\"\" Implement the ToDo here. \"\"\"\n",
    "# YOUR CODE HERE\n",
    "raise NotImplementedError()"
   ]
  },
  {
   "cell_type": "code",
   "execution_count": null,
   "metadata": {
    "deletable": false,
    "editable": false,
    "nbgrader": {
     "cell_type": "code",
     "checksum": "ce31e25b198be5f3188f5bdba9ee4591",
     "grade": true,
     "grade_id": "cell-fd02b55ef8c2c77f",
     "locked": true,
     "points": 0,
     "schema_version": 3,
     "solution": false,
     "task": false
    }
   },
   "outputs": [],
   "source": [
    "\"\"\" Tests the above ToDo. \"\"\"\n",
    "if df_todo.columns.tolist() != ['age', 'wm_score']:\n",
    "    raise ValueError('Something went wrong ... :-(')\n",
    "else:\n",
    "    print(\"Well done!\")"
   ]
  },
  {
   "cell_type": "markdown",
   "metadata": {},
   "source": [
    "As mentioned, Pandas dataframes assume that its rows represent different observations (here: participants) and its columns represent different variables (here: participant ID, age, condition, and working memory score). Apart from the dataframe's values (e.g., \"sub-01\", \"sub-02\" and 25, 21), the dataframe also contains column names (here: \"participant_id\", \"age\", \"condition\", \"wm_score\") and row names (0, 1, 2, 3). The row names are usually referred to as the dataframe's *index*. The column names can be accessed using the `columns` attribute:"
   ]
  },
  {
   "cell_type": "code",
   "execution_count": null,
   "metadata": {},
   "outputs": [],
   "source": [
    "# Actually, this is a specific object called an Index, but\n",
    "# you can forget about that for now\n",
    "df.columns"
   ]
  },
  {
   "cell_type": "markdown",
   "metadata": {},
   "source": [
    "... and the row index can be accessed using the `index` attribute:"
   ]
  },
  {
   "cell_type": "code",
   "execution_count": null,
   "metadata": {},
   "outputs": [],
   "source": [
    "# Again, it is a specific object, which you may ignore for now\n",
    "df.index"
   ]
  },
  {
   "cell_type": "markdown",
   "metadata": {},
   "source": [
    "<div class='alert alert-success'>\n",
    "    <b>Note</b>: there is no reason that the column names should be strings and the index should be integers. It completely valid to use, for example, integers as column names and strings as index values!\n",
    "</div>"
   ]
  },
  {
   "cell_type": "markdown",
   "metadata": {},
   "source": [
    "### Creating dataframes from scratch\n",
    "In some situations, you may want to create a `DataFrame` object from scratch. Although there are different ways to do this, arguably the easiest way is to pass a dictionary to the `DataFrame` class:"
   ]
  },
  {
   "cell_type": "code",
   "execution_count": null,
   "metadata": {},
   "outputs": [],
   "source": [
    "data = {'var1': [1, 2, 3], 'var2': ['a', 'b',  'c']}\n",
    "some_df = pd.DataFrame(data)\n",
    "some_df"
   ]
  },
  {
   "cell_type": "markdown",
   "metadata": {},
   "source": [
    "As you can see, the `DataFrame` class automatically infers the column names from the dictionary keys and creates a default integer index starting at 0."
   ]
  },
  {
   "cell_type": "markdown",
   "metadata": {},
   "source": [
    "<div class='alert alert-warning'>\n",
    "    <b>ToDo</b>: You can also specify the index explicitly by passing a list to the <tt>index</tt> parameter (see also the <a href=\"https://pandas.pydata.org/pandas-docs/stable/reference/api/pandas.DataFrame.html\">documentation</a>). Using the variable <tt>data</tt> again, create a new dataframe (called <tt>df_todo</tt>) but use \"x\", \"y\", \"z\" for the index. \n",
    "</div>"
   ]
  },
  {
   "cell_type": "code",
   "execution_count": null,
   "metadata": {},
   "outputs": [],
   "source": [
    "\"\"\" Implement your ToDo here. \"\"\"\n",
    "df_todo = pd.DataFrame(data, index=['x', 'y', 'z'])"
   ]
  },
  {
   "cell_type": "code",
   "execution_count": null,
   "metadata": {},
   "outputs": [],
   "source": [
    "\"\"\" Tests the above ToDo. \"\"\"\n",
    "if df_todo.index.tolist() != ['x', 'y', 'z']:\n",
    "    raise ValueError(\"Something went wrong ...\")\n",
    "    \n",
    "print(\"Yes! Well done!\")"
   ]
  },
  {
   "cell_type": "markdown",
   "metadata": {},
   "source": [
    "## Indexing\n",
    "One important operation you need to now is how to select (or \"extract\") particular rows and/or columns. There are, in fact, multiple ways to do this, but we recommend sticking with `loc` and `iloc`. \n",
    "\n",
    "### Indexing with `loc`\n",
    "The `loc` indexer selects rows and/or columns based on their name (similar to indexing a dictionary). You always need to supply the `loc` indexer both your row selection and your column selection. In general, it should be used as follows:\n",
    "\n",
    "```python\n",
    "df_subset = df.loc[row_selection, column_selection]\n",
    "```\n",
    "\n",
    "where `row_selection` and `column_selection` may be either a single row/column name or a list of row/column names. For example, if you'd want to select the first two rows and the \"age\" and \"wm_score\" columns, you could do the following:"
   ]
  },
  {
   "cell_type": "code",
   "execution_count": null,
   "metadata": {},
   "outputs": [],
   "source": [
    "df_subset = df.loc[[0, 1], ['age', 'wm_score']]\n",
    "df_subset"
   ]
  },
  {
   "cell_type": "markdown",
   "metadata": {},
   "source": [
    "Note that other indexing methods also exist, like indexing columns directly (e.g., `df['age']`), or indexing columns by accessing them as attributes (e.g., `df.age`). We strongly suggest always using `loc` (and `iloc`), though, for consistency (also because this method is the most versatile)."
   ]
  },
  {
   "cell_type": "markdown",
   "metadata": {},
   "source": [
    "<div class='alert alert-warning'>\n",
    "    <b>ToDo</b>: Select the second and fourth row and the \"participant_id\" and \"condition\" columns from the dataframe (<tt>df</tt>) and store the result in a new variable named <tt>df_todo</tt>.\n",
    "</div>"
   ]
  },
  {
   "cell_type": "code",
   "execution_count": null,
   "metadata": {
    "deletable": false,
    "nbgrader": {
     "cell_type": "code",
     "checksum": "6e25a13b3ed7c07eca46b80537898f70",
     "grade": false,
     "grade_id": "cell-f06580eda673cf1f",
     "locked": false,
     "schema_version": 3,
     "solution": true,
     "task": false
    },
    "tags": [
     "hide-cell"
    ]
   },
   "outputs": [],
   "source": [
    "\"\"\" Implement your ToDo here. \"\"\"\n",
    "# YOUR CODE HERE\n",
    "raise NotImplementedError()"
   ]
  },
  {
   "cell_type": "code",
   "execution_count": null,
   "metadata": {
    "deletable": false,
    "editable": false,
    "nbgrader": {
     "cell_type": "code",
     "checksum": "782100076983b04dcd1a2fb658289a17",
     "grade": true,
     "grade_id": "cell-254d525a129eeb2c",
     "locked": true,
     "points": 0,
     "schema_version": 3,
     "solution": false,
     "task": false
    }
   },
   "outputs": [],
   "source": [
    "\"\"\" Tests the above ToDo. \"\"\"\n",
    "if df_todo['participant_id'].tolist() != ['sub-02', 'sub-04']:\n",
    "    raise ValueError(\"Something went wrong ...\")\n",
    "\n",
    "if df_todo['condition'].tolist() != ['B', 'B']:\n",
    "    raise ValueError(\"Something went wrong ...\")\n",
    "    \n",
    "print(\"Well done!\")"
   ]
  },
  {
   "cell_type": "markdown",
   "metadata": {},
   "source": [
    "Note that you can also select *all* rows or columns at once using the colon (`:`). For example, if you'd want to select all rows from the \"age\" and \"wm_score\" columns, you can do the following:"
   ]
  },
  {
   "cell_type": "code",
   "execution_count": null,
   "metadata": {},
   "outputs": [],
   "source": [
    "df.loc[:, ['age', 'wm_score']]"
   ]
  },
  {
   "cell_type": "markdown",
   "metadata": {},
   "source": [
    "### Intermezzo: Series vs. Dataframes\n",
    "Before continuing with position-based indexing using `iloc`, we need to quickly discuss pandas `Series` objects. `Series` are basically single-column (or single-row) dataframes. For example, if we'd select a single column from our example dataframe, we'd have a `Series` object:"
   ]
  },
  {
   "cell_type": "code",
   "execution_count": null,
   "metadata": {},
   "outputs": [],
   "source": [
    "srs = df.loc[:, 'age']  # note the absence of the list\n",
    "srs"
   ]
  },
  {
   "cell_type": "code",
   "execution_count": null,
   "metadata": {},
   "outputs": [],
   "source": [
    "type(srs)"
   ]
  },
  {
   "cell_type": "markdown",
   "metadata": {},
   "source": [
    "As such, you can think of `DataFrame` objects as a collection of `Series` objects. As opposed to `DataFrame` object, `Series` object does not have column names (but its original column name can be accessed through the `name` attribute), but it *does* have an index:"
   ]
  },
  {
   "cell_type": "code",
   "execution_count": null,
   "metadata": {},
   "outputs": [],
   "source": [
    "srs.index"
   ]
  },
  {
   "cell_type": "markdown",
   "metadata": {},
   "source": [
    "We won't discuss `Series` in this notebook, as in practice you'll mostly work with `DataFrame` objects (but we wanted to show it to you in case you encounter them)."
   ]
  },
  {
   "cell_type": "markdown",
   "metadata": {},
   "source": [
    "<div class='alert alert-success'>\n",
    "    <b>Tip</b>: Want to select a single column/row, but still want pandas to return a dataframe? Make sure you use a list to index the single column/row!<br><br>That is, use:<br><tt>df.loc[:, ['age']]</tt><br>and not:<br><tt>df.loc[:, 'age']</tt>).\n",
    "</div>"
   ]
  },
  {
   "cell_type": "markdown",
   "metadata": {},
   "source": [
    "### Indexing with `iloc`"
   ]
  },
  {
   "cell_type": "markdown",
   "metadata": {},
   "source": [
    "Instead of selecting subsets from dataframes based on their column names and row names (index) using `loc`, you can also do so using the \"integer-location\" of the subsets using `iloc`. This method of indexing follows the same rules as indexing lists. For example, you can simply select specific columns, e.g., the first and fourth column:"
   ]
  },
  {
   "cell_type": "code",
   "execution_count": null,
   "metadata": {},
   "outputs": [],
   "source": [
    "df.iloc[:, [0, 3]]"
   ]
  },
  {
   "cell_type": "markdown",
   "metadata": {},
   "source": [
    "But you can also use negative indices (counting from the end) or using slices:"
   ]
  },
  {
   "cell_type": "code",
   "execution_count": null,
   "metadata": {},
   "outputs": [],
   "source": [
    "# Take the first and last row and every second column starting at 1\n",
    "# i.e., all odd columns\n",
    "df.iloc[[0, -1], 1::2]"
   ]
  },
  {
   "cell_type": "markdown",
   "metadata": {},
   "source": [
    "<div class='alert alert-warning'>\n",
    "    <b>ToDo</b>: Using a row and column slice, select the first three rows and the last three columns of the <tt>df</tt> dataframe and store it a new variable named <tt>df_todo</tt>.\n",
    "</div>"
   ]
  },
  {
   "cell_type": "code",
   "execution_count": null,
   "metadata": {
    "deletable": false,
    "nbgrader": {
     "cell_type": "code",
     "checksum": "501dc8fd5644ab4191db0776eadce6df",
     "grade": false,
     "grade_id": "cell-b19195b949477afa",
     "locked": false,
     "schema_version": 3,
     "solution": true,
     "task": false
    },
    "tags": [
     "hide-cell"
    ]
   },
   "outputs": [],
   "source": [
    "\"\"\" Implement your ToDo here. \"\"\"\n",
    "# YOUR CODE HERE\n",
    "raise NotImplementedError()"
   ]
  },
  {
   "cell_type": "code",
   "execution_count": null,
   "metadata": {
    "deletable": false,
    "editable": false,
    "nbgrader": {
     "cell_type": "code",
     "checksum": "f30a5d3152456d1ab99d3e69ddf590ba",
     "grade": true,
     "grade_id": "cell-ef204c6ca0aff7ec",
     "locked": true,
     "points": 0,
     "schema_version": 3,
     "solution": false,
     "task": false
    }
   },
   "outputs": [],
   "source": [
    "\"\"\" Tests the above ToDo. \"\"\"\n",
    "if df_todo.index.tolist() != [0, 1, 2]:\n",
    "    raise ValueError(\"Row index is incorrect!\")\n",
    "    \n",
    "if df_todo.columns.tolist() != ['age', 'condition', 'wm_score']:\n",
    "    raise ValueError(\"Column index is incorrect!\")"
   ]
  },
  {
   "cell_type": "markdown",
   "metadata": {},
   "source": [
    "### Boolean indexing\n",
    "A last, slightly trickier, indexing method is *boolean indexing*. This method is often used to select a specific subset of rows from a dataframe. It essentially boils down to creating a `Series` object with boolean values (i.e., `True` and `False` values) and using that in combination with `loc`. \n",
    "\n",
    "For example, suppose that you want to select all participants (i.e., rows) who are older than 21. First, you need to create a boolean series:"
   ]
  },
  {
   "cell_type": "code",
   "execution_count": null,
   "metadata": {},
   "outputs": [],
   "source": [
    "b_idx = df.loc[:, 'age'] > 21\n",
    "b_idx"
   ]
  },
  {
   "cell_type": "markdown",
   "metadata": {},
   "source": [
    "... and then, you can use it together with `loc`:"
   ]
  },
  {
   "cell_type": "code",
   "execution_count": null,
   "metadata": {},
   "outputs": [],
   "source": [
    "df.loc[b_idx, :]"
   ]
  },
  {
   "cell_type": "markdown",
   "metadata": {},
   "source": [
    "You can, of course, also do this within a single line of code:"
   ]
  },
  {
   "cell_type": "code",
   "execution_count": null,
   "metadata": {},
   "outputs": [],
   "source": [
    "df.loc[df.loc[:, 'age'] > 21, :]"
   ]
  },
  {
   "cell_type": "markdown",
   "metadata": {},
   "source": [
    "<div class='alert alert-warning'>\n",
    "    <b>ToDo</b>: Using boolean indexing, select all participants in condition A and store it in new variable named <tt>conA_pp</tt>.\n",
    "</div>"
   ]
  },
  {
   "cell_type": "code",
   "execution_count": null,
   "metadata": {
    "deletable": false,
    "nbgrader": {
     "cell_type": "code",
     "checksum": "f19fcaac15b6e8e40aa531040d216775",
     "grade": false,
     "grade_id": "cell-fdf5b63d8d1e5b9a",
     "locked": false,
     "schema_version": 3,
     "solution": true,
     "task": false
    },
    "tags": [
     "hide-cell"
    ]
   },
   "outputs": [],
   "source": [
    "\"\"\" Implement your ToDo here. \"\"\"\n",
    "# YOUR CODE HERE\n",
    "raise NotImplementedError()"
   ]
  },
  {
   "cell_type": "code",
   "execution_count": null,
   "metadata": {
    "deletable": false,
    "editable": false,
    "nbgrader": {
     "cell_type": "code",
     "checksum": "8938460bf2f94d40d3236031baf20a02",
     "grade": true,
     "grade_id": "cell-568dc6f1240fa173",
     "locked": true,
     "points": 0,
     "schema_version": 3,
     "solution": false,
     "task": false
    }
   },
   "outputs": [],
   "source": [
    "\"\"\" Tests the above ToDo. \"\"\"\n",
    "if len(conA_pp.columns) != 4:\n",
    "    raise ValueError(\"Make sure you only filter the rows, not the columns!\")\n",
    "    \n",
    "if conA_pp.index.tolist() != [0, 2]:\n",
    "    raise ValueError(\"Hmm, the indexing operation didn't go as expected ...\")\n",
    "    \n",
    "print(\"WELL DONE!\")"
   ]
  },
  {
   "cell_type": "markdown",
   "metadata": {},
   "source": [
    "## Adding and removing rows and columns\n",
    "When working with dataframes, at some point you'll may want to add columns and/or rows. You can actually use the `loc` and `iloc` indexers for this as well. For example, if you would like to add a new column named \"nationality\" to the dataframe, you can do the following:"
   ]
  },
  {
   "cell_type": "code",
   "execution_count": null,
   "metadata": {},
   "outputs": [],
   "source": [
    "# Note: no list this time\n",
    "df.loc[:, 'nationality'] = ['Dutch', 'British', 'Dutch', 'German']\n",
    "df"
   ]
  },
  {
   "cell_type": "markdown",
   "metadata": {},
   "source": [
    "In the above cell we basically used `loc` to assign a list of values to a new column named \"nationality\". Importantly, this list should have the same number of values as the number of rows of the dataframe."
   ]
  },
  {
   "cell_type": "markdown",
   "metadata": {},
   "source": [
    "<div class='alert alert-warning'>\n",
    "    <b>ToDo</b>: In the same way as shown above, you can add rows to the dataframe. You got some new data from \"sub-05\" (a 23 year old French participant who was part of condition B and had a working memory score of 51). Add this to the existing dataframe (<tt>df</tt>) in the code cell below. Make sure not to overwrite the existing data by choosing a new index value (e.g., 4).\n",
    "</div>"
   ]
  },
  {
   "cell_type": "code",
   "execution_count": null,
   "metadata": {
    "deletable": false,
    "nbgrader": {
     "cell_type": "code",
     "checksum": "3cf6085d1d7e8f167484083d315d274d",
     "grade": false,
     "grade_id": "cell-dc331bfc0c6e2024",
     "locked": false,
     "schema_version": 3,
     "solution": true,
     "task": false
    },
    "tags": [
     "hide-cell"
    ]
   },
   "outputs": [],
   "source": [
    "\"\"\" Implement the ToDo here. \"\"\"\n",
    "# YOUR CODE HERE\n",
    "raise NotImplementedError()"
   ]
  },
  {
   "cell_type": "code",
   "execution_count": null,
   "metadata": {
    "deletable": false,
    "editable": false,
    "nbgrader": {
     "cell_type": "code",
     "checksum": "1c123b938d9d502ece98104c3d77913d",
     "grade": true,
     "grade_id": "cell-a2a0e6e63a6c7f05",
     "locked": true,
     "points": 0,
     "schema_version": 3,
     "solution": false,
     "task": false
    }
   },
   "outputs": [],
   "source": [
    "\"\"\" Tests the above ToDo. \"\"\"\n",
    "if df.iloc[-1, :].loc['participant_id'] != 'sub-05':\n",
    "    raise ValueError(\"Hmm, the participant_id of the new row does not seem to be correct ...\")\n",
    "    \n",
    "if df.iloc[-1, :].loc['age'] != 23:\n",
    "    raise ValueError(\"Hmm, the age of the new row does not seem to be correct ...\")\n",
    "\n",
    "if df.iloc[-1, :].loc['condition'] != 'B':\n",
    "    raise ValueError(\"Hmm, the condition of the new row does not seem to be correct ...\")\n",
    "\n",
    "if df.iloc[-1, :].loc['wm_score'] != 51:\n",
    "    raise ValueError(\"Hmm, the wm_score of the new row does not seem to be correct ...\")\n",
    "\n",
    "if df.iloc[-1, :].loc['nationality'] != 'French':\n",
    "    raise ValueError(\"Hmm, the nationality of the new row does not seem to be correct ...\")\n",
    "\n",
    "print(\"CORRECT!\")"
   ]
  },
  {
   "cell_type": "markdown",
   "metadata": {},
   "source": [
    "To delete a row or column, you can use the `drop` method (see the [documentation](https://pandas.pydata.org/pandas-docs/stable/reference/api/pandas.DataFrame.drop.html) for more details). You can drop both columns (using the argument `columns`) and rows (using the argument `rows`) at the same time. For example, if I'd want to drop data fram \"sub-05\" and the entire \"nationality\" column, we could do the following:"
   ]
  },
  {
   "cell_type": "code",
   "execution_count": null,
   "metadata": {},
   "outputs": [],
   "source": [
    "df.drop(columns='nationality', index=4)"
   ]
  },
  {
   "cell_type": "markdown",
   "metadata": {},
   "source": [
    "Note that the dataframe is not automatically updated! If we want to *replace* the original dataframe, we need to assign the result of the `drop` call to the original variable name (`df`):"
   ]
  },
  {
   "cell_type": "code",
   "execution_count": null,
   "metadata": {},
   "outputs": [],
   "source": [
    "df = df.drop(columns='nationality', index=4)"
   ]
  },
  {
   "cell_type": "markdown",
   "metadata": {},
   "source": [
    "<div class='alert alert-warning'>\n",
    "    <b>ToDo</b>: Try running the above cell again. You'll get an error! Do you understand why?\n",
    "</div>"
   ]
  },
  {
   "cell_type": "markdown",
   "metadata": {},
   "source": [
    "Note that, instead of saving the output of the `drop` method in a new (or the same) variable, you can also modify the dataframe \"in place\" by setting the `inplace` argument to `True` (i.e., `drop(inplace=True)`). In my opinion, however, this often leads to bugs so I'd recommend against usign this approach."
   ]
  },
  {
   "cell_type": "markdown",
   "metadata": {},
   "source": [
    "<div class='alert alert-info'>\n",
    "    <b>ToThink</b>: Suppose you assign the output of a call to <tt>drop(inplace=True)</tt>, which doesn't actually return anything, to a new variable &mdash; do you know what happens? Try it out below (create a new code cell first).\n",
    "</div>"
   ]
  },
  {
   "cell_type": "markdown",
   "metadata": {},
   "source": [
    "## Dataframe operations\n",
    "`DataFrame` (and `Series`) objects have a lot of methods that implement common computational and statistical operations. Often, these methods return a new `DataFrame` or `Series` object with the result from the operation. For example, a useful method is `describe`, which returns a set of descriptive statistics for all numeric columns (i.e., it will automatically skip non-numeric columns):"
   ]
  },
  {
   "cell_type": "code",
   "execution_count": null,
   "metadata": {},
   "outputs": [],
   "source": [
    "df.describe()"
   ]
  },
  {
   "cell_type": "markdown",
   "metadata": {},
   "source": [
    "Separate operations, like computing the mean, are also available:"
   ]
  },
  {
   "cell_type": "code",
   "execution_count": null,
   "metadata": {},
   "outputs": [],
   "source": [
    "# Note that it returns a Series, because it consists\n",
    "# of a single column (with two values)\n",
    "df.mean(numeric_only=True)"
   ]
  },
  {
   "cell_type": "markdown",
   "metadata": {},
   "source": [
    "<div class='alert alert-warning'>\n",
    "    <b>ToDo</b>: Compute the standard deviation of the \"age\" column only using the appropriate dataframe method (google this!) and store single value in a new variable named <tt>age_sd</tt>.\n",
    "</div>"
   ]
  },
  {
   "cell_type": "code",
   "execution_count": null,
   "metadata": {
    "deletable": false,
    "nbgrader": {
     "cell_type": "code",
     "checksum": "176e93b2d72b6e5d8e75a58676110f7c",
     "grade": false,
     "grade_id": "cell-d7270a29df09548f",
     "locked": false,
     "schema_version": 3,
     "solution": true,
     "task": false
    },
    "tags": [
     "hide-cell"
    ]
   },
   "outputs": [],
   "source": [
    "\"\"\" Implement the ToDo here. \"\"\"\n",
    "# YOUR CODE HERE\n",
    "raise NotImplementedError()"
   ]
  },
  {
   "cell_type": "code",
   "execution_count": null,
   "metadata": {
    "deletable": false,
    "editable": false,
    "nbgrader": {
     "cell_type": "code",
     "checksum": "f05d3bdeed54f0f78ec5e60cd6505571",
     "grade": true,
     "grade_id": "cell-30b798c1d9060cce",
     "locked": true,
     "points": 0,
     "schema_version": 3,
     "solution": false,
     "task": false
    }
   },
   "outputs": [],
   "source": [
    "\"\"\" Tests the above ToDo. \"\"\"\n",
    "if round(age_sd, 3) != 2.872:\n",
    "    raise ValueError(\"Something went wrong ...\")\n",
    "\n",
    "print(\"Well done!\")"
   ]
  },
  {
   "cell_type": "markdown",
   "metadata": {},
   "source": [
    "## Aggregation (advanced / optional)\n",
    "In the context of data analysis and statistics, you may want to perform operations separately for different subsets of the data. For example, you may want to compute the mean age separately for the different conditions. You may know this aggregation operation as creating a \"pivot table\". With pandas `DataFrame` objects, this can be easily done using the `groupby` method in combination with a particular operation. \n",
    "\n",
    "In the `groupby` method, you define by which factor you want to group your data (e.g., \"condition\") and you may subsequently \"chain\" it with another method (e.g, `mean`):"
   ]
  },
  {
   "cell_type": "code",
   "execution_count": null,
   "metadata": {},
   "outputs": [],
   "source": [
    "means = df.groupby('condition').mean(numeric_only=True)\n",
    "means"
   ]
  },
  {
   "cell_type": "markdown",
   "metadata": {},
   "source": [
    "Note that the group factor becomes the index in the resulting dataframe! Again, the mean operation is only performed for the numeric columns. To explain all of the functionality of the `groupby` method probably needs a completely separate tutorial, so let's just finish with a relatively more difficult (and optional) ToDo."
   ]
  },
  {
   "cell_type": "markdown",
   "metadata": {},
   "source": [
    "<div class='alert alert-warning'>\n",
    "    <b>ToDo</b>: Below, we simulate a dataset with reaction time data (in ms.) across four groups ('A', 'B', 'C', 'D') of 25 participants each. Suppose that we want to, for each group separately, a one-sided t-test of reaction time (against a population mean of 300 ms.). Create a dataframe with 3 columns (\"mean\", \"std\", and \"t_value\") and 4 rows ('A', 'B', 'C', 'D', representing the groups), where the \"t_value\" column should contain t-values corresponding to the groups.\n",
    "</div>"
   ]
  },
  {
   "cell_type": "code",
   "execution_count": null,
   "metadata": {
    "deletable": false,
    "nbgrader": {
     "cell_type": "code",
     "checksum": "a44147b1ba0c1aae603f19e6080ab98f",
     "grade": false,
     "grade_id": "cell-29da76df30c976aa",
     "locked": false,
     "schema_version": 3,
     "solution": true,
     "task": false
    },
    "tags": [
     "hide-cell"
    ]
   },
   "outputs": [],
   "source": [
    "import pandas as pd\n",
    "import numpy as np\n",
    "np.random.seed(42)\n",
    "\n",
    "data = np.random.normal(300, 70, 100)\n",
    "cond = ['A', 'B', 'C', 'D'] * 25\n",
    "df_final = pd.DataFrame({'rt': data, 'condition': cond})\n",
    "df_final\n",
    "\n",
    "# YOUR CODE HERE\n",
    "raise NotImplementedError()"
   ]
  },
  {
   "cell_type": "code",
   "execution_count": null,
   "metadata": {
    "deletable": false,
    "editable": false,
    "nbgrader": {
     "cell_type": "code",
     "checksum": "9f160be7e4d0c97dfa9ff5a1fa240867",
     "grade": true,
     "grade_id": "cell-69b3d01ae55d1973",
     "locked": true,
     "points": 0,
     "schema_version": 3,
     "solution": false,
     "task": false
    }
   },
   "outputs": [],
   "source": [
    "\"\"\" Tests the above ToDo. \"\"\"\n",
    "if df_stats.columns.tolist() != ['mean', 'std', 't_value']:\n",
    "    raise ValueError(\"The dataframe does not contain the right columns!\")\n",
    "    \n",
    "if df_stats.index.tolist() != ['A', 'B', 'C', 'D']:\n",
    "    raise ValueError(\"The dataframe does not contain the right index!\")\n",
    "\n",
    "if df_stats.loc[:, 't_value'].round(4).tolist() != [-1.0839, -1.0983, -0.6441, 0.2139]:\n",
    "    raise ValueError(\"T-values are not yet correct!\")\n",
    "\n",
    "print(\"YOU'RE AMAZING!\")"
   ]
  }
 ],
 "metadata": {
  "kernelspec": {
   "display_name": "Python 3",
   "language": "python",
   "name": "python3"
  },
  "language_info": {
   "codemirror_mode": {
    "name": "ipython",
    "version": 3
   },
   "file_extension": ".py",
   "mimetype": "text/x-python",
   "name": "python",
   "nbconvert_exporter": "python",
   "pygments_lexer": "ipython3",
   "version": "3.8.5"
  },
  "toc": {
   "base_numbering": 1,
   "nav_menu": {},
   "number_sections": true,
   "sideBar": true,
   "skip_h1_title": true,
   "title_cell": "Table of Contents",
   "title_sidebar": "Contents",
   "toc_cell": false,
   "toc_position": {},
   "toc_section_display": true,
   "toc_window_display": false
  }
 },
 "nbformat": 4,
 "nbformat_minor": 4
}
