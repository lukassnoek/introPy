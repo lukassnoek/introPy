{
 "cells": [
  {
   "cell_type": "markdown",
   "metadata": {},
   "source": [
    "# Python basics (tutorial)\n",
    "This notebook will provide short tutorial on basic Python concepts and syntax. We will go over the Python package system and imports, data types, functions, conditionals, and loops.\n",
    "\n",
    "## Contents\n",
    "1. The Python ecosystem, imports, and whitespace\n",
    "2. Basic data types\n",
    "3. Functions and methods\n",
    "4. Conditionals\n",
    "5. Loops\n",
    "\n",
    "**Estimated time to complete**: 2-4 hours"
   ]
  },
  {
   "cell_type": "markdown",
   "metadata": {},
   "source": [
    "## The Python ecosystem\n",
    "Python is a multipurpose programming language, meaning it can be used for almost anything. While the \"standard library\" of Python (i.e., the functionality that is shipped with any Python installation) contains the bare minimum for any programming language, Python's versatility comes from a massive community of developers that created many different \"third-party\" packages for almost any purpose you can think of (e.g., visualization, machine learning, game programming, etc.).\n",
    "\n",
    "For example:\n",
    "* the [scipy](https://www.scipy.org/) package provides functionality for scientific computing (e.g. statistics, signal processing);\n",
    "* the [numpy](http://www.numpy.org/) package provides data structures and functionality for (very fast) numeric computing (e.g. multidimensional numeric array computations, some linear algebra);\n",
    "* the [pandas](https://pandas.pydata.org/) package provides functionality to work with \"tables\";\n",
    "* the [matplotlib](http://matplotlib.org/) package provides plotting functions;\n",
    "* and various specialied neuroimaging packages provide functionality to work and analyze (f)MRI (e.g. [nibabel](http://nipy.org/nibabel/) and [nipype](http://nipy.org/nipype)) and MEG/EEG (e.g. [MNE](http://www.martinos.org/mne/stable/index.html)).\n",
    "\n",
    "Basically, there are packages for everything you can think of! In this course, we will mostly use basic Python in combination with the scientific computing packages (*pandas*, *numpy*, and *matplotlib*)."
   ]
  },
  {
   "cell_type": "markdown",
   "metadata": {},
   "source": [
    "## Import statements\n",
    "As explained above, Python ships with some default functionality. This means that it's already available upon starting a notebook (or any other Python environment) and doesn't need to be imported. An example is the function `len()`."
   ]
  },
  {
   "cell_type": "code",
   "execution_count": null,
   "metadata": {},
   "outputs": [],
   "source": [
    "my_list = [1, 2, 3]\n",
    "print(len(my_list))"
   ]
  },
  {
   "cell_type": "markdown",
   "metadata": {},
   "source": [
    "However, non-built-in packages &mdash; such as `numpy` &mdash; need to be explicitly imported to access their functionality. After importing, their functions are accessible as: `{package}.{function}`.\n",
    "\n",
    "For example:"
   ]
  },
  {
   "cell_type": "code",
   "execution_count": null,
   "metadata": {},
   "outputs": [],
   "source": [
    "import numpy\n",
    "\n",
    "# Now you can access the numpy function `add()` as numpy.add()\n",
    "print(numpy.add(5, 3)) "
   ]
  },
  {
   "cell_type": "markdown",
   "metadata": {},
   "source": [
    "However, writing `numpy` in front of every function you access from it becomes annoying very quickly. Therefore, we usually abbreviate the package name by two or three characters, which can be achieved through:\n",
    "\n",
    "```\n",
    "import {package} as {abbreviation}\n",
    "```\n",
    "\n",
    "For example, people usually abbreviate the numpy import as follows:"
   ]
  },
  {
   "cell_type": "code",
   "execution_count": null,
   "metadata": {},
   "outputs": [],
   "source": [
    "import numpy as np\n",
    "\n",
    "# Now you can access numpy functions such as 'add()' as:\n",
    "print(np.add(5, 3))"
   ]
  },
  {
   "cell_type": "markdown",
   "metadata": {},
   "source": [
    "Often (but not always), Python packages consist of subpackages. These subpackages are often used to group similar functions/code together. For example, the `numpy` package has the subpackage (also called \"module\") `random`, which contains functions that allow you to generate random data from different distributions.\n",
    "\n",
    "In the previous cell, we imported the *entire* `numpy` package by running `import numpy as np`. However, sometimes you might only need a particular subpackage (\"module\"), like the subpackage `random` from `numpy`. To import *only* the `random` subpackage, you can do the following:"
   ]
  },
  {
   "cell_type": "code",
   "execution_count": null,
   "metadata": {},
   "outputs": [],
   "source": [
    "import numpy.random"
   ]
  },
  {
   "cell_type": "markdown",
   "metadata": {},
   "source": [
    "Now, you can use functions from the `numpy.random` class! Technically, even subpackages may contain their own subpackages. Importing subpackages from subpackages works the same way:\n",
    "\n",
    "```python\n",
    "import mainpackage.somesubpackage.anothersubpackage.yetanothersubpackage\n",
    "```"
   ]
  },
  {
   "cell_type": "markdown",
   "metadata": {},
   "source": [
    "Throughout the tutorials, you'll see different packages (e.g. `nibabel` and `scipy`) being imported using abbreviations (e.g., `import nibabel as nib`). \n",
    "\n",
    "Also, you don't need to import an *entire* package, but you can also import a specific function or class. This is done as follows:\n",
    "\n",
    "```python\n",
    "from {package} import {function1}, {function2}, {etc}\n",
    "```\n",
    "\n",
    "An example:"
   ]
  },
  {
   "cell_type": "code",
   "execution_count": null,
   "metadata": {},
   "outputs": [],
   "source": [
    "from numpy import add, subtract\n",
    "\n",
    "# Now I can simply call add() and subtract()\n",
    "print(add(5, 3))"
   ]
  },
  {
   "cell_type": "markdown",
   "metadata": {},
   "source": [
    "Note that some packages have a hierarchical structure with subpackages (also called modules). For example, scipy has a subpackage `ndimage` (with functions for n-dimensional arrays). To import *only* this subpackage, do the following:"
   ]
  },
  {
   "cell_type": "code",
   "execution_count": null,
   "metadata": {},
   "outputs": [],
   "source": [
    "from scipy import ndimage\n",
    "# Now you can call functions from the ndimage subpackage,\n",
    "# e.g. gaussian_filter\n",
    "\n",
    "print(ndimage.gaussian_filter([10, 5, 4], 2))"
   ]
  },
  {
   "cell_type": "markdown",
   "metadata": {},
   "source": [
    "Note that you can mix and match all of these operations to customize the import to your own liking (see cell below for such a fancy import). In this course, we'll usually just import entire packages (e.g. `import numpy as np`) or specific functions/subpackages (e.g. `from scipy import stats`). \n",
    "\n",
    "Another thing you can do with imports is renaming the function/module you're importing. This follows the following syntax:\n",
    "\n",
    "```python\n",
    "from {package} import {some function/module} as {new name}\n",
    "```\n",
    "\n",
    "See the cell below for an example:"
   ]
  },
  {
   "cell_type": "code",
   "execution_count": null,
   "metadata": {},
   "outputs": [],
   "source": [
    "# a fancy import\n",
    "from scipy.stats import binom_test as omg_binomial_testing_so_cool\n",
    "\n",
    "print(omg_binomial_testing_so_cool(0.5, 10))"
   ]
  },
  {
   "cell_type": "markdown",
   "metadata": {},
   "source": [
    "<div class=\"alert alert-warning\">\n",
    "    <b>ToDo</b>: Import the function <tt>randn</tt> (which generates random numbers from a standard normal distribution) from the numpy subpackage <tt>random</tt> and rename it <tt>random_normal_generator</tt>.\n",
    "</div>"
   ]
  },
  {
   "cell_type": "code",
   "execution_count": null,
   "metadata": {
    "deletable": false,
    "nbgrader": {
     "cell_type": "code",
     "checksum": "7ef04be1120db1b342db840ffe8c6f50",
     "grade": false,
     "grade_id": "cell-87af56a740628389",
     "locked": false,
     "schema_version": 3,
     "solution": true
    },
    "tags": [
     "hide-cell"
    ]
   },
   "outputs": [],
   "source": [
    "\"\"\" Implement the ToDo here. \"\"\"\n",
    "# YOUR CODE HERE\n",
    "raise NotImplementedError()"
   ]
  },
  {
   "cell_type": "code",
   "execution_count": null,
   "metadata": {
    "deletable": false,
    "editable": false,
    "nbgrader": {
     "cell_type": "code",
     "checksum": "4025b383ef97f6335e47fce0e3af213a",
     "grade": true,
     "grade_id": "cell-f7c6fda0670851b5",
     "locked": true,
     "points": 0,
     "schema_version": 3,
     "solution": false
    }
   },
   "outputs": [],
   "source": [
    "\"\"\" Tests the above ToDo. \"\"\"\n",
    "try:\n",
    "    assert('random_normal_generator' in dir())\n",
    "except AssertionError as e:\n",
    "    print(\"I couldn't find the function 'random_normal_generator'; did you spell it correctly?\")\n",
    "    raise(e)\n",
    "else:\n",
    "    print(\"Great! Well done!\")"
   ]
  },
  {
   "cell_type": "code",
   "execution_count": null,
   "metadata": {
    "deletable": false,
    "editable": false,
    "nbgrader": {
     "cell_type": "code",
     "checksum": "fdf9ddfd293b3dcc651098833375892c",
     "grade": true,
     "grade_id": "cell-2ec6efb629701eda",
     "locked": true,
     "points": 0,
     "schema_version": 3,
     "solution": false
    }
   },
   "outputs": [],
   "source": [
    "\"\"\" Another test for the above ToDo. \"\"\"\n",
    "try:\n",
    "    assert(random_normal_generator.__name__ == 'randn')\n",
    "except AssertionError as e:\n",
    "    print(\"Your 'random_normal_generator' function does not point to the 'randn' numpy.random subpackage!\")\n",
    "    raise(e)\n",
    "else:\n",
    "    print(\"Correct!\")"
   ]
  },
  {
   "cell_type": "markdown",
   "metadata": {},
   "source": [
    "<div class=\"alert alert-success\">\n",
    "<b>Wildcard imports.</b> Python allows also \"wildcard\" imports, like: <tt>from numpy import *</tt>, which says: import <em>everything</em> from the <tt>numpy</tt> package. This is often discouraged, because the beauty of having explicit imports (unlike MATLAB) is that you known where your functions come from (e.g., is it a base Python function or a numpy function?). \n",
    "</div>"
   ]
  },
  {
   "cell_type": "markdown",
   "metadata": {},
   "source": [
    "## Whitespace for indentation\n",
    "In most programming languages, code blocks (e.g., if-else blocks, or for-loops) are delineated by dedicated symbols (often curly brackets, `{}`). For example, an if-else block in R may be written like this:\n",
    "\n",
    "```R\n",
    "if (x > 0) {\n",
    "   y = x + 5\n",
    "} else {\n",
    "   y = x - 5\n",
    "}\n",
    "```\n",
    "\n",
    "While in languages like R and MATLAB whitespace/indentation is used for readability, it is not necessary! The above if-else statement in R can also be written as:\n",
    "\n",
    "```R\n",
    "if (x > 0) { y = x + 5 } else { y = x - 5 }\n",
    "```\n",
    "\n",
    "However, in Python, whitespace and indentation is important! In Python, indendation &mdash; instead of curly braces &mdash; delineates code blocks, and if code is incorrectly indented, Python will give an error! Identation can be done using spaces or tabs; both are fine ([but programmers often have a very strong opinion on using on or the other](https://thenewstack.io/spaces-vs-tabs-a-20-year-debate-and-now-this-what-the-hell-is-wrong-with-go)), as long as it is consistent. Most style guides recommend either four spaces or a single tab.\n",
    "\n",
    "Importantly, if a code block (e.g., an if-else statement) in Python is indented incorrectly, Python will throw an `IdentationError`, as show below:"
   ]
  },
  {
   "cell_type": "code",
   "execution_count": null,
   "metadata": {
    "tags": [
     "raises-exception"
    ]
   },
   "outputs": [],
   "source": [
    "x = 0\n",
    "if x < 0:\n",
    "y = x + 5\n",
    "else:\n",
    "y = x - 5"
   ]
  },
  {
   "cell_type": "markdown",
   "metadata": {},
   "source": [
    "<div class=\"alert alert-warning\">\n",
    "<b>ToDo</b>: Fix the code block above by identing it correctly. (No test cell.)\n",
    "</div>"
   ]
  },
  {
   "cell_type": "markdown",
   "metadata": {},
   "source": [
    "## Basic data types\n",
    "Base (i.e., built-in) Python has mostly the same data types as you might know from MATLAB or R, such as numbers (integers/floats), strings, and lists (cells in MATLAB; lists in R). Also, Python has to data types that might be unknown to MATLAB/R users, such as \"dictionaries\" and \"tuples\", which are explained later. "
   ]
  },
  {
   "cell_type": "markdown",
   "metadata": {},
   "source": [
    "### Numbers\n",
    "Numbers are represented either as integers (\"whole\" numbers) or floats (numbers with decimals, basically)."
   ]
  },
  {
   "cell_type": "code",
   "execution_count": null,
   "metadata": {},
   "outputs": [],
   "source": [
    "x = 3\n",
    "print('x is of type', type(x))  # use type(variable) to find out of what data-type something is!\n",
    "\n",
    "y = 3.1415\n",
    "print('y is of type', type(y))"
   ]
  },
  {
   "cell_type": "markdown",
   "metadata": {},
   "source": [
    "Let's try to apply arithmetic to x as defined above with some basic operations:"
   ]
  },
  {
   "cell_type": "code",
   "execution_count": null,
   "metadata": {},
   "outputs": [],
   "source": [
    "print(x + 1)   # Addition;\n",
    "print(x - 1)   # Subtraction;\n",
    "print(x / 2)   # Division;\n",
    "print(x * 2)   # Multiplication;\n",
    "print(x ** 2)  # Exponentiation;"
   ]
  },
  {
   "cell_type": "markdown",
   "metadata": {},
   "source": [
    "The above commands apply operations to x, but do not *change* x itself. To permanently change x, you have to store the results of the operation (e.g. `x + 1`) into a variable (e.g. `x2 = x + 1`), as shown in the cell below:"
   ]
  },
  {
   "cell_type": "code",
   "execution_count": null,
   "metadata": {},
   "outputs": [],
   "source": [
    "x = 3\n",
    "x_new = x + 2\n",
    "\n",
    "# If you simply want to update an existing variable, you can do this in two ways:\n",
    "x = x + 1\n",
    "\n",
    "# ... or:\n",
    "x += 1\n",
    "\n",
    "print(x)  \n",
    "\n",
    "x *= 2 # This is the same as: x = x * 2\n",
    "print(x) "
   ]
  },
  {
   "cell_type": "markdown",
   "metadata": {},
   "source": [
    "<div class=\"alert alert-warning\">\n",
    "    <b>ToDo</b>: In the cell below, make a new variable, <tt>y</tt>, which should contain <tt>x</tt> minus 5, of which the result is subsequently raised to the 4th power. \n",
    "</div>"
   ]
  },
  {
   "cell_type": "code",
   "execution_count": null,
   "metadata": {
    "deletable": false,
    "nbgrader": {
     "cell_type": "code",
     "checksum": "d6ea5afcabcbde507d15d588d867b9e0",
     "grade": false,
     "grade_id": "cell-b1f3eff2d86022f9",
     "locked": false,
     "schema_version": 3,
     "solution": true
    },
    "tags": [
     "hide-cell"
    ]
   },
   "outputs": [],
   "source": [
    "\"\"\" Implement the ToDo here. \"\"\"\n",
    "x = 8\n",
    "# YOUR CODE HERE\n",
    "raise NotImplementedError()"
   ]
  },
  {
   "cell_type": "code",
   "execution_count": null,
   "metadata": {
    "deletable": false,
    "editable": false,
    "nbgrader": {
     "cell_type": "code",
     "checksum": "0bc4db91858dbdd4648d2f64f9939ec6",
     "grade": true,
     "grade_id": "cell-86a18c4fb5804a78",
     "locked": true,
     "points": 0,
     "schema_version": 3,
     "solution": false
    }
   },
   "outputs": [],
   "source": [
    "''' Tests the above ToDo.'''\n",
    "\n",
    "# Check if there exists a variable 'y'\n",
    "try:\n",
    "    assert('y' in dir())\n",
    "except AssertionError as e:\n",
    "    print(\"The variable 'y' doesn't seem to exist! Did you name it correctly?\")\n",
    "    raise(e)\n",
    "else:\n",
    "    print(\"Well done! 1 out of tests 2 passed\")\n",
    "\n",
    "# Check if it has the correct number\n",
    "try:\n",
    "    assert(y == 81)\n",
    "except AssertionError as e:\n",
    "    print(\"The variable y does not seem to equal x minus 5, raised to the power 4.\")\n",
    "    raise(e)\n",
    "else:\n",
    "    print(\"Well done! 2 out of tests 2 passed\")"
   ]
  },
  {
   "cell_type": "markdown",
   "metadata": {},
   "source": [
    "<div class='alert alert-success'>\n",
    "    <b>Tip!</b>\n",
    "    When you're working on your ToDo, it's often informative to print (intermediate) output/variables of your solution (in a new code cell for example). This might give insight into (potentially) failing tests! \n",
    "</div>"
   ]
  },
  {
   "cell_type": "markdown",
   "metadata": {},
   "source": [
    "### Booleans\n",
    "Python implements all of the usual operators for comparisons. Similar to what you might know from other languages, `==` tests equivalence, `!=` for not equivalent, and `<` and `>` for larger/smaller than. The result of those comparisons are a datatype called a \"boolean\", representing truth values. Booleans can take on the value `True` or `False`.\n",
    "\n",
    "Check out some examples below:"
   ]
  },
  {
   "cell_type": "code",
   "execution_count": null,
   "metadata": {},
   "outputs": [],
   "source": [
    "a = 3\n",
    "b = 5\n",
    "is_a_equal_to_b = (a == b)\n",
    "\n",
    "print(is_a_equal_to_b)\n",
    "print('the ouput is of type', type(is_a_equal_to_b)) "
   ]
  },
  {
   "cell_type": "markdown",
   "metadata": {},
   "source": [
    "Some more examples of Boolean operators:"
   ]
  },
  {
   "cell_type": "code",
   "execution_count": null,
   "metadata": {},
   "outputs": [],
   "source": [
    "bool_1 = 3 > 5 # False, because 3 is not greater than 5\n",
    "bool_2 = (5 == 5) # True, because, well, 5 is 5\n",
    "print(bool_1)\n",
    "print(bool_2)"
   ]
  },
  {
   "cell_type": "markdown",
   "metadata": {},
   "source": [
    "However, for some Boolean logic, python doesn't use operators (such as && for \"and\" and | for \"or\") but uses special (regular English) *words*: "
   ]
  },
  {
   "cell_type": "code",
   "execution_count": null,
   "metadata": {},
   "outputs": [],
   "source": [
    "# note: bool_1 is False, bool_2 is True\n",
    "print(bool_1 and bool_2)  # Logical AND, both have to be True\n",
    "print(bool_1 or bool_2)   # Logical OR, either one of them has to be True\n",
    "print(not bool_1)         # Logical NOT, the inverse of bool_1\n",
    "print(bool_1 != bool_2)   # Logical XOR, yields True when bool_1 and bool_2 are not equal"
   ]
  },
  {
   "cell_type": "markdown",
   "metadata": {},
   "source": [
    "(Although, technically, the keyword `and` and `&`, and `or` and `|` can be used interchangeably.)"
   ]
  },
  {
   "cell_type": "markdown",
   "metadata": {},
   "source": [
    "<div class='alert alert-warning'>\n",
    "    <b>ToDo</b>: Mess around with booleans in the cell below. Try some more complex things, like: <tt>not ((3 > 5) and not (5 > 2))</tt>. Do you understand why the result is the way it is? Try to follow the logic in the sequence of statements (no test cell).\n",
    "</div>"
   ]
  },
  {
   "cell_type": "code",
   "execution_count": null,
   "metadata": {},
   "outputs": [],
   "source": [
    "# Do your ToDo here:\n"
   ]
  },
  {
   "cell_type": "markdown",
   "metadata": {},
   "source": [
    "### Strings\n",
    "Strings in Python are largely the same as in other languages."
   ]
  },
  {
   "cell_type": "code",
   "execution_count": null,
   "metadata": {},
   "outputs": [],
   "source": [
    "h = 'hello'   # String literals can use single quotes\n",
    "w = \"world\"   # or double quotes; it does not matter.\n",
    "\n",
    "print(h)\n",
    "print(len(h))  # see how many characters in this string"
   ]
  },
  {
   "cell_type": "markdown",
   "metadata": {},
   "source": [
    "In addition to designating strings with single or double quotes, you can also create (multi-line) strings using triple quotes (again, either using single or double quotes):"
   ]
  },
  {
   "cell_type": "code",
   "execution_count": null,
   "metadata": {},
   "outputs": [],
   "source": [
    "long_string = \"\"\"This quite a long string, which may span multiple \n",
    "lines but otherwise works just like a normal string, which can \n",
    "be printed and stuff and now I'm out of inspiration to keep writing\n",
    "so I'll stop here.\"\"\"\n",
    "\n",
    "print(long_string)"
   ]
  },
  {
   "cell_type": "markdown",
   "metadata": {},
   "source": [
    "A very nice feature of Python strings is that they are easy to concatenate: just use '+'!"
   ]
  },
  {
   "cell_type": "code",
   "execution_count": null,
   "metadata": {},
   "outputs": [],
   "source": [
    "hw = h + ', ' + w + '!' # String concatenation\n",
    "print(hw)"
   ]
  },
  {
   "cell_type": "markdown",
   "metadata": {},
   "source": [
    "You can also create and combine strings with what is called 'string formatting'. This is accomplished by inserting a placeholder in a string, that you can fill with variables. Confusingly, there are many approaches to string formatting. Arguably, the most used one is the \"old style\" string formatting, of which an example is given below:"
   ]
  },
  {
   "cell_type": "code",
   "execution_count": null,
   "metadata": {},
   "outputs": [],
   "source": [
    "# Here, we have a string with a placeholder '%s' (the 's' refers to 'string' placeholder)\n",
    "my_string = 'My favorite programming language is: %s'\n",
    "print('Before formatting:')\n",
    "print(my_string)\n",
    "\n",
    "# Now, to 'fill' the placeholder, do the following:\n",
    "my_fav_language = 'Python'\n",
    "my_string = 'My favorite programming language is: %s' % my_fav_language\n",
    "\n",
    "print('\\nAfter formatting:')\n",
    "print(my_string)"
   ]
  },
  {
   "cell_type": "markdown",
   "metadata": {},
   "source": [
    "You can also use specific placeholders for different data types:"
   ]
  },
  {
   "cell_type": "code",
   "execution_count": null,
   "metadata": {},
   "outputs": [],
   "source": [
    "week_no = 1  # integer\n",
    "string1 = 'This is week %i of the Python mini course' % week_no # the %i expects an integer!\n",
    "print(string1)\n",
    "\n",
    "score = 99.50 # float\n",
    "string2 = 'I will get a %f on my quiz this week!' % score\n",
    "print(string2)\n",
    "\n",
    "# You can also combine different types in a string:\n",
    "string3 = 'In week %i of the course, %s will get a %f (or higher) on my quiz!' % (week_no, \"I\", 95.00)\n",
    "print(string3)"
   ]
  },
  {
   "cell_type": "markdown",
   "metadata": {},
   "source": [
    "<div class='alert alert-warning'>\n",
    "<b>ToDo</b>: Modify the variable <tt>to_print</tt> defined below, such that printing it (i.e., running <tt>print(to_print)</tt>) will print: \"I love Python 4ever\". So you'll have to \"fill\" the \"%\" placeholders using string formatting. That is, you have to put a <tt>%</tt> sign after the <tt>to_print</tt> variable and \"fill\" it with the correct inputs.\n",
    "</div>"
   ]
  },
  {
   "cell_type": "code",
   "execution_count": null,
   "metadata": {
    "deletable": false,
    "nbgrader": {
     "cell_type": "code",
     "checksum": "1f3e7c8c8a7ccad9baf01571a5433cf6",
     "grade": false,
     "grade_id": "cell-b08c34ab23707a68",
     "locked": false,
     "schema_version": 3,
     "solution": true
    },
    "tags": [
     "hide-cell"
    ]
   },
   "outputs": [],
   "source": [
    "\"\"\" Implement the ToDo here. \"\"\"\n",
    "to_print = \"I love %s %iever\"\n",
    "\n",
    "# YOUR CODE HERE\n",
    "raise NotImplementedError()"
   ]
  },
  {
   "cell_type": "code",
   "execution_count": null,
   "metadata": {
    "deletable": false,
    "editable": false,
    "nbgrader": {
     "cell_type": "code",
     "checksum": "3ed48ceb7d1d0453398fafa059bb992f",
     "grade": true,
     "grade_id": "cell-eb152527160ad636",
     "locked": true,
     "points": 0,
     "schema_version": 3,
     "solution": false
    }
   },
   "outputs": [],
   "source": [
    "\"\"\" Tests the above ToDo. \"\"\"\n",
    "try:\n",
    "    assert(to_print == 'I love Python 4ever')\n",
    "except AssertionError as e:\n",
    "    print(\"This string is not formatted correctly!\")\n",
    "    raise(e)\n",
    "else:\n",
    "    print(\"Well done!\")"
   ]
  },
  {
   "cell_type": "markdown",
   "metadata": {},
   "source": [
    "As mentioned, there are several different approaches to string formatting. We particularly like the \"string interpolation\" (F-string) approach, in which you can directly \"insert\" variables into strings:\n",
    "    \n",
    "```python\n",
    "year = 2020\n",
    "string = f\"At the time of writing, we're living in the year {year}\"\n",
    "```\n",
    "    \n",
    "To use this method, you have to preprend your string with the letter <tt>f</tt>!"
   ]
  },
  {
   "cell_type": "markdown",
   "metadata": {},
   "source": [
    "<div class='alert alert-warning'>\n",
    "    <b>ToDo</b>: Using the variables below and the F-string method, create the following string (and print it): \"There are five notebooks this week; OMG, way too many.\"\n",
    "</div>"
   ]
  },
  {
   "cell_type": "code",
   "execution_count": null,
   "metadata": {
    "deletable": false,
    "nbgrader": {
     "cell_type": "code",
     "checksum": "6531077c346177255ff766cc62e58353",
     "grade": false,
     "grade_id": "cell-53cb84860dbe2355",
     "locked": false,
     "schema_version": 3,
     "solution": true,
     "task": false
    },
    "tags": [
     "hide-cell"
    ]
   },
   "outputs": [],
   "source": [
    "\"\"\" Implement the ToDo here. (no test cell)\"\"\"\n",
    "n_notebooks = 5\n",
    "oh_my_god = \"OMG\"\n",
    "many_or_few = \"many\"\n",
    "\n",
    "# YOUR CODE HERE\n",
    "raise NotImplementedError()"
   ]
  },
  {
   "cell_type": "markdown",
   "metadata": {},
   "source": [
    "### Lists\n",
    "A list is the Python equivalent of an \"array\", but can be resized and can contain elements of different types. It is similar to a list in R and a cell in MATLAB. Note that indices in python start with 0! This means that the 3rd element of the list below is accessed through `[2]`.\n",
    "\n",
    "Let's check out some lists and how to index them!"
   ]
  },
  {
   "cell_type": "code",
   "execution_count": null,
   "metadata": {},
   "outputs": [],
   "source": [
    "# Note that list may contain numbers ...\n",
    "list1 = [3, 1, 2]\n",
    "\n",
    "# ... or strings\n",
    "list2 = ['hello', 'world']\n",
    "\n",
    "# ... or, actually, anything at all! List lists themselves\n",
    "list3 = ['hello', [3, 1, 2], 'world', 5.3, -999]"
   ]
  },
  {
   "cell_type": "markdown",
   "metadata": {},
   "source": [
    "Whatever the contents of a list, they are indexed the same way: using square brackets with an integer, e.g. `[0]`:"
   ]
  },
  {
   "cell_type": "code",
   "execution_count": null,
   "metadata": {},
   "outputs": [],
   "source": [
    "print('The first element of list1 is: %i' % list1[0])\n",
    "print('The second element of list2 is: %s' % list2[1])\n",
    "print('The last element of list3 is: %i' % list3[-1])\n",
    "print('The second-to-last element of list3 is: %f' % list3[-2])"
   ]
  },
  {
   "cell_type": "markdown",
   "metadata": {},
   "source": [
    "Note that you can also use negative indices! Negative indices start indexing from the end of the list, so `[-1]` indexes the last element, `[-2]` indexes the second-to-last element, etc.\n",
    "\n",
    "We cannot only 'extract' element from lists using indexing, but we can also replace them! This works as follows:"
   ]
  },
  {
   "cell_type": "code",
   "execution_count": null,
   "metadata": {},
   "outputs": [],
   "source": [
    "some_list = [1, 2, 3, ['A', 'B', 'C']]\n",
    "\n",
    "# Let's set the first element of some_list to 100:\n",
    "some_list[0] = 100\n",
    "print(some_list)\n",
    "\n",
    "# Note that indexing a list within a list is done with sequential square brackets,\n",
    "# so if we want to index the element 'A' in some_list, we do:\n",
    "some_list[-1][0] = 'ANOTHER STRING'\n",
    "print(some_list)"
   ]
  },
  {
   "cell_type": "markdown",
   "metadata": {},
   "source": [
    "<div class='alert alert-warning'>\n",
    "<b>ToDo</b>: In the cell below, replace the element 'TO_REPLACE_1' with 'REPLACED' and the element 'TO_REPLACE_2' also with 'REPLACED' in the list <tt>todo_list</tt>.\n",
    "</div>"
   ]
  },
  {
   "cell_type": "code",
   "execution_count": null,
   "metadata": {
    "deletable": false,
    "nbgrader": {
     "cell_type": "code",
     "checksum": "9d4e752746db89854cef1d419c0e3cb3",
     "grade": false,
     "grade_id": "cell-fcaca4cbf6963307",
     "locked": false,
     "schema_version": 3,
     "solution": true
    },
    "tags": [
     "hide-cell"
    ]
   },
   "outputs": [],
   "source": [
    "\"\"\" Implement your ToDo here. \"\"\"\n",
    "todo_list = [1, 'B', 'TO_REPLACE_1', [5, 3, 1038, 'C'], [1, 3, 5, [9, 3, 1, 'TO_REPLACE_2']]]\n",
    "# YOUR CODE HERE\n",
    "raise NotImplementedError()"
   ]
  },
  {
   "cell_type": "markdown",
   "metadata": {},
   "source": [
    "*Note*: the code-cell below as usual tests your ToDo, but we haven't written out the tests in the cell itself. Instead, we wrote the tests in a separate Python module, which we import here. (We do this, because writing out the tests here would give you the answer rightaway!)"
   ]
  },
  {
   "cell_type": "code",
   "execution_count": null,
   "metadata": {
    "deletable": false,
    "editable": false,
    "nbgrader": {
     "cell_type": "code",
     "checksum": "3a71726641f60db88b65c5ce75462e24",
     "grade": true,
     "grade_id": "cell-6cc25540df324d7d",
     "locked": true,
     "points": 0,
     "schema_version": 3,
     "solution": false
    }
   },
   "outputs": [],
   "source": [
    "\"\"\" Tests the above ToDo with a custom function. \"\"\"\n",
    "from tests import test_list_indexing\n",
    "test_list_indexing(todo_list)"
   ]
  },
  {
   "cell_type": "markdown",
   "metadata": {},
   "source": [
    "In addition to accessing list elements one at a time, Python provides concise syntax to access specific parts of a list (sublists); this is known as *slicing*. \n",
    "\n",
    "Let's look at some slice operations:"
   ]
  },
  {
   "cell_type": "code",
   "execution_count": null,
   "metadata": {},
   "outputs": [],
   "source": [
    "nums = [0, 1, 2, 3, 4, 5, 6, 7, 8, 9]\n",
    "print(nums)         # Our original list"
   ]
  },
  {
   "cell_type": "code",
   "execution_count": null,
   "metadata": {},
   "outputs": [],
   "source": [
    "# Get a slice form index 2 to 4 (exclusive); prints \"[2, 3]\"\n",
    "print(nums[2:4])"
   ]
  },
  {
   "cell_type": "code",
   "execution_count": null,
   "metadata": {},
   "outputs": [],
   "source": [
    "# Get a slice from index 2 to the end; prints \"[2, 3, 4, 5, 6, 7, 8, 9]\"\n",
    "print(nums[2:])  "
   ]
  },
  {
   "cell_type": "code",
   "execution_count": null,
   "metadata": {},
   "outputs": [],
   "source": [
    "# Get a slice from the start to index 3 (exclusive); prints \"[0, 1, 2]\"\n",
    "print(nums[:3])     "
   ]
  },
  {
   "cell_type": "code",
   "execution_count": null,
   "metadata": {},
   "outputs": [],
   "source": [
    "# Slice indices can be negative; prints [\"0, 1, 2, 3, 4, 5, 6, 7, 8]\",\n",
    "# so everything up to (but not including) the last element\n",
    "print(nums[:-1])    "
   ]
  },
  {
   "cell_type": "markdown",
   "metadata": {},
   "source": [
    "Importantly, slices are \"end exclusive\", which means that if you slice from `0` to `5`, you get the indices `0, 1, 2, 3, 4`! While this may seem confusing at first, you'll get used to it. To appreciate the use of \"end exclusive indexing\", do the next ToDo."
   ]
  },
  {
   "cell_type": "markdown",
   "metadata": {},
   "source": [
    "<div class='alert alert-warning'>\n",
    "<b>ToDo</b>: Slice the list below, <tt>to_be_split</tt>, into two separate lists: one called <tt>first_half</tt> with the first half of the list values, and one called <tt>second_half</tt>, with the second half of the list values.\n",
    "</div>"
   ]
  },
  {
   "cell_type": "code",
   "execution_count": null,
   "metadata": {
    "deletable": false,
    "nbgrader": {
     "cell_type": "code",
     "checksum": "bd748abf1e8907176b9847ef79c1080e",
     "grade": false,
     "grade_id": "cell-f5cbfc80f5ab048f",
     "locked": false,
     "schema_version": 3,
     "solution": true
    },
    "tags": [
     "hide-cell"
    ]
   },
   "outputs": [],
   "source": [
    "\"\"\" Implement your ToDo here. \"\"\"\n",
    "to_be_split = [10, 11, 12, 13, 14, 15, 16, 17, 18, 19, 20, 21, 22, 23, 24, 25]\n",
    "# YOUR CODE HERE\n",
    "raise NotImplementedError()"
   ]
  },
  {
   "cell_type": "code",
   "execution_count": null,
   "metadata": {
    "deletable": false,
    "editable": false,
    "nbgrader": {
     "cell_type": "code",
     "checksum": "ba3788e0467fa7ecfe29cbf5175ce0c8",
     "grade": true,
     "grade_id": "cell-c58380642ef1d9f6",
     "locked": true,
     "points": 0,
     "schema_version": 3,
     "solution": false
    }
   },
   "outputs": [],
   "source": [
    "\"\"\" Tests the above ToDo. \"\"\"\n",
    "assert(first_half == [10, 11, 12, 13, 14, 15, 16, 17])\n",
    "assert(second_half == [18, 19, 20, 21, 22, 23, 24, 25])\n",
    "print(\"Well done!\")"
   ]
  },
  {
   "cell_type": "markdown",
   "metadata": {},
   "source": [
    "Apart from the syntax `[from:to]`, you can also specify a \"stride\" (sort of step-size) of your slice using the syntax `[from:to:stride]`:"
   ]
  },
  {
   "cell_type": "code",
   "execution_count": null,
   "metadata": {},
   "outputs": [],
   "source": [
    "# Return values in steps of 2\n",
    "print(nums[::2])    \n",
    "\n",
    "# Returns values in steps of 3, but starting from the second element\n",
    "print(nums[1::3])   "
   ]
  },
  {
   "cell_type": "markdown",
   "metadata": {},
   "source": [
    "With 'normal' indexing of lists, you can only index a subsequently set/replace one element at the time. With slices, however, you can set multiple elements at the same time:"
   ]
  },
  {
   "cell_type": "code",
   "execution_count": null,
   "metadata": {},
   "outputs": [],
   "source": [
    "nums[2:4] = [100, 200] # Assign a new sublist to a slice\n",
    "print(nums)         # Prints \"[0, 1, 100, 200, 4, 5, 6, 7, 8, 9]\""
   ]
  },
  {
   "cell_type": "markdown",
   "metadata": {},
   "source": [
    "**Pro-tip**: instead of creating sequential lists like this:\n",
    "\n",
    "```python\n",
    "num = [0, 1, 2, 3, 4, 5, 6, 7, 8, 9]\n",
    "```\n",
    "\n",
    "... we can also create a list using the syntax: \n",
    "\n",
    "```python\n",
    "num = list(range(starting_point, exclusive_end_point))\n",
    "```\n",
    "\n",
    "For example, to create a list from 5 to 15, you can do the following:\n",
    "\n",
    "```python\n",
    "num = list(range(5, 16))\n",
    "```\n",
    "\n",
    "We'll use this construction (`list(range(x, y))`, or without the `list`) quite often in this course!"
   ]
  },
  {
   "cell_type": "markdown",
   "metadata": {},
   "source": [
    "<div class='alert alert-warning'>\n",
    "    <b>ToDo</b>: From the list (<tt>my_list</tt>) below, extract the numbers 2, 3, 4, 5, and 6 using a slice and store it in a new variable named <tt>my_new_list</tt>!\n",
    "</div>"
   ]
  },
  {
   "cell_type": "code",
   "execution_count": null,
   "metadata": {
    "deletable": false,
    "nbgrader": {
     "cell_type": "code",
     "checksum": "be9742dea5802c29caaa644ab716cf1a",
     "grade": false,
     "grade_id": "cell-daeb7ca767d21986",
     "locked": false,
     "schema_version": 3,
     "solution": true
    },
    "tags": [
     "hide-cell"
    ]
   },
   "outputs": [],
   "source": [
    "\"\"\" Implement the ToDo here. \"\"\"\n",
    "my_list = [1, 2, 3, 4, 5, 6, 7, 8, 9, 10]\n",
    "# YOUR CODE HERE\n",
    "raise NotImplementedError()"
   ]
  },
  {
   "cell_type": "code",
   "execution_count": null,
   "metadata": {
    "deletable": false,
    "editable": false,
    "nbgrader": {
     "cell_type": "code",
     "checksum": "830c4b2910932de00987f4fcf20ff859",
     "grade": true,
     "grade_id": "cell-326bc8ff7960e645",
     "locked": true,
     "points": 0,
     "schema_version": 3,
     "solution": false
    }
   },
   "outputs": [],
   "source": [
    "from tests import test_slicing_1\n",
    "available_vars = dir()\n",
    "if 'my_new_list' not in available_vars:\n",
    "    raise ValueError(\"You did not store the results in a new variable called 'my_new_list'!\")\n",
    "    \n",
    "test_slicing_1(my_new_list)"
   ]
  },
  {
   "cell_type": "markdown",
   "metadata": {},
   "source": [
    "<div class='alert alert-warning'>\n",
    "    <b>ToDo</b>: From the list below (<tt>my_list_2</tt>), extract the values <tt>[5, 7, 9, 11]</tt> using a slice (i.e., in a single operation!) and store it in a new variable named <tt>my_new_list_2</tt>.\n",
    "</div>"
   ]
  },
  {
   "cell_type": "code",
   "execution_count": null,
   "metadata": {
    "deletable": false,
    "nbgrader": {
     "cell_type": "code",
     "checksum": "3e4af557767c7b3617d84dd47e82fb61",
     "grade": false,
     "grade_id": "cell-cfe59b0d7902a00a",
     "locked": false,
     "schema_version": 3,
     "solution": true
    },
    "tags": [
     "hide-cell"
    ]
   },
   "outputs": [],
   "source": [
    "\"\"\" Implement the ToDo here. \"\"\"\n",
    "my_list_2 = [1, 3, 5, 7, 9, 11, 13, 15, 17, 19, 21]\n",
    "# YOUR CODE HERE\n",
    "raise NotImplementedError()"
   ]
  },
  {
   "cell_type": "code",
   "execution_count": null,
   "metadata": {
    "deletable": false,
    "editable": false,
    "nbgrader": {
     "cell_type": "code",
     "checksum": "1e209d6941aa1ea8c9c82bf67f36f527",
     "grade": true,
     "grade_id": "cell-fac7511a9ff08758",
     "locked": true,
     "points": 0,
     "schema_version": 3,
     "solution": false
    }
   },
   "outputs": [],
   "source": [
    "''' Tests the above ToDo '''\n",
    "from tests import test_slicing_2\n",
    "available_vars = dir()\n",
    "\n",
    "if 'my_new_list_2' not in available_vars:\n",
    "    raise ValueError(\"You didn't define the variable 'my_new_list_2'!\")\n",
    "\n",
    "test_slicing_2(my_new_list_2)"
   ]
  },
  {
   "cell_type": "markdown",
   "metadata": {},
   "source": [
    "*Note*: you can index *strings* the same way as you index lists! Try to see it this way: a string is, quite literally, a *string* (\"list\") of characters. So, to get the first letter of some string s (e.g, 'this is a string'), you simply write: `s[0]`. To get first 5 characters, you write `s[:5]`, etc etc. Remember this!"
   ]
  },
  {
   "cell_type": "code",
   "execution_count": null,
   "metadata": {},
   "outputs": [],
   "source": [
    "# Check out string slicing/indexing below\n",
    "s = 'python programming'\n",
    "print(s[0:9:2])"
   ]
  },
  {
   "cell_type": "markdown",
   "metadata": {},
   "source": [
    "### Dictionaries\n",
    "Dictionaries might be new for those who are used to MATLAB or R. Basically, a dictionary is an *unordered* list in which list entries have a name (which is also referred to as a \"key\"). To get a value from a dictionary, you have to use the \"key\" as index instead of using an integer (although, strictly speaking, keys can also be integers ... but that's not important for now).\n",
    "\n",
    "Let's check out such a dictionary and how to index it. We build a dictionary using the following syntax: \n",
    "\n",
    "```python\n",
    "{some_key: value, another_key: another_value, etc: etc}\n",
    "```\n",
    "\n",
    "The keys can be anything! Strings, integers, lists ... doesn't matter! Mostly, though, strings are used as keys. So, let's look at an example:"
   ]
  },
  {
   "cell_type": "code",
   "execution_count": null,
   "metadata": {},
   "outputs": [],
   "source": [
    "my_dict = {'cat': 'cute', 'dog': 'furry'}  # Create a new dictionary with some data"
   ]
  },
  {
   "cell_type": "markdown",
   "metadata": {},
   "source": [
    "To index a dictionary, we'll use square brackets `[]` again, just like with lists. But now, we can index using the key!"
   ]
  },
  {
   "cell_type": "code",
   "execution_count": null,
   "metadata": {},
   "outputs": [],
   "source": [
    "indexed_value = my_dict['cat']\n",
    "print(indexed_value)"
   ]
  },
  {
   "cell_type": "markdown",
   "metadata": {},
   "source": [
    "Adding new key-value pairs to dictionaries is easy! Just index it with a new key, and assign the value to it:"
   ]
  },
  {
   "cell_type": "code",
   "execution_count": null,
   "metadata": {},
   "outputs": [],
   "source": [
    "my_dict['fish'] = 'wet'     # Set an entry in a dictionary\n",
    "print(my_dict['fish'])      # Prints \"wet\""
   ]
  },
  {
   "cell_type": "markdown",
   "metadata": {},
   "source": [
    "Like a list, an entry in a dictionary can be of any data type:"
   ]
  },
  {
   "cell_type": "code",
   "execution_count": null,
   "metadata": {},
   "outputs": [],
   "source": [
    "my_dict['rabbit'] = ['omg', 'so', 'cute']\n",
    "print(my_dict['rabbit'])"
   ]
  },
  {
   "cell_type": "markdown",
   "metadata": {},
   "source": [
    "If you try to 'index' a dictionary with a key that doesn't exist, it raises a \"KeyError\", which means you're trying to index something that doesn't exist:"
   ]
  },
  {
   "cell_type": "code",
   "execution_count": null,
   "metadata": {
    "tags": [
     "raises-exception"
    ]
   },
   "outputs": [],
   "source": [
    "print(my_dict['monkey'])"
   ]
  },
  {
   "cell_type": "markdown",
   "metadata": {},
   "source": [
    "<div class='alert alert-warning'>\n",
    "    <b>ToDo</b>: In the code cell below, add a new key to the dictionary <tt>my_dict</tt> named <tt>\"rat\"</tt> and with the value <tt>\"nasty\"</tt>.\n",
    "</div>"
   ]
  },
  {
   "cell_type": "code",
   "execution_count": null,
   "metadata": {
    "deletable": false,
    "nbgrader": {
     "cell_type": "code",
     "checksum": "c49e8eb14384a4d1fdbb2975964dfb60",
     "grade": false,
     "grade_id": "cell-121f9f1b0a5263be",
     "locked": false,
     "schema_version": 3,
     "solution": true
    },
    "tags": [
     "hide-cell"
    ]
   },
   "outputs": [],
   "source": [
    "\"\"\" Implement the ToDo here. \"\"\"\n",
    "# YOUR CODE HERE\n",
    "raise NotImplementedError()"
   ]
  },
  {
   "cell_type": "code",
   "execution_count": null,
   "metadata": {
    "deletable": false,
    "editable": false,
    "nbgrader": {
     "cell_type": "code",
     "checksum": "943d4654bea977944ccfb93684a444f4",
     "grade": true,
     "grade_id": "cell-0db58b3f530e7219",
     "locked": true,
     "points": 0,
     "schema_version": 3,
     "solution": false
    }
   },
   "outputs": [],
   "source": [
    "\"\"\" Tests the above ToDo. \"\"\"\n",
    "try:\n",
    "    assert('rat' in my_dict)\n",
    "except AssertionError as e:\n",
    "    print(\"There exists no key 'rat' in my_dict!\")\n",
    "    raise(e)\n",
    "\n",
    "try:\n",
    "    assert(my_dict['rat'] == 'nasty')\n",
    "except AssertionError as e:\n",
    "    print(\"The value of key 'rat' is '%s' and NOT 'nasty'\" % my_dict['rat'])\n",
    "\n",
    "print('Well done!')"
   ]
  },
  {
   "cell_type": "markdown",
   "metadata": {},
   "source": [
    "<div class='alert alert-warning'>\n",
    "<b>ToDo</b>: Values of dictionaries can be any type of object, even dictionaries themselves! So, add a new key to the dictionary <tt>my_dict</tt> named <tt>\"another_dict\"</tt> with the value of <em>another</em> dictionary with the keys <tt>\"a\"</tt> and <tt>\"b\"</tt> and the corresponding values <tt>1</tt> and <tt>2</tt>. Also, try to figure out how to index the value <tt>1</tt> from the 'nested' dictionary (this is not graded, but try it nonetheless!).\n",
    "</div>"
   ]
  },
  {
   "cell_type": "code",
   "execution_count": null,
   "metadata": {
    "deletable": false,
    "nbgrader": {
     "cell_type": "code",
     "checksum": "257076cf8655424346fafd396a222ecf",
     "grade": false,
     "grade_id": "cell-8c0d0b8e890bfb78",
     "locked": false,
     "schema_version": 3,
     "solution": true
    },
    "tags": [
     "hide-cell"
    ]
   },
   "outputs": [],
   "source": [
    "\"\"\" Implement the ToDo here. \"\"\"\n",
    "# YOUR CODE HERE\n",
    "raise NotImplementedError()"
   ]
  },
  {
   "cell_type": "code",
   "execution_count": null,
   "metadata": {
    "deletable": false,
    "editable": false,
    "nbgrader": {
     "cell_type": "code",
     "checksum": "9835b850a40a2be0084604d17fc5bff8",
     "grade": true,
     "grade_id": "cell-83ed96f5b23bddbe",
     "locked": true,
     "points": 0,
     "schema_version": 3,
     "solution": false
    }
   },
   "outputs": [],
   "source": [
    "\"\"\" Tests the above ToDo. \"\"\"\n",
    "try:\n",
    "    assert('another_dict' in my_dict)\n",
    "except AssertionError as e:\n",
    "    print(\"There exists no key 'another_dict' in my_dict!\")\n",
    "    raise(e)\n",
    "\n",
    "try:\n",
    "    assert(my_dict['another_dict']['a'] == 1)\n",
    "    assert(my_dict['another_dict']['b'] == 2)\n",
    "except AssertionError as e:\n",
    "    print(\"The key 'another_dictionary' should contain a dictionary with keys 'a' and 'b', corresponding\"\n",
    "          \"to values 1 and 2, respectively.\")\n",
    "    raise(e)\n",
    "\n",
    "print('Well done!')"
   ]
  },
  {
   "cell_type": "markdown",
   "metadata": {},
   "source": [
    "<div class='alert alert-success'>\n",
    "    <b>Tip</b>: Instead of using curly braces, you can also initialize dictionaries explicitly using the <tt>dict</tt> class:<br>\n",
    "    <tt>some_dict = dict(key1='value1', key2='value2')</tt><br>\n",
    "    Note, though, you have to use string-like keys in this approach (unlike the curly brace approach).\n",
    "</div>"
   ]
  },
  {
   "cell_type": "markdown",
   "metadata": {},
   "source": [
    "### Tuples\n",
    "Tuples are very much like lists, but the main difference is that they are immutable. In other words, after creating them, they cannot be modified (their values cannot be replaced/altered):"
   ]
  },
  {
   "cell_type": "code",
   "execution_count": null,
   "metadata": {},
   "outputs": [],
   "source": [
    "# A list can be modified ...\n",
    "my_list = [1, 2, 3]\n",
    "my_list[0] = 0\n",
    "print(my_list)"
   ]
  },
  {
   "cell_type": "code",
   "execution_count": null,
   "metadata": {
    "tags": [
     "raises-exception"
    ]
   },
   "outputs": [],
   "source": [
    "# ... but a tuple cannot (and will give an error!)\n",
    "my_tuple = (1, 2, 3)\n",
    "print(my_tuple[0]) # you can print parts of tuple ...\n",
    "my_tuple[0] = 0   # but you cannot modify it!"
   ]
  },
  {
   "cell_type": "markdown",
   "metadata": {},
   "source": [
    "You probably won't use tuples a lot, but you might come across them when using and writing functions, as multiple outputs from functions are stored in tuples (see below; but more about that in the next section!)."
   ]
  },
  {
   "cell_type": "code",
   "execution_count": null,
   "metadata": {},
   "outputs": [],
   "source": [
    "def my_epic_function(integer):\n",
    "    \"\"\" Returns the input and the input times 2.\"\"\"\n",
    "    return integer, integer * 2\n",
    "\n",
    "outputs = my_epic_function(10)\n",
    "print(outputs)\n",
    "print(type(outputs))"
   ]
  },
  {
   "cell_type": "markdown",
   "metadata": {},
   "source": [
    "## Functions and methods\n",
    "\n",
    "### Functions\n",
    "Like any programming language, Python allows you to create your own custom functions. Writing your own functions is useful when, for example, you want to do a particular computation/task many times. Then, if you need to change the computation or task, you only have to change the function instead of manually editing your code every time you do the computation/task. If you're familiar with other programming languages, you'll see that the syntax of Python functions is quite similar to what you're used to.\n",
    "\n",
    "A function definition in Python starts with the keyword `def`, followed by the function name and round brackets with the arguments to the function, and finally the contents of the function, like so (note the indentation with four spaces/tab!):\n",
    "\n",
    "```python\n",
    "def my_awesome_function(arg_1, arg_2):\n",
    "    print(\"Argument 1: %s\" % arg_1)\n",
    "    print(\"Argument 2: %s\" % arg_2)\n",
    "```\n",
    "\n",
    "This dummy-function above prints some stuff, but does not *return* something. Similar to R (but unlike MATLAB), you have to explicitly state what you want to *return* from the function by the `return` statement. \n",
    "\n",
    "So, suppose you have a function that adds 2 to any number. Let's define it as follows (you have to run the cell to let Python know you've defined this function):"
   ]
  },
  {
   "cell_type": "code",
   "execution_count": null,
   "metadata": {},
   "outputs": [],
   "source": [
    "def add_2_to_a_number(some_number):\n",
    "    new_number = some_number + 2"
   ]
  },
  {
   "cell_type": "markdown",
   "metadata": {},
   "source": [
    "Here, we omitted a `return` statement to return the value of `new_number`. This is a problem, because in Python (like most languages) you cannot 'peek' inside the function after using it! You can only access whatever is returned. \n",
    "\n",
    "So, in the function defined above, we cannot access the value of `new_number`, because we didn't return it (so it will give an error):"
   ]
  },
  {
   "cell_type": "code",
   "execution_count": null,
   "metadata": {
    "tags": [
     "raises-exception"
    ]
   },
   "outputs": [],
   "source": [
    "# This will give an error!\n",
    "add_2_to_a_number(5)\n",
    "print(new_number)"
   ]
  },
  {
   "cell_type": "markdown",
   "metadata": {},
   "source": [
    "So, to access the *value* of `new_number` (that is, *not* `new_number` itself, but its associated value), we need to return it:"
   ]
  },
  {
   "cell_type": "code",
   "execution_count": null,
   "metadata": {},
   "outputs": [],
   "source": [
    "def add_2_to_a_number_fixed(some_number):\n",
    "    new_number = some_number + 2\n",
    "    return new_number"
   ]
  },
  {
   "cell_type": "code",
   "execution_count": null,
   "metadata": {},
   "outputs": [],
   "source": [
    "value_contained_in_new_number = add_2_to_a_number_fixed(5)\n",
    "print(\"Results of function 'add_2_to_a_number' with argument '5': %i\" % value_contained_in_new_number)"
   ]
  },
  {
   "cell_type": "markdown",
   "metadata": {},
   "source": [
    "Importantly, you can name the variable to which you assign the return value *anyway you like*. This doesn't have to be `new_number`! Like above, we named it `value_contained_in_new_number`, but it really doesn't matter."
   ]
  },
  {
   "cell_type": "markdown",
   "metadata": {},
   "source": [
    "<div class='alert alert-warning'>\n",
    "<b>ToDo</b>: In the code cell below, we've started writing a function named <tt>extract_last_element</tt> that takes one input-argument &mdash; a list &mdash; and returns the last element of the list. Some parts of the function are missing, though, which you need to write! When you're done, run the test-cell below it to check if it's right! \n",
    "</div>"
   ]
  },
  {
   "cell_type": "code",
   "execution_count": null,
   "metadata": {
    "deletable": false,
    "nbgrader": {
     "cell_type": "code",
     "checksum": "8c846dc90da2025d98c74f3ee77989be",
     "grade": false,
     "grade_id": "cell-844cc0bf2fe08f21",
     "locked": false,
     "schema_version": 3,
     "solution": true
    },
    "tags": [
     "hide-cell"
    ]
   },
   "outputs": [],
   "source": [
    "\"\"\" Implement the ToDo here. \"\"\"\n",
    "def extract_last_element(input_list):\n",
    "    \n",
    "    # YOUR CODE HERE\n",
    "    raise NotImplementedError()"
   ]
  },
  {
   "cell_type": "code",
   "execution_count": null,
   "metadata": {
    "deletable": false,
    "editable": false,
    "nbgrader": {
     "cell_type": "code",
     "checksum": "91abed623018d68e86b6174bdfdf25ce",
     "grade": true,
     "grade_id": "cell-cce2e863aae1f1d8",
     "locked": true,
     "points": 0,
     "schema_version": 3,
     "solution": false
    }
   },
   "outputs": [],
   "source": [
    "try:\n",
    "    assert(extract_last_element(input_list=[0, 1, 2]) == 2)\n",
    "except AssertionError as e:\n",
    "    print(\"Your function fails for input [0, 1, 2]\")\n",
    "    raise(e)\n",
    "\n",
    "try:\n",
    "    assert(extract_last_element(input_list=[0]) == 0)\n",
    "except AssertionError as e:\n",
    "    print(\"Your function fails for input [0]\")\n",
    "    raise(e)\n",
    "\n",
    "try:\n",
    "    assert(extract_last_element(input_list=['string1', 'string2', 'string3']) == 'string3')\n",
    "except AssertionError as e:\n",
    "    print(\"Your function fails for input ['string1', 'string2', 'string3']\")\n",
    "    raise(e)\n",
    "\n",
    "print(\"GREAT! All seems to be correct :-)\")"
   ]
  },
  {
   "cell_type": "markdown",
   "metadata": {},
   "source": [
    "Alright, that was probably relatively easy. Let's do a slightly harder one."
   ]
  },
  {
   "cell_type": "markdown",
   "metadata": {},
   "source": [
    "<div class='alert alert-warning'>\n",
    "    <b>ToDo</b>: Write a completely new function named <tt>get_values_from_odd_indices</tt> (so you have to write the <tt>def ...</tt> part!) that takes one input-argument &mdash; a list &mdash; and returns all values from the odd indices of that list. So, suppose you have the following list: [2, 100, 25, 48, 92, -5, 12]. Your function should return: [100, 48, -5]. That is, the values from odd indices (here: 1, 3, 5; we exclude index zero!) Hint: slices might be useful here!\n",
    "</div>"
   ]
  },
  {
   "cell_type": "code",
   "execution_count": null,
   "metadata": {
    "deletable": false,
    "nbgrader": {
     "cell_type": "code",
     "checksum": "cae2dd922f6589aefbdf399c8c59ea82",
     "grade": false,
     "grade_id": "cell-b53fdc7b50d5fcf3",
     "locked": false,
     "schema_version": 3,
     "solution": true
    },
    "tags": [
     "hide-cell"
    ]
   },
   "outputs": [],
   "source": [
    "\"\"\" Implement your function here. \"\"\"\n",
    "# YOUR CODE HERE\n",
    "raise NotImplementedError()"
   ]
  },
  {
   "cell_type": "code",
   "execution_count": null,
   "metadata": {
    "deletable": false,
    "editable": false,
    "nbgrader": {
     "cell_type": "code",
     "checksum": "6ee6e794cac939783bc21c28304cc8d1",
     "grade": true,
     "grade_id": "cell-f0aba01f8698280a",
     "locked": true,
     "points": 0,
     "schema_version": 3,
     "solution": false
    }
   },
   "outputs": [],
   "source": [
    "\"\"\" Tests the ToDo above. \"\"\"\n",
    "try:\n",
    "    assert('get_values_from_odd_indices' in dir())\n",
    "    assert(callable(get_values_from_odd_indices))\n",
    "except AssertionError as e:\n",
    "    print(\"Your function 'get_values_from_odd_indices' does not seem to exist!\")\n",
    "\n",
    "try:\n",
    "    out = get_values_from_odd_indices([0, 1, 2])\n",
    "    if out is None:\n",
    "        msg = \"ERROR: did you forget the Return statement?\"\n",
    "        raise ValueError(msg)\n",
    "except ValueError as e:\n",
    "    raise(e)\n",
    "    \n",
    "print(\"Well done (also run the next cell with tests)!\")"
   ]
  },
  {
   "cell_type": "code",
   "execution_count": null,
   "metadata": {
    "deletable": false,
    "editable": false,
    "nbgrader": {
     "cell_type": "code",
     "checksum": "787decdff29759c3c206122e42af4545",
     "grade": true,
     "grade_id": "cell-3dbc2e60c3240847",
     "locked": true,
     "points": 0,
     "schema_version": 3,
     "solution": false
    }
   },
   "outputs": [],
   "source": [
    "\"\"\" Some other tests for the ToDo above. \"\"\"\n",
    "inp = [0, 1, 2]\n",
    "outp = get_values_from_odd_indices(inp)\n",
    "ans = [1]\n",
    "try:\n",
    "    assert(outp == ans)\n",
    "except AssertionError as e:\n",
    "    print(\"Your function returned '%r' but I expected '%r'\" % (outp, ans))\n",
    "    raise(e)\n",
    "\n",
    "inp = [5, 7, 9, 11, 13, 15, 18, 20, 21]\n",
    "outp = get_values_from_odd_indices(inp)\n",
    "ans = [7, 11, 15, 20]\n",
    "try:\n",
    "    assert(outp == ans)\n",
    "except AssertionError as e:\n",
    "    print(\"Your function returned '%r' but I expected '%r'\" % (outp, ans))\n",
    "    raise(e)\n",
    "\n",
    "print(\"Well done!\")"
   ]
  },
  {
   "cell_type": "markdown",
   "metadata": {},
   "source": [
    "**Important**: it is possible to return *multiple things* from a function. The function, then, returns these things as a tuple, which can subsequently be \"unpacked\". Let's check out an example using a custom function called `minmax_of_list` which returns both the minimum and maximum of a list:"
   ]
  },
  {
   "cell_type": "code",
   "execution_count": null,
   "metadata": {},
   "outputs": [],
   "source": [
    "def minmax_of_list(some_list):\n",
    "    ''' Returns both the minimum and maximum of a list.\n",
    "    \n",
    "    Parameters\n",
    "    ----------\n",
    "    some_list : list\n",
    "        A list with numbers (int/float) only\n",
    "    \n",
    "    Returns\n",
    "    -------\n",
    "    min_value : a float or int\n",
    "        The minimum of a list\n",
    "    max_value : a float or int\n",
    "        The maximum of a list\n",
    "    '''\n",
    "    min_value = min(some_list)\n",
    "    max_value = max(some_list)\n",
    "    \n",
    "    return min_value, max_value"
   ]
  },
  {
   "cell_type": "markdown",
   "metadata": {},
   "source": [
    "As you can see, returning multiple things is a simple as adding more variables after the `return` statement, separated by commas. If we now call the function with a particular list, it gives us back a tuple of size 2 (one value for the minimum, one value for the maximum):"
   ]
  },
  {
   "cell_type": "code",
   "execution_count": null,
   "metadata": {},
   "outputs": [],
   "source": [
    "output_from_function = minmax_of_list([0, 1, 2, 3])\n",
    "print(output_from_function)\n",
    "print(type(output_from_function))"
   ]
  },
  {
   "cell_type": "markdown",
   "metadata": {},
   "source": [
    "We can now \"unpack\" the tuple (i.e., extract the separate values) in several ways. One way is to simply index the values:"
   ]
  },
  {
   "cell_type": "code",
   "execution_count": null,
   "metadata": {},
   "outputs": [],
   "source": [
    "output_from_function = minmax_of_list([0, 1, 2, 3])\n",
    "minimum = output_from_function[0]\n",
    "print(\"Minimum: %i\" % minimum)\n",
    "\n",
    "maximum = output_from_function[1]\n",
    "print(\"Maximum: %i\" % maximum)"
   ]
  },
  {
   "cell_type": "markdown",
   "metadata": {},
   "source": [
    "Alternatively, we can already \"extract\" one value, let's say the maximum (index 1 of the tuple) right after calling the function, so we can skip dealing with the tuple altogether:"
   ]
  },
  {
   "cell_type": "code",
   "execution_count": null,
   "metadata": {},
   "outputs": [],
   "source": [
    "maximum = minmax_of_list([0, 1, 2, 3])[1]  # The [1] extracts the maximum from the output of the function immediately!\n",
    "print(\"Maximum: %i\" % maximum)"
   ]
  },
  {
   "cell_type": "markdown",
   "metadata": {},
   "source": [
    "Keep this feature of returning multiple things and tuple unpacking in mind for the rest of the course (you'll definitely encounter it more often!)."
   ]
  },
  {
   "cell_type": "markdown",
   "metadata": {},
   "source": [
    "<div class='alert alert-warning'>\n",
    "    <b>ToDo</b>: Write a function called <tt>get_length_first_and_last_value</tt> which takes a list as single input argument, and returns the length of the list (the first output), the first value of the list (the second output), and the last value of the list (the third output). So, e.g., for the list <tt>[0, 1, 2, 3, 4]</tt>, the function should return <tt>(5, 0, 4)</tt> (a tuple of length 3, with the three outputs). Note that it should work for lists of arbitrary lengths and value types!\n",
    "</div>"
   ]
  },
  {
   "cell_type": "code",
   "execution_count": null,
   "metadata": {
    "deletable": false,
    "nbgrader": {
     "cell_type": "code",
     "checksum": "ab41ca06de88666d84eed040fdcb12e0",
     "grade": false,
     "grade_id": "cell-1d7353d763e789a1",
     "locked": false,
     "schema_version": 3,
     "solution": true
    },
    "tags": [
     "hide-cell"
    ]
   },
   "outputs": [],
   "source": [
    "\"\"\" Implement the function here. \"\"\"\n",
    "# YOUR CODE HERE\n",
    "raise NotImplementedError()"
   ]
  },
  {
   "cell_type": "code",
   "execution_count": null,
   "metadata": {
    "deletable": false,
    "editable": false,
    "nbgrader": {
     "cell_type": "code",
     "checksum": "c98ec9a60e493aeb171cea93f75fea42",
     "grade": true,
     "grade_id": "cell-2df42fc82e0bc822",
     "locked": true,
     "points": 0,
     "schema_version": 3,
     "solution": false
    }
   },
   "outputs": [],
   "source": [
    "\"\"\" Tests the above ToDo. \"\"\"\n",
    "try:\n",
    "    assert('get_length_first_and_last_value' in dir())\n",
    "    assert(callable(get_length_first_and_last_value))\n",
    "except AssertionError as e:\n",
    "    print(\"Your function 'get_length_first_and_last_value' does not seem to exist!\")\n",
    "\n",
    "out = get_length_first_and_last_value([0, 1, 2])\n",
    "if out is None:\n",
    "    msg = \"ERROR: did you forget the Return statement?\"\n",
    "    raise ValueError(msg)\n",
    "    \n",
    "if len(out) != 3:\n",
    "    msg = \"ERROR: you returned %i things; this should be 3!\" % len(out)\n",
    "    raise ValueError(msg)\n",
    "\n",
    "assert(out == (3, 0, 2))\n",
    "assert(get_length_first_and_last_value([2, 3, 4, 5, 6, 7]) == (6, 2, 7))\n",
    "assert(get_length_first_and_last_value([0]) == (1, 0, 0))\n",
    "assert(get_length_first_and_last_value(['a', 'b']) == (2, 'a', 'b'))\n",
    "\n",
    "print(\"Well done!\")"
   ]
  },
  {
   "cell_type": "markdown",
   "metadata": {},
   "source": [
    "<div class='alert alert-warning'>\n",
    "    <b>ToDo</b> (optional!): For this optional ToDo, write a function named <tt>round_number</tt> which takes a single argument, a float, and returns its nearest integer. For example, for the input <tt>5.3820</tt>, the function should return the integer <tt>5</tt> and for the input <tt>395.89271</tt> the function should return the integer <tt>396</tt>. Floats exactly in between two integers (e.g., <tt>3.5</tt>, <tt>38502.5</tt>, etc.) should be rounded up.\n",
    "    \n",
    "Here's the catch: try to do this without a conditional (if-else statement) and, of course, without the built-in <tt>round</tt> function (or Numpy equivalent)! Hint: try to see what happens when you convert a float to an integer using the <tt>int</tt> function. \n",
    "</div>"
   ]
  },
  {
   "cell_type": "code",
   "execution_count": null,
   "metadata": {
    "deletable": false,
    "nbgrader": {
     "cell_type": "code",
     "checksum": "b60262f05fef9362369588674a7dd345",
     "grade": false,
     "grade_id": "cell-8c29c2aad33bf842",
     "locked": false,
     "schema_version": 3,
     "solution": true,
     "task": false
    },
    "tags": [
     "hide-cell"
    ]
   },
   "outputs": [],
   "source": [
    "\"\"\" Implement the ToDo below. \"\"\"\n",
    "# YOUR CODE HERE\n",
    "raise NotImplementedError()"
   ]
  },
  {
   "cell_type": "code",
   "execution_count": null,
   "metadata": {
    "deletable": false,
    "editable": false,
    "nbgrader": {
     "cell_type": "code",
     "checksum": "f1d993d40c789521bb71f42340ac6cb6",
     "grade": true,
     "grade_id": "cell-72233ed2721d59b7",
     "locked": true,
     "points": 0,
     "schema_version": 3,
     "solution": false,
     "task": false
    }
   },
   "outputs": [],
   "source": [
    "\"\"\" Tests the above ToDo. \"\"\"\n",
    "for num in [3.2385, 3.5, 3.9285, 28583.2195]:\n",
    "    rounded = round_number(num)\n",
    "    if not isinstance(rounded, int):\n",
    "        raise ValueError(\"The rounded number is not an integer!\")\n",
    "        \n",
    "    if rounded != round(num - 1e-100):\n",
    "        raise ValueError(\"The rounding is not correct ...\")\n",
    "        \n",
    "print(\"Well done!\")"
   ]
  },
  {
   "cell_type": "markdown",
   "metadata": {},
   "source": [
    "### Methods\n",
    "In Python, functions are not the only things that allow you to 'do' things with data. As you've seen in the previous notebook, there are also methods! Different types of objects in Python, such as stings and lists, have their own set of methods. For example, the function you defined above (`extract_last_element()`) also exists as a method each list has, called `pop()`! (This is a builtin, standard, method that each list in Python has.) See for yourself in the block below."
   ]
  },
  {
   "cell_type": "code",
   "execution_count": null,
   "metadata": {},
   "outputs": [],
   "source": [
    "my_list = [0, 5, 10, 15] \n",
    "print(my_list.pop())\n",
    "\n",
    "# You can also just do the following (i.e. no need to define a variable first!):\n",
    "print([0, 5, 10, 15].pop())\n",
    "\n",
    "# ... which is the same as:\n",
    "print(extract_last_element([0, 5, 10, 15]))"
   ]
  },
  {
   "cell_type": "markdown",
   "metadata": {},
   "source": [
    "Not only lists, but also other data-types (such as strings, dictionaries, and, as we'll see later, numpy arrays) have their own methods. We'll show you a couple of (often-used) examples of methods in built-in data types.\n",
    "\n",
    "First, one often used method of lists is `append`, which takes in an object adds it to itself."
   ]
  },
  {
   "cell_type": "code",
   "execution_count": null,
   "metadata": {},
   "outputs": [],
   "source": [
    "x = [0, 10, 15]\n",
    "x.append(20) # Add a new element to the end of the list using the append() method!\n",
    "print(x)"
   ]
  },
  {
   "cell_type": "markdown",
   "metadata": {},
   "source": [
    "<div class='alert alert-warning'>\n",
    "    <b>ToDo</b>: Suppose we have a list of grades (the variable <tt>grades</tt> below) and we want to extend this list with two other grades (the variable <tt>new</tt> below). Use the <tt>append</tt> function to add the new grades to the <tt>grades</tt> variable such that it has six elements afterwards.\n",
    "</div>"
   ]
  },
  {
   "cell_type": "code",
   "execution_count": null,
   "metadata": {
    "deletable": false,
    "nbgrader": {
     "cell_type": "code",
     "checksum": "77daaccd55e11596a330a84557d81429",
     "grade": false,
     "grade_id": "cell-f76db66bbbb54248",
     "locked": false,
     "schema_version": 3,
     "solution": true,
     "task": false
    },
    "tags": [
     "hide-cell"
    ]
   },
   "outputs": [],
   "source": [
    "\"\"\" Implement the ToDo here. \"\"\"\n",
    "grades = [8.5, 7.2, 9.8, 8.1]\n",
    "new = [10.0, 6.8]\n",
    "\n",
    "# YOUR CODE HERE\n",
    "raise NotImplementedError()"
   ]
  },
  {
   "cell_type": "code",
   "execution_count": null,
   "metadata": {
    "deletable": false,
    "editable": false,
    "nbgrader": {
     "cell_type": "code",
     "checksum": "7d8f6c9e17b0e61fdc2188be12b78ba5",
     "grade": true,
     "grade_id": "cell-bb93393ec583cd5c",
     "locked": true,
     "points": 0,
     "schema_version": 3,
     "solution": false,
     "task": false
    }
   },
   "outputs": [],
   "source": [
    "\"\"\" Tests the ToDo above. \"\"\"\n",
    "if grades[-1] == [10.0, 6.8]:\n",
    "    raise ValueError(\"You added all new grades at once ... Do you understand what is going wrong?\")\n",
    "\n",
    "if not grades[-2:] == [10.0, 6.8] or grades[-2:] == [6.8, 10.0]:\n",
    "    raise ValueError(\"Something else went wrong ...\")\n",
    "else:\n",
    "    print(\"YAY!\")"
   ]
  },
  {
   "cell_type": "markdown",
   "metadata": {},
   "source": [
    "Some often-used methods for dictionaries are `values` and `keys`, which return the dictionary's values and keys, respectively. This may be useful in loops (as will be discussed later)."
   ]
  },
  {
   "cell_type": "code",
   "execution_count": null,
   "metadata": {},
   "outputs": [],
   "source": [
    "my_dict = {'a': 0, 'b': 1, 'c': 2}\n",
    "\n",
    "# The .values() method returns all the values of the dictionary \n",
    "print(list(my_dict.values()))\n",
    "\n",
    "# And the .keys() method returns all the keys of the dictionary\n",
    "print(list(my_dict.keys()))"
   ]
  },
  {
   "cell_type": "markdown",
   "metadata": {},
   "source": [
    "Strings actually have a ton of useful methods that come in handy when manipulating and \"cleaning up\" text:"
   ]
  },
  {
   "cell_type": "code",
   "execution_count": null,
   "metadata": {},
   "outputs": [],
   "source": [
    "my_string = 'Python is fun!'\n",
    "\n",
    "# The .upper() method returns the string in uppercase!\n",
    "print(my_string.upper())\n",
    "\n",
    "# The .count(substring) method returns the number of times a substring occurs in a string\n",
    "print(my_string.count('n'))\n",
    "\n",
    "# The .replace(old, new) method replaces substrings\n",
    "print(my_string.replace('fun', 'awesome'))\n",
    "\n",
    "# The .split(separator) splits a string into subparts (returned as a list)\n",
    "print(my_string.split(' '))  # split by whitespace"
   ]
  },
  {
   "cell_type": "markdown",
   "metadata": {},
   "source": [
    "<div class='alert alert-warning'>\n",
    "    <b>ToDo</b>: Below, fix the string with typos (<tt>lots_of_typos</tt>) using (a combination of) string methods and store the result in a new variable named <tt>fixed_string</tt>. Note that you can \"chain\" different methods together on a single line (but this is not necessarily better/more readable)!\n",
    "</div>"
   ]
  },
  {
   "cell_type": "code",
   "execution_count": null,
   "metadata": {
    "deletable": false,
    "nbgrader": {
     "cell_type": "code",
     "checksum": "2a10e8a0a6af1e13c298176054ab751c",
     "grade": false,
     "grade_id": "cell-e4ae7215115b1e2f",
     "locked": false,
     "schema_version": 3,
     "solution": true,
     "task": false
    },
    "tags": [
     "hide-cell"
    ]
   },
   "outputs": [],
   "source": [
    "\"\"\" Implement the ToDo here. \"\"\"\n",
    "lots_of_typos = \"My.name.is.Lukas.and.i.like.Pyton.\"\n",
    "# YOUR CODE HERE\n",
    "raise NotImplementedError()"
   ]
  },
  {
   "cell_type": "code",
   "execution_count": null,
   "metadata": {
    "deletable": false,
    "editable": false,
    "nbgrader": {
     "cell_type": "code",
     "checksum": "088197eb014fe760d0fdeef5940abad2",
     "grade": true,
     "grade_id": "cell-cdc04b148398e822",
     "locked": true,
     "points": 0,
     "schema_version": 3,
     "solution": false,
     "task": false
    }
   },
   "outputs": [],
   "source": [
    "\" Tests the above ToDo. \"\"\"\n",
    "if fixed_string != \"My name is Lukas and I like Python.\":\n",
    "    raise ValueError(\"Not completely correct yet ...\")\n",
    "\n",
    "print(\"Damn, you're a Python wizard!\")"
   ]
  },
  {
   "cell_type": "markdown",
   "metadata": {},
   "source": [
    "### Default arguments in functions/methods\n",
    "Importantly, and unlike most (scientific) programming languages, Python supports the use of 'default' arguments in functions. Basically, if you don't specify an optional argument, it uses the default:"
   ]
  },
  {
   "cell_type": "code",
   "execution_count": null,
   "metadata": {},
   "outputs": [],
   "source": [
    "def exponentiate_number(number, power=2):\n",
    "    return number ** power\n",
    "\n",
    "print(exponentiate_number(2)) # now it uses the default!\n",
    "print(exponentiate_number(2, 10)) # now it \"overwrites\" the default and uses power=10\n",
    "print(exponentiate_number(number=2, power=10)) # also note that you can 'name' arguments "
   ]
  },
  {
   "cell_type": "markdown",
   "metadata": {},
   "source": [
    "## Conditionals (if-statements)\n",
    "Conditionals, or \"if-statements\", are quite straightforward. There are used in combination with booleans (`True` and `False` values) to run code conditionally. An example:\n",
    "An example:"
   ]
  },
  {
   "cell_type": "code",
   "execution_count": null,
   "metadata": {},
   "outputs": [],
   "source": [
    "x = 5\n",
    "\n",
    "if x > 0:\n",
    "    print('x is larger than 0')\n",
    "elif x < 0:\n",
    "    print('x is smaller than 0')\n",
    "else:\n",
    "    print('x must be exactly 0!')"
   ]
  },
  {
   "cell_type": "markdown",
   "metadata": {},
   "source": [
    "If-statements contain at least an `if` keyword, but optionally also one or more `elif` (\"else if\") statements and an optional `else` statement. We'll practice this (in a `ToDo`) after the section on Loops."
   ]
  },
  {
   "cell_type": "markdown",
   "metadata": {},
   "source": [
    "<div class='alert alert-warning'>\n",
    "    <b>ToDo</b> (optional): Write a function named <tt>juf</tt> that takes a single argument named <tt>number</tt> (an integer with a default of 1) and prints out the number <em>unless</em> the number is divisible by 7 (e.g., 14 or 21) <em>or</em> contains a 7 (e.g., 7, 27, or 77); in that case, it prints| \"JUF!\". (Apologies to the non-Dutchies for this reference.)\n",
    "    \n",
    "<br>Hint: you may want to use the <a href=\"https://realpython.com/python-modulo-operator/\">modulo operator (%)</a> to check the divisibility of a number by another number.\n",
    "</div>"
   ]
  },
  {
   "cell_type": "code",
   "execution_count": null,
   "metadata": {
    "deletable": false,
    "nbgrader": {
     "cell_type": "code",
     "checksum": "14afcc0d3c3ddf450b9c90904671faf6",
     "grade": false,
     "grade_id": "cell-3eead06787af2ed8",
     "locked": false,
     "schema_version": 3,
     "solution": true,
     "task": false
    },
    "tags": [
     "hide-cell"
    ]
   },
   "outputs": [],
   "source": [
    "\"\"\" Implement the ToDo here. \"\"\"\n",
    "# YOUR CODE HERE\n",
    "raise NotImplementedError()"
   ]
  },
  {
   "cell_type": "code",
   "execution_count": null,
   "metadata": {
    "deletable": false,
    "editable": false,
    "nbgrader": {
     "cell_type": "code",
     "checksum": "1f98f73297d02b261228e082eee0cc7b",
     "grade": true,
     "grade_id": "cell-3b25bfa3b7e42ef1",
     "locked": true,
     "points": 0,
     "schema_version": 3,
     "solution": false,
     "task": false
    }
   },
   "outputs": [],
   "source": [
    "\"\"\" Tests the ToDo above. \"\"\"\n",
    "import inspect\n",
    "\n",
    "spec = inspect.getfullargspec(juf)\n",
    "if spec.args[0] != 'number':\n",
    "    raise ValueError(\"The argument to juf is not called `number`!\")\n",
    "    \n",
    "if spec.defaults[0] != 1:\n",
    "    raise ValueError(\"The default of `number` should be 1!\")\n",
    "\n",
    "# The following should print out: 1, JUF!, JUF!, 22, JUF!, JUF!, 80\n",
    "for nb in [1, 7, 17, 22, 63, 71, 80]:\n",
    "    juf(nb)"
   ]
  },
  {
   "cell_type": "markdown",
   "metadata": {},
   "source": [
    "## Loops\n",
    "Loops in Python (for- and while-loops) are largely similar to MATLAB and R loops, with some minor differences in  their syntax. Again, just like in conditionals, indentation is important: each line within your loop needs to be consistently indented. Also, loops do not contain a keyword (like `end` in Matlab) or bracket (like a curly bracket in *R*) that determines the end of the loop; this is just determined by the indentation."
   ]
  },
  {
   "cell_type": "markdown",
   "metadata": {},
   "source": [
    "### For loops\n",
    "For loops are constructs that allow to loop over a predetermined number of elements within an object. Below, you can see an example of a for loop over a list of strings:"
   ]
  },
  {
   "cell_type": "code",
   "execution_count": null,
   "metadata": {},
   "outputs": [],
   "source": [
    "animals = ['cat', 'dog', 'monkey']\n",
    "for animal in animals:\n",
    "    print(animal)"
   ]
  },
  {
   "cell_type": "markdown",
   "metadata": {},
   "source": [
    "Basically, each data type that is also an \"iterable\" (something that you can iterate over) can be used in loops, including lists, dictionaries, and tuples."
   ]
  },
  {
   "cell_type": "code",
   "execution_count": null,
   "metadata": {},
   "outputs": [],
   "source": [
    "# An example of looping over a list\n",
    "my_list = [1, 2, 3]\n",
    "for x in my_list:\n",
    "    print(x)"
   ]
  },
  {
   "cell_type": "markdown",
   "metadata": {},
   "source": [
    "MATLAB users might be used to looping over indices instead of the actual list values, like the following:\n",
    "\n",
    "```Matlab\n",
    "for i=1:100\n",
    "    disp(some_list(i));\n",
    "end\n",
    "```\n",
    "\n",
    "In Python, however, you loop (by default) over the contents of a list:\n",
    "\n",
    "```Python\n",
    "for entry in some_list:\n",
    "    print(entry)\n",
    "```\n",
    "    \n",
    "If you want to access for the value *and* the index, you can use the built-in `enumerate` function:"
   ]
  },
  {
   "cell_type": "code",
   "execution_count": null,
   "metadata": {},
   "outputs": [],
   "source": [
    "my_list = ['a', 'b', 'c']\n",
    "for index, value in enumerate(my_list):\n",
    "    \n",
    "    print('Loop iteration number (index) = %i, value = %s' % (index, value))\n",
    "\n",
    "# Don't forget that Python indexing starts at zero!"
   ]
  },
  {
   "cell_type": "markdown",
   "metadata": {},
   "source": [
    "Apart from lists, you can also loop over tuples:"
   ]
  },
  {
   "cell_type": "code",
   "execution_count": null,
   "metadata": {},
   "outputs": [],
   "source": [
    "# Looping over a tuple (exactly the same as looping over a list)\n",
    "my_tuple = (1, 2, 3)\n",
    "for x in my_tuple:\n",
    "    print(x)"
   ]
  },
  {
   "cell_type": "markdown",
   "metadata": {},
   "source": [
    "... and dictionaries:"
   ]
  },
  {
   "cell_type": "code",
   "execution_count": null,
   "metadata": {},
   "outputs": [],
   "source": [
    "# Iterating over a dictionary can be done in a couple of ways!\n",
    "my_dict = {'a': 1, 'b': 2, 'c': 3}\n",
    "\n",
    "# Looping over the keys ONLY\n",
    "for key in my_dict:\n",
    "    print(key)"
   ]
  },
  {
   "cell_type": "code",
   "execution_count": null,
   "metadata": {},
   "outputs": [],
   "source": [
    "# Looping over both the keys and the entries\n",
    "for key, entry in my_dict.items():\n",
    "    print(key, entry)"
   ]
  },
  {
   "cell_type": "markdown",
   "metadata": {},
   "source": [
    "<div class='alert alert-warning'>\n",
    "    <b>ToDo</b>: Complete the function below &mdash; named <tt>extract_values_smaller_than_0</tt> &mdash; that takes a single list with numbers as input and returns a new list with <em>only the values smaller than 0</em> from the input-list. For example, suppose our input-list is: [2, -5.3, 1.8, 0.0, -205.1, 6029]. Then, the function should return: [-5.3, -205.1].<br><br>Hint: use an if-statement in combination with the <tt>.append()</tt> method of the empty list we initialized below (<tt>list_to_return</tt>) to fill the <tt>list_to_return</tt> variable in a for-loop. In other words, the function should contain an if-statement in a for-loop (in which you need to use the <tt>.append()</tt> method).\n",
    "</div>"
   ]
  },
  {
   "cell_type": "code",
   "execution_count": null,
   "metadata": {
    "deletable": false,
    "nbgrader": {
     "cell_type": "code",
     "checksum": "5035c92ef7ece6290c4c2b1ab81a61f9",
     "grade": false,
     "grade_id": "cell-12b8cc33efcf2857",
     "locked": false,
     "schema_version": 3,
     "solution": true
    },
    "tags": [
     "hide-cell"
    ]
   },
   "outputs": [],
   "source": [
    "\"\"\" Implement the ToDo here. \"\"\"\n",
    "# Complete the function below (make sure to remove raise NotImplementedError!)\n",
    "def extract_values_smaller_than_0(input_list):\n",
    "    \n",
    "    # We initialize an empty list here (which you need to fill using a for-loop)\n",
    "    list_to_return = []\n",
    "    \n",
    "    # YOUR CODE HERE\n",
    "    raise NotImplementedError()\n",
    "    \n",
    "    return list_to_return"
   ]
  },
  {
   "cell_type": "code",
   "execution_count": null,
   "metadata": {
    "deletable": false,
    "editable": false,
    "nbgrader": {
     "cell_type": "code",
     "checksum": "c12a41896a7d1ee7aa60d833b1adf99e",
     "grade": true,
     "grade_id": "cell-edbdf3424641ffb9",
     "locked": true,
     "points": 0,
     "schema_version": 3,
     "solution": false
    }
   },
   "outputs": [],
   "source": [
    "\"\"\" Tests the ToDo above. \"\"\"\n",
    "inp = [-5, 2, 3, -8]\n",
    "outp = extract_values_smaller_than_0(inp)\n",
    "ans = [-5, -8]\n",
    "try:\n",
    "    assert(outp == ans)\n",
    "except AssertionError as e:\n",
    "    print(\"Your function  with input '%r' returned '%r', but I expected '%r'\" % (inp, outp, ans))\n",
    "    raise(e)\n",
    "    \n",
    "inp = [0, 2, -3]\n",
    "outp = extract_values_smaller_than_0(inp)\n",
    "ans = [-3]\n",
    "try:\n",
    "    assert(outp == ans)\n",
    "except AssertionError as e:\n",
    "    print(\"Your function  with input '%r' returned '%r', but I expected '%r'\" % (inp, outp, ans))\n",
    "    raise(e)\n",
    "\n",
    "inp = [0, 0, 0]\n",
    "outp = extract_values_smaller_than_0(inp)\n",
    "ans = []\n",
    "try:\n",
    "    assert(outp == ans)\n",
    "except AssertionError as e:\n",
    "    print(\"Your function  with input '%r' returned '%r', but I expected '%r'\" % (inp, outp, ans))\n",
    "    raise(e)\n",
    "\n",
    "print(\"EPIC! Well done!\")"
   ]
  },
  {
   "cell_type": "markdown",
   "metadata": {},
   "source": [
    "### While loops\n",
    "While loops are constructs that allow you to do something until a specific condition is met and are often used when you do not know the number of elements you want to loop over beforehand. For example, suppose we simulate a six-sided die roll using the `randint` (\"random integer\") function. We can use a while loop to keep \"rolling\" the die until we roll a six (i.e., the condition):"
   ]
  },
  {
   "cell_type": "code",
   "execution_count": null,
   "metadata": {},
   "outputs": [],
   "source": [
    "from random import randint\n",
    "\n",
    "# keep track of nr of rolls\n",
    "# (not necessary for the loop)\n",
    "i_rolls = 0  \n",
    "\n",
    "# Conditional right after the `while` statement!\n",
    "while randint(1, 6) != 6:\n",
    "    print(\"Still haven't rolled a 6 ...\")\n",
    "    # (Not strictly necessary, but nice to print out later)\n",
    "    i_rolls = i_rolls + 1\n",
    "    \n",
    "print(f\"It took {i_rolls} to roll a six!\")"
   ]
  },
  {
   "cell_type": "markdown",
   "metadata": {},
   "source": [
    "Instead of looping until the condition right after the while statement is met, you can also manually \"break out\" of the loop using the `break` keyword. For example, suppose you want to stop rolling the die after 3 rolls because it would otherwise take too long. You could implement this as follows:"
   ]
  },
  {
   "cell_type": "code",
   "execution_count": null,
   "metadata": {},
   "outputs": [],
   "source": [
    "i_rolls = 0  \n",
    "while randint(1, 6) != 6:\n",
    "    print(\"Still haven't rolled a 6 ...\")\n",
    "    i_rolls = i_rolls + 1\n",
    "    if i_rolls >= 3:\n",
    "        print(\"Takes too long! Breaking out ...\")\n",
    "        break  # break out of loop!"
   ]
  },
  {
   "cell_type": "markdown",
   "metadata": {},
   "source": [
    "Sometimes, you might see the `break` construct used in combination with a while loop that is always true (e.g., `while True: ...`; an \"infinite loop\"). For example, the first die roll example can also be implemented as follows:"
   ]
  },
  {
   "cell_type": "code",
   "execution_count": null,
   "metadata": {},
   "outputs": [],
   "source": [
    "i_rolls = 0  \n",
    "while True:\n",
    "    roll = randint(1, 6)\n",
    "    if roll == 6:\n",
    "        break\n",
    "    \n",
    "    print(\"Still haven't rolled a 6 ...\")\n",
    "    i_rolls = i_rolls + 1\n",
    "    \n",
    "print(f\"It took {i_rolls} to roll a six!\")"
   ]
  },
  {
   "cell_type": "markdown",
   "metadata": {},
   "source": [
    "Both implementations are fine; it's up to you what you prefer."
   ]
  },
  {
   "cell_type": "markdown",
   "metadata": {},
   "source": [
    "<div class='alert alert-success'>\n",
    "    <b>Tip</b>: the <tt>break</tt> keyword also works in for loops! You can use this if you want to terminate the loop earlier than expected.\n",
    "</div>"
   ]
  },
  {
   "cell_type": "markdown",
   "metadata": {},
   "source": [
    "<div class='alert alert-warning'>\n",
    "    <b>ToDo</b>: Below, we created a function, <tt>random_string</tt>, which creates a random five-letter string. Create a while-loop that loops until a random string has been created that starts with \"A\" and ends with \"Z\". (No test cell.)\n",
    "</div>"
   ]
  },
  {
   "cell_type": "code",
   "execution_count": null,
   "metadata": {
    "deletable": false,
    "nbgrader": {
     "cell_type": "code",
     "checksum": "c1719175df4c7e6900feac0b840f25f9",
     "grade": false,
     "grade_id": "cell-011168f7bb356c50",
     "locked": false,
     "schema_version": 3,
     "solution": true,
     "task": false
    },
    "tags": [
     "hide-cell"
    ]
   },
   "outputs": [],
   "source": [
    "\"\"\" Implement the ToDo here. \"\"\"\n",
    "import string\n",
    "from random import choice\n",
    "\n",
    "def random_string():\n",
    "    \"\"\" Generates a 5 letter random string. \"\"\"\n",
    "    rs = ''.join(choice(string.ascii_uppercase) for _ in range(5))\n",
    "    return rs\n",
    "\n",
    "# YOUR CODE HERE\n",
    "raise NotImplementedError()"
   ]
  },
  {
   "cell_type": "markdown",
   "metadata": {},
   "source": [
    "<div class='alert alert-danger'>\n",
    "    <b>Warning</b>: Sometimes, you might run an infinite loop without a way to \"break out\" of it. When doing so in a (non-interactive) Python script, you can simply press control + C on your keyboard to interrupt the script, but in Jupyter notebooks, this doesn't work. Instead, you need to click on the \"stop\" button (next to the \"run\" button) to interrupt the cell! If even that doesn't work, you need to stop the entire kernel: <em>Kernel</em> &rarr; <em>Restart Kernel</em> (or <em>Shut Down Kernel</em>). \n",
    "</div>"
   ]
  },
  {
   "cell_type": "markdown",
   "metadata": {},
   "source": [
    "### Advanced for loops: list comprehensions (optional)\n",
    "Sometimes, writing (and reading!) for-loops can be confusing and lead to \"ugly\" code. Wouldn't it be nice to represent (small) for-loops on a single line? Python has a way to do this: using what is called `list comprehensions`. It does exactly the same thing as a for-loop: it takes a list, iterates over its entries (and does something with each entry), and (optionally) returns a (modified) list. \n",
    "\n",
    "Let's look at an arbitrary example of a for-loop over a list:"
   ]
  },
  {
   "cell_type": "code",
   "execution_count": null,
   "metadata": {},
   "outputs": [],
   "source": [
    "nums = [0, 1, 2, 3, 4]\n",
    "\n",
    "# Also, check out the way 'enumerate' is used here!\n",
    "for index, x in enumerate(nums):\n",
    "    nums[index] = x ** 2\n",
    "\n",
    "print(nums)"
   ]
  },
  {
   "cell_type": "markdown",
   "metadata": {},
   "source": [
    "You can make this code simpler using a list comprehension:"
   ]
  },
  {
   "cell_type": "code",
   "execution_count": null,
   "metadata": {},
   "outputs": [],
   "source": [
    "nums = [0, 1, 2, 3, 4]\n",
    "squares = [x ** 2 for x in nums]  # importantly, a list comprehension always returns a (modified) list!\n",
    "print(squares)"
   ]
  },
  {
   "cell_type": "markdown",
   "metadata": {},
   "source": [
    "Also, list comprehensions may contain if-statements!"
   ]
  },
  {
   "cell_type": "code",
   "execution_count": null,
   "metadata": {},
   "outputs": [],
   "source": [
    "string_nums = ['one', 'two', 'three']\n",
    "starts_with_t = ['yes' if s[0] == 't' else 'no' for s in string_nums]\n",
    "print(starts_with_t)"
   ]
  },
  {
   "cell_type": "markdown",
   "metadata": {},
   "source": [
    "<div class='alert alert-warning'>\n",
    "    <b>ToDo</b> (optional): Write a list comprehension that adds the string <tt>'_check'</tt> to each value in the list <tt>my_list</tt> below, except if the value is 'B'. Store the result in a new variable named <tt>my_list_checked</tt>. Note that (in this particular use of list-comprehensions) you always need <em>both</em> a \"if ..\" part <em>and</em> an \"else ...\" part! So, can you think of a way to add nothing to a string (i.e., the \"else ...\", when the element is not 'B', part of this list comprehension)?\n",
    "</div>"
   ]
  },
  {
   "cell_type": "code",
   "execution_count": null,
   "metadata": {
    "deletable": false,
    "nbgrader": {
     "cell_type": "code",
     "checksum": "21a64aad641917967fa06428a61c3c97",
     "grade": false,
     "grade_id": "cell-67702630da9410f5",
     "locked": false,
     "schema_version": 3,
     "solution": true,
     "task": false
    },
    "tags": [
     "hide-cell"
    ]
   },
   "outputs": [],
   "source": [
    "\"\"\" Implement the ToDo below (no test cell). \"\"\"\n",
    "my_list = ['A', 'B', 'C', 'D']\n",
    "# YOUR CODE HERE\n",
    "raise NotImplementedError()"
   ]
  },
  {
   "cell_type": "code",
   "execution_count": null,
   "metadata": {
    "deletable": false,
    "editable": false,
    "nbgrader": {
     "cell_type": "code",
     "checksum": "7c47f630755390119894f29555920e91",
     "grade": true,
     "grade_id": "cell-ce566d10a2d2fa8d",
     "locked": true,
     "points": 0,
     "schema_version": 3,
     "solution": false,
     "task": false
    }
   },
   "outputs": [],
   "source": [
    "\"\"\" Tests the above ToDo. \"\"\"\n",
    "for orig, new in zip(my_list, my_list_checked):\n",
    "    if orig == 'B':\n",
    "        assert(orig == new)\n",
    "    else:\n",
    "        assert(f'{orig}_check' == new)\n",
    "\n",
    "print(\"Alright! Well done!\")"
   ]
  },
  {
   "cell_type": "markdown",
   "metadata": {},
   "source": [
    "In addition to *list* comprehensions, Python also features *dictionary* comprehensions, *set* comprehensions, and *generator* comprehensions. As we haven't discussed sets and generators (as these are somewhat more advanced and/or niche concepts), let's check out an example of a dictionary comprehension. For example, suppose I want to initialize a dictionary with names of students as keys and an empty list as values (which will, at some point, be populated by grades for different assignments). I can do this using a dictionary comprehension:"
   ]
  },
  {
   "cell_type": "code",
   "execution_count": null,
   "metadata": {},
   "outputs": [],
   "source": [
    "names = ['billy', 'sara', 'amir']\n",
    "grades = {name: [] for name in names}\n",
    "print(grades)\n",
    "# This is the same as below:\n",
    "# grades = {}\n",
    "# for name in names:\n",
    "#     grades[name] = []"
   ]
  },
  {
   "cell_type": "markdown",
   "metadata": {},
   "source": [
    "List and dictionary comprehensions are more advanced Python concepts, so if you don't feel comfortable using them (correctly) in your future assignments, use regular for-loops by all means!"
   ]
  },
  {
   "cell_type": "markdown",
   "metadata": {},
   "source": [
    "## A challenging exercise (optional)\n",
    "For those that a challenge, try the following (very) difficult ToDo!"
   ]
  },
  {
   "cell_type": "markdown",
   "metadata": {},
   "source": [
    "<div class='alert alert-warning'>\n",
    "    <b>ToDo</b>: When developing a new experiment, you may want to control the order and frequency of trials from different conditions such that the experiment does not become too predictable and does not feature more trials from one condition than another. Write a function that generates a list with a random sequence of trials from two conditions (either condition <tt>0</tt> or condition <tt>1</tt>). The number of trials in total is an argument to the function (<tt>n_trials</tt>) and may vary, but you may assume that it is an even number (and thus divisible by the number of conditions). The output of the function is a random list of numbers (either 0 or 1), for example: <tt>[0, 0, 1, 0, 1, 1, 0, 1, 0, 1, 0, 0, ..., 1, 1, 0]</tt>. There are, however, two conditions:\n",
    "    \n",
    "1. Each condition should have the same amount of trials;\n",
    "2. Each condition should have the same probability of being followed by any condition (often called \"counterbalancing\").\n",
    "   \n",
    "Condition 2 means that for a given trial of, for example, condition <tt>1</tt>, there is a 50% probability that this trial is followed by a trial of condition <tt>0</tt> and a 50% probability that this trial is followed by a trial of condition <tt>1</tt>. Note that it is impossible to <em>completely</em> counterbalance this proportion, because the last trial does not have trial after itself. Therefore, the counterbalancing may be off by 1 trial. \n",
    "</div>"
   ]
  },
  {
   "cell_type": "code",
   "execution_count": null,
   "metadata": {
    "deletable": false,
    "nbgrader": {
     "cell_type": "code",
     "checksum": "3e05eef41813432de9e9a87fc9e57e40",
     "grade": false,
     "grade_id": "cell-c49350389f6072cc",
     "locked": false,
     "schema_version": 3,
     "solution": true,
     "task": false
    },
    "tags": [
     "hide-cell"
    ]
   },
   "outputs": [],
   "source": [
    "\"\"\" Complete the function below. \"\"\"\n",
    "import random\n",
    "\n",
    "def generate_experiment_sequence(n_trials=40):\n",
    "    \"\"\" Generates a sequence of trials across `n_cond` conditions.\n",
    "    \n",
    "    Parameters\n",
    "    ----------\n",
    "    n_cond : int\n",
    "        Number of conditions\n",
    "        \n",
    "    Returns\n",
    "    -------\n",
    "    exp_seq : list\n",
    "        List of experimental sequence\n",
    "    \"\"\"\n",
    "    \n",
    "    # YOUR CODE HERE\n",
    "    raise NotImplementedError()"
   ]
  },
  {
   "cell_type": "code",
   "execution_count": null,
   "metadata": {
    "deletable": false,
    "editable": false,
    "nbgrader": {
     "cell_type": "code",
     "checksum": "bd830fd543cf72ffc46aa4a0f80a46e5",
     "grade": true,
     "grade_id": "cell-adb6f09735d3990d",
     "locked": true,
     "points": 0,
     "schema_version": 3,
     "solution": false,
     "task": false
    }
   },
   "outputs": [],
   "source": [
    "\"\"\" Tests the above ToDo. \"\"\"\n",
    "import numpy as np\n",
    "\n",
    "# Check for multiple amounts of trials\n",
    "for n_trials in [20, 40, 60, 80]:\n",
    "\n",
    "    # I'm using numpy because I'm lazy\n",
    "    seq = np.asarray(generate_experiment_sequence(n_trials))\n",
    "\n",
    "    # Check equal frequencies\n",
    "    assert(seq[seq == 0].size == seq[seq == 1].size)\n",
    "    \n",
    "    # Check counterbalancing\n",
    "    # Compute proportion of 0 trials\n",
    "    prop0 = seq[np.where(seq[:-1] == 0)[0] + 1].mean()\n",
    "    \n",
    "    # eps = \"epsilon\" (tolerance)\n",
    "    eps = 1 / (n_trials / 2)\n",
    "    \n",
    "    # Check if worse than tolerance\n",
    "    if abs(prop0 - 0.5) > eps:\n",
    "        raise ValueError(\"Not correctly counterbalanced\")\n",
    "\n",
    "print(\"CORRECT! THIS IS AMAZING!\")"
   ]
  },
  {
   "cell_type": "markdown",
   "metadata": {},
   "source": [
    "Alright! That was it for this tutorial. We discussed the most important syntax, data types, and constructs in Python. Sure, there are things that we haven't discussed (e.g., [sets](https://realpython.com/python-sets/), [generators](https://realpython.com/introduction-to-python-generators/), [inheritance](https://realpython.com/inheritance-composition-python/), [decorators](https://realpython.com/primer-on-python-decorators/) and so on), but the material from this tutorial should be enough to get you started with Python (and the next tutorials)!\n",
    "\n",
    "You can continue with the next one about *Matplotlib* if you're ready!"
   ]
  }
 ],
 "metadata": {
  "kernelspec": {
   "display_name": "Python 3",
   "language": "python",
   "name": "python3"
  },
  "language_info": {
   "codemirror_mode": {
    "name": "ipython",
    "version": 3
   },
   "file_extension": ".py",
   "mimetype": "text/x-python",
   "name": "python",
   "nbconvert_exporter": "python",
   "pygments_lexer": "ipython3",
   "version": "3.8.5"
  },
  "toc": {
   "base_numbering": 1,
   "nav_menu": {},
   "number_sections": true,
   "sideBar": true,
   "skip_h1_title": true,
   "title_cell": "Table of Contents",
   "title_sidebar": "Contents",
   "toc_cell": false,
   "toc_position": {},
   "toc_section_display": true,
   "toc_window_display": false
  }
 },
 "nbformat": 4,
 "nbformat_minor": 4
}
